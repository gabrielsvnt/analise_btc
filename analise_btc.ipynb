{
 "cells": [
  {
   "cell_type": "markdown",
   "metadata": {
    "application/vnd.databricks.v1+cell": {
     "cellMetadata": {},
     "inputWidgets": {},
     "nuid": "708ecb78-4fb2-41f5-927d-3cc6a4f81035",
     "showTitle": false,
     "tableResultSettingsMap": {},
     "title": ""
    }
   },
   "source": [
    "# Criando um DataFrame"
   ]
  },
  {
   "cell_type": "code",
   "execution_count": 0,
   "metadata": {
    "application/vnd.databricks.v1+cell": {
     "cellMetadata": {},
     "inputWidgets": {},
     "nuid": "181f8fca-3e5c-4b19-beec-efd14b311822",
     "showTitle": false,
     "tableResultSettingsMap": {},
     "title": ""
    }
   },
   "outputs": [],
   "source": [
    "!pip install pandas"
   ]
  },
  {
   "cell_type": "code",
   "execution_count": 0,
   "metadata": {
    "application/vnd.databricks.v1+cell": {
     "cellMetadata": {
      "byteLimit": 2048000,
      "rowLimit": 10000
     },
     "inputWidgets": {},
     "nuid": "a2af66be-1650-4635-ae72-ecc5ad161781",
     "showTitle": false,
     "tableResultSettingsMap": {},
     "title": ""
    }
   },
   "outputs": [
    {
     "output_type": "display_data",
     "data": {
      "text/html": [
       "<style scoped>\n",
       "  .table-result-container {\n",
       "    max-height: 300px;\n",
       "    overflow: auto;\n",
       "  }\n",
       "  table, th, td {\n",
       "    border: 1px solid black;\n",
       "    border-collapse: collapse;\n",
       "  }\n",
       "  th, td {\n",
       "    padding: 5px;\n",
       "  }\n",
       "  th {\n",
       "    text-align: left;\n",
       "  }\n",
       "</style><div class='table-result-container'><table class='table-result'><thead style='background-color: white'><tr><th>cliente</th><th>data_compra</th><th>preco_btc</th><th>quantidade_btc</th></tr></thead><tbody><tr><td>Sherry Decker</td><td>2025-01-26T00:00:00.000+0000</td><td>526338.91</td><td>0.75138</td></tr><tr><td>Gerald Hensley</td><td>2024-12-09T00:00:00.000+0000</td><td>663110.3</td><td>0.34418</td></tr><tr><td>Timothy Duncan</td><td>2024-09-26T00:00:00.000+0000</td><td>620115.11</td><td>0.46826</td></tr><tr><td>Matthew Foster</td><td>2024-09-19T00:00:00.000+0000</td><td>655694.97</td><td>1.02724</td></tr><tr><td>Jeffrey Chavez</td><td>2024-08-19T00:00:00.000+0000</td><td>642216.0</td><td>0.09623</td></tr><tr><td>Angie Henderson</td><td>2024-08-03T00:00:00.000+0000</td><td>674066.77</td><td>0.8185</td></tr><tr><td>William Baker</td><td>2024-07-21T00:00:00.000+0000</td><td>665345.55</td><td>0.96962</td></tr><tr><td>Richard Aguirre</td><td>2024-07-14T00:00:00.000+0000</td><td>664987.81</td><td>0.65771</td></tr><tr><td>Margaret Hawkins DDS</td><td>2024-07-08T00:00:00.000+0000</td><td>626697.78</td><td>1.40505</td></tr><tr><td>Holly Wood</td><td>2024-06-01T00:00:00.000+0000</td><td>622789.83</td><td>0.43479</td></tr><tr><td>Zachary Hicks</td><td>2024-05-08T00:00:00.000+0000</td><td>649923.13</td><td>1.32714</td></tr><tr><td>Patty Perez</td><td>2024-04-08T00:00:00.000+0000</td><td>607140.25</td><td>0.95283</td></tr><tr><td>Anthony Rodriguez</td><td>2024-03-18T00:00:00.000+0000</td><td>645885.19</td><td>0.39806</td></tr><tr><td>Allison Hill</td><td>2024-03-04T00:00:00.000+0000</td><td>611133.11</td><td>1.11258</td></tr><tr><td>Dylan Miller</td><td>2024-01-19T00:00:00.000+0000</td><td>661851.98</td><td>1.2927</td></tr><tr><td>Angelica Tucker</td><td>2024-01-06T00:00:00.000+0000</td><td>629844.48</td><td>0.95879</td></tr><tr><td>Brian Rodriguez</td><td>2023-12-12T00:00:00.000+0000</td><td>206234.69</td><td>0.9864</td></tr><tr><td>Philip Cannon</td><td>2023-10-31T00:00:00.000+0000</td><td>243651.55</td><td>0.5615</td></tr><tr><td>Daniel Wagner</td><td>2023-08-16T00:00:00.000+0000</td><td>315014.98</td><td>0.04567</td></tr><tr><td>James Ferrell</td><td>2023-07-23T00:00:00.000+0000</td><td>317098.82</td><td>0.87572</td></tr><tr><td>Zachary Ferrell</td><td>2023-07-01T00:00:00.000+0000</td><td>415435.9</td><td>0.09238</td></tr><tr><td>Brian Ramirez</td><td>2023-06-23T00:00:00.000+0000</td><td>241532.35</td><td>0.10526</td></tr><tr><td>Amber Kidd</td><td>2023-05-28T00:00:00.000+0000</td><td>364387.73</td><td>0.36525</td></tr><tr><td>Matthew Mcmillan</td><td>2023-05-23T00:00:00.000+0000</td><td>258788.91</td><td>0.89218</td></tr><tr><td>Stephanie Ross</td><td>2023-05-13T00:00:00.000+0000</td><td>460437.64</td><td>0.4727</td></tr><tr><td>Jessica Holmes</td><td>2023-05-13T00:00:00.000+0000</td><td>483023.82</td><td>0.12939</td></tr><tr><td>Denise Jacobs</td><td>2023-05-05T00:00:00.000+0000</td><td>347290.47</td><td>1.40212</td></tr><tr><td>Deborah Figueroa</td><td>2023-04-26T00:00:00.000+0000</td><td>498750.86</td><td>0.11082</td></tr><tr><td>Connie Lawrence</td><td>2023-04-18T00:00:00.000+0000</td><td>243628.05</td><td>0.97518</td></tr><tr><td>Michael Evans</td><td>2023-03-27T00:00:00.000+0000</td><td>391798.82</td><td>0.73052</td></tr><tr><td>Abigail Shaffer</td><td>2023-02-11T00:00:00.000+0000</td><td>314246.34</td><td>0.67436</td></tr><tr><td>Jessica Callahan</td><td>2023-01-18T00:00:00.000+0000</td><td>222339.79</td><td>1.40334</td></tr><tr><td>Brittany Farmer</td><td>2023-01-09T00:00:00.000+0000</td><td>420280.9</td><td>1.15313</td></tr><tr><td>Ethan Adams</td><td>2022-12-28T00:00:00.000+0000</td><td>353320.58</td><td>0.24594</td></tr><tr><td>Crystal Robinson</td><td>2022-12-22T00:00:00.000+0000</td><td>365067.02</td><td>0.19346</td></tr><tr><td>Shane Henderson</td><td>2022-12-13T00:00:00.000+0000</td><td>413917.92</td><td>0.89882</td></tr><tr><td>Shannon Jones</td><td>2022-12-02T00:00:00.000+0000</td><td>399178.57</td><td>0.63528</td></tr><tr><td>Brent Jordan</td><td>2022-10-21T00:00:00.000+0000</td><td>264475.57</td><td>0.37261</td></tr><tr><td>Nathan Maldonado</td><td>2022-09-19T00:00:00.000+0000</td><td>277925.07</td><td>1.13392</td></tr><tr><td>Shirley Suarez</td><td>2022-08-22T00:00:00.000+0000</td><td>414203.88</td><td>0.79716</td></tr><tr><td>Joshua Blair</td><td>2022-06-25T00:00:00.000+0000</td><td>126232.56</td><td>1.39372</td></tr><tr><td>Danny Morgan</td><td>2022-06-14T00:00:00.000+0000</td><td>381127.44</td><td>1.467</td></tr><tr><td>Mark Perez</td><td>2022-05-01T00:00:00.000+0000</td><td>422991.58</td><td>0.24853</td></tr><tr><td>Tracy House</td><td>2022-04-22T00:00:00.000+0000</td><td>378399.04</td><td>0.28642</td></tr><tr><td>Lauren Daniels</td><td>2022-03-10T00:00:00.000+0000</td><td>199938.06</td><td>1.38498</td></tr><tr><td>Lisa Hensley</td><td>2022-02-25T00:00:00.000+0000</td><td>291592.99</td><td>1.4597</td></tr><tr><td>Fred Smith</td><td>2022-02-02T00:00:00.000+0000</td><td>121038.5</td><td>1.08342</td></tr><tr><td>Brittney Phillips</td><td>2022-01-12T00:00:00.000+0000</td><td>164858.34</td><td>0.27605</td></tr><tr><td>Amy Silva</td><td>2021-12-21T00:00:00.000+0000</td><td>577134.24</td><td>1.28409</td></tr><tr><td>James Brown</td><td>2021-08-11T00:00:00.000+0000</td><td>358895.79</td><td>1.09388</td></tr><tr><td>Sherri Baker</td><td>2021-04-13T00:00:00.000+0000</td><td>441368.59</td><td>0.70261</td></tr><tr><td>Lisa Jackson</td><td>2021-04-06T00:00:00.000+0000</td><td>237903.11</td><td>0.95389</td></tr><tr><td>Tommy Walter</td><td>2021-04-04T00:00:00.000+0000</td><td>232766.61</td><td>1.38816</td></tr><tr><td>Michele Williams</td><td>2021-03-31T00:00:00.000+0000</td><td>110432.13</td><td>0.44047</td></tr><tr><td>Carla Gray</td><td>2021-02-03T00:00:00.000+0000</td><td>164098.62</td><td>0.53355</td></tr><tr><td>Tricia Valencia</td><td>2021-01-22T00:00:00.000+0000</td><td>200365.29</td><td>1.49631</td></tr><tr><td>Stephen Mckee</td><td>2020-11-30T00:00:00.000+0000</td><td>111660.49</td><td>1.31903</td></tr><tr><td>Jamie Arnold</td><td>2020-11-09T00:00:00.000+0000</td><td>92260.82</td><td>1.21089</td></tr><tr><td>Paula Moreno</td><td>2020-10-25T00:00:00.000+0000</td><td>57808.65</td><td>0.65271</td></tr><tr><td>Justin Baker</td><td>2020-07-16T00:00:00.000+0000</td><td>78081.54</td><td>0.10022</td></tr><tr><td>Daniel Baker</td><td>2020-07-08T00:00:00.000+0000</td><td>54001.57</td><td>0.87668</td></tr><tr><td>Eric Carney</td><td>2020-06-13T00:00:00.000+0000</td><td>66761.66</td><td>0.36207</td></tr><tr><td>Anna Henderson</td><td>2020-05-13T00:00:00.000+0000</td><td>82005.72</td><td>1.3936</td></tr><tr><td>Mike Allen</td><td>2020-03-14T00:00:00.000+0000</td><td>79610.52</td><td>1.43602</td></tr><tr><td>Gina Moore</td><td>2020-02-14T00:00:00.000+0000</td><td>106660.13</td><td>0.01074</td></tr><tr><td>John Whitehead</td><td>2019-12-24T00:00:00.000+0000</td><td>47705.01</td><td>1.00786</td></tr><tr><td>Kelly Donovan</td><td>2019-12-23T00:00:00.000+0000</td><td>84856.27</td><td>1.17791</td></tr><tr><td>Cassandra Gaines</td><td>2019-10-27T00:00:00.000+0000</td><td>87975.49</td><td>1.29131</td></tr><tr><td>Rebecca Henderson</td><td>2019-10-08T00:00:00.000+0000</td><td>72149.23</td><td>0.80893</td></tr><tr><td>Noah Rhodes</td><td>2019-10-01T00:00:00.000+0000</td><td>35624.75</td><td>1.10497</td></tr><tr><td>Donald Wright</td><td>2019-09-02T00:00:00.000+0000</td><td>39493.41</td><td>0.72864</td></tr><tr><td>Megan Young</td><td>2019-08-27T00:00:00.000+0000</td><td>31641.78</td><td>0.72898</td></tr><tr><td>Aimee Montoya</td><td>2019-08-22T00:00:00.000+0000</td><td>48264.29</td><td>1.41245</td></tr><tr><td>Victoria Garcia</td><td>2019-08-01T00:00:00.000+0000</td><td>61190.81</td><td>0.01178</td></tr><tr><td>Cristian Santos</td><td>2019-06-15T00:00:00.000+0000</td><td>36286.26</td><td>0.90343</td></tr><tr><td>Steve Sanchez</td><td>2019-05-26T00:00:00.000+0000</td><td>80525.53</td><td>1.35376</td></tr><tr><td>Jessica Smith</td><td>2019-05-24T00:00:00.000+0000</td><td>55411.93</td><td>0.19955</td></tr><tr><td>Michael Lewis</td><td>2019-05-18T00:00:00.000+0000</td><td>85023.94</td><td>1.13314</td></tr><tr><td>Christina Walters</td><td>2019-04-17T00:00:00.000+0000</td><td>66880.82</td><td>0.47196</td></tr><tr><td>Paul Jones</td><td>2019-02-17T00:00:00.000+0000</td><td>40769.55</td><td>1.4531</td></tr><tr><td>Lisa Archer</td><td>2019-02-01T00:00:00.000+0000</td><td>24796.49</td><td>0.10287</td></tr><tr><td>Anthony Humphrey</td><td>2019-01-02T00:00:00.000+0000</td><td>55537.72</td><td>0.16051</td></tr><tr><td>Lisa Barnes</td><td>2018-11-06T00:00:00.000+0000</td><td>56591.69</td><td>1.47798</td></tr><tr><td>John Pierce</td><td>2018-10-24T00:00:00.000+0000</td><td>70386.6</td><td>1.16816</td></tr><tr><td>Gabrielle Davis</td><td>2018-10-16T00:00:00.000+0000</td><td>84039.99</td><td>0.51104</td></tr><tr><td>Ryan Munoz</td><td>2018-09-29T00:00:00.000+0000</td><td>42516.98</td><td>1.14548</td></tr><tr><td>Debra Davidson</td><td>2018-03-26T00:00:00.000+0000</td><td>37144.35</td><td>0.24081</td></tr><tr><td>Whitney Peters</td><td>2018-03-24T00:00:00.000+0000</td><td>45384.44</td><td>0.28612</td></tr><tr><td>Monica Herrera</td><td>2018-02-23T00:00:00.000+0000</td><td>31976.14</td><td>0.14598</td></tr><tr><td>Sarah Moore</td><td>2018-02-06T00:00:00.000+0000</td><td>28350.6</td><td>1.49892</td></tr><tr><td>Carol Tucker</td><td>2018-02-02T00:00:00.000+0000</td><td>80672.52</td><td>0.53209</td></tr><tr><td>Derek Zuniga</td><td>2017-11-23T00:00:00.000+0000</td><td>112059.4</td><td>1.29986</td></tr><tr><td>Aaron Wise</td><td>2017-10-25T00:00:00.000+0000</td><td>7155.12</td><td>0.93212</td></tr><tr><td>John Daniel</td><td>2017-09-20T00:00:00.000+0000</td><td>47922.61</td><td>0.88287</td></tr><tr><td>Jordan Henderson</td><td>2017-09-06T00:00:00.000+0000</td><td>55925.04</td><td>0.50961</td></tr><tr><td>Christopher Bass</td><td>2017-08-21T00:00:00.000+0000</td><td>125136.58</td><td>0.12109</td></tr><tr><td>Judy Baker</td><td>2017-08-18T00:00:00.000+0000</td><td>34401.96</td><td>0.04912</td></tr><tr><td>Connor West</td><td>2017-05-09T00:00:00.000+0000</td><td>112594.79</td><td>0.10722</td></tr><tr><td>Angela Lopez</td><td>2017-03-02T00:00:00.000+0000</td><td>126155.54</td><td>1.38962</td></tr><tr><td>Elizabeth Fowler</td><td>2017-02-17T00:00:00.000+0000</td><td>90355.14</td><td>0.17271</td></tr></tbody></table></div>"
      ]
     },
     "metadata": {
      "application/vnd.databricks.v1+output": {
       "addedWidgets": {},
       "aggData": [],
       "aggError": "",
       "aggOverflow": false,
       "aggSchema": [],
       "aggSeriesLimitReached": false,
       "aggType": "",
       "arguments": {},
       "columnCustomDisplayInfos": {},
       "data": [
        [
         "Sherry Decker",
         "2025-01-26T00:00:00.000+0000",
         526338.91,
         0.75138
        ],
        [
         "Gerald Hensley",
         "2024-12-09T00:00:00.000+0000",
         663110.3,
         0.34418
        ],
        [
         "Timothy Duncan",
         "2024-09-26T00:00:00.000+0000",
         620115.11,
         0.46826
        ],
        [
         "Matthew Foster",
         "2024-09-19T00:00:00.000+0000",
         655694.97,
         1.02724
        ],
        [
         "Jeffrey Chavez",
         "2024-08-19T00:00:00.000+0000",
         642216.0,
         0.09623
        ],
        [
         "Angie Henderson",
         "2024-08-03T00:00:00.000+0000",
         674066.77,
         0.8185
        ],
        [
         "William Baker",
         "2024-07-21T00:00:00.000+0000",
         665345.55,
         0.96962
        ],
        [
         "Richard Aguirre",
         "2024-07-14T00:00:00.000+0000",
         664987.81,
         0.65771
        ],
        [
         "Margaret Hawkins DDS",
         "2024-07-08T00:00:00.000+0000",
         626697.78,
         1.40505
        ],
        [
         "Holly Wood",
         "2024-06-01T00:00:00.000+0000",
         622789.83,
         0.43479
        ],
        [
         "Zachary Hicks",
         "2024-05-08T00:00:00.000+0000",
         649923.13,
         1.32714
        ],
        [
         "Patty Perez",
         "2024-04-08T00:00:00.000+0000",
         607140.25,
         0.95283
        ],
        [
         "Anthony Rodriguez",
         "2024-03-18T00:00:00.000+0000",
         645885.19,
         0.39806
        ],
        [
         "Allison Hill",
         "2024-03-04T00:00:00.000+0000",
         611133.11,
         1.11258
        ],
        [
         "Dylan Miller",
         "2024-01-19T00:00:00.000+0000",
         661851.98,
         1.2927
        ],
        [
         "Angelica Tucker",
         "2024-01-06T00:00:00.000+0000",
         629844.48,
         0.95879
        ],
        [
         "Brian Rodriguez",
         "2023-12-12T00:00:00.000+0000",
         206234.69,
         0.9864
        ],
        [
         "Philip Cannon",
         "2023-10-31T00:00:00.000+0000",
         243651.55,
         0.5615
        ],
        [
         "Daniel Wagner",
         "2023-08-16T00:00:00.000+0000",
         315014.98,
         0.04567
        ],
        [
         "James Ferrell",
         "2023-07-23T00:00:00.000+0000",
         317098.82,
         0.87572
        ],
        [
         "Zachary Ferrell",
         "2023-07-01T00:00:00.000+0000",
         415435.9,
         0.09238
        ],
        [
         "Brian Ramirez",
         "2023-06-23T00:00:00.000+0000",
         241532.35,
         0.10526
        ],
        [
         "Amber Kidd",
         "2023-05-28T00:00:00.000+0000",
         364387.73,
         0.36525
        ],
        [
         "Matthew Mcmillan",
         "2023-05-23T00:00:00.000+0000",
         258788.91,
         0.89218
        ],
        [
         "Stephanie Ross",
         "2023-05-13T00:00:00.000+0000",
         460437.64,
         0.4727
        ],
        [
         "Jessica Holmes",
         "2023-05-13T00:00:00.000+0000",
         483023.82,
         0.12939
        ],
        [
         "Denise Jacobs",
         "2023-05-05T00:00:00.000+0000",
         347290.47,
         1.40212
        ],
        [
         "Deborah Figueroa",
         "2023-04-26T00:00:00.000+0000",
         498750.86,
         0.11082
        ],
        [
         "Connie Lawrence",
         "2023-04-18T00:00:00.000+0000",
         243628.05,
         0.97518
        ],
        [
         "Michael Evans",
         "2023-03-27T00:00:00.000+0000",
         391798.82,
         0.73052
        ],
        [
         "Abigail Shaffer",
         "2023-02-11T00:00:00.000+0000",
         314246.34,
         0.67436
        ],
        [
         "Jessica Callahan",
         "2023-01-18T00:00:00.000+0000",
         222339.79,
         1.40334
        ],
        [
         "Brittany Farmer",
         "2023-01-09T00:00:00.000+0000",
         420280.9,
         1.15313
        ],
        [
         "Ethan Adams",
         "2022-12-28T00:00:00.000+0000",
         353320.58,
         0.24594
        ],
        [
         "Crystal Robinson",
         "2022-12-22T00:00:00.000+0000",
         365067.02,
         0.19346
        ],
        [
         "Shane Henderson",
         "2022-12-13T00:00:00.000+0000",
         413917.92,
         0.89882
        ],
        [
         "Shannon Jones",
         "2022-12-02T00:00:00.000+0000",
         399178.57,
         0.63528
        ],
        [
         "Brent Jordan",
         "2022-10-21T00:00:00.000+0000",
         264475.57,
         0.37261
        ],
        [
         "Nathan Maldonado",
         "2022-09-19T00:00:00.000+0000",
         277925.07,
         1.13392
        ],
        [
         "Shirley Suarez",
         "2022-08-22T00:00:00.000+0000",
         414203.88,
         0.79716
        ],
        [
         "Joshua Blair",
         "2022-06-25T00:00:00.000+0000",
         126232.56,
         1.39372
        ],
        [
         "Danny Morgan",
         "2022-06-14T00:00:00.000+0000",
         381127.44,
         1.467
        ],
        [
         "Mark Perez",
         "2022-05-01T00:00:00.000+0000",
         422991.58,
         0.24853
        ],
        [
         "Tracy House",
         "2022-04-22T00:00:00.000+0000",
         378399.04,
         0.28642
        ],
        [
         "Lauren Daniels",
         "2022-03-10T00:00:00.000+0000",
         199938.06,
         1.38498
        ],
        [
         "Lisa Hensley",
         "2022-02-25T00:00:00.000+0000",
         291592.99,
         1.4597
        ],
        [
         "Fred Smith",
         "2022-02-02T00:00:00.000+0000",
         121038.5,
         1.08342
        ],
        [
         "Brittney Phillips",
         "2022-01-12T00:00:00.000+0000",
         164858.34,
         0.27605
        ],
        [
         "Amy Silva",
         "2021-12-21T00:00:00.000+0000",
         577134.24,
         1.28409
        ],
        [
         "James Brown",
         "2021-08-11T00:00:00.000+0000",
         358895.79,
         1.09388
        ],
        [
         "Sherri Baker",
         "2021-04-13T00:00:00.000+0000",
         441368.59,
         0.70261
        ],
        [
         "Lisa Jackson",
         "2021-04-06T00:00:00.000+0000",
         237903.11,
         0.95389
        ],
        [
         "Tommy Walter",
         "2021-04-04T00:00:00.000+0000",
         232766.61,
         1.38816
        ],
        [
         "Michele Williams",
         "2021-03-31T00:00:00.000+0000",
         110432.13,
         0.44047
        ],
        [
         "Carla Gray",
         "2021-02-03T00:00:00.000+0000",
         164098.62,
         0.53355
        ],
        [
         "Tricia Valencia",
         "2021-01-22T00:00:00.000+0000",
         200365.29,
         1.49631
        ],
        [
         "Stephen Mckee",
         "2020-11-30T00:00:00.000+0000",
         111660.49,
         1.31903
        ],
        [
         "Jamie Arnold",
         "2020-11-09T00:00:00.000+0000",
         92260.82,
         1.21089
        ],
        [
         "Paula Moreno",
         "2020-10-25T00:00:00.000+0000",
         57808.65,
         0.65271
        ],
        [
         "Justin Baker",
         "2020-07-16T00:00:00.000+0000",
         78081.54,
         0.10022
        ],
        [
         "Daniel Baker",
         "2020-07-08T00:00:00.000+0000",
         54001.57,
         0.87668
        ],
        [
         "Eric Carney",
         "2020-06-13T00:00:00.000+0000",
         66761.66,
         0.36207
        ],
        [
         "Anna Henderson",
         "2020-05-13T00:00:00.000+0000",
         82005.72,
         1.3936
        ],
        [
         "Mike Allen",
         "2020-03-14T00:00:00.000+0000",
         79610.52,
         1.43602
        ],
        [
         "Gina Moore",
         "2020-02-14T00:00:00.000+0000",
         106660.13,
         0.01074
        ],
        [
         "John Whitehead",
         "2019-12-24T00:00:00.000+0000",
         47705.01,
         1.00786
        ],
        [
         "Kelly Donovan",
         "2019-12-23T00:00:00.000+0000",
         84856.27,
         1.17791
        ],
        [
         "Cassandra Gaines",
         "2019-10-27T00:00:00.000+0000",
         87975.49,
         1.29131
        ],
        [
         "Rebecca Henderson",
         "2019-10-08T00:00:00.000+0000",
         72149.23,
         0.80893
        ],
        [
         "Noah Rhodes",
         "2019-10-01T00:00:00.000+0000",
         35624.75,
         1.10497
        ],
        [
         "Donald Wright",
         "2019-09-02T00:00:00.000+0000",
         39493.41,
         0.72864
        ],
        [
         "Megan Young",
         "2019-08-27T00:00:00.000+0000",
         31641.78,
         0.72898
        ],
        [
         "Aimee Montoya",
         "2019-08-22T00:00:00.000+0000",
         48264.29,
         1.41245
        ],
        [
         "Victoria Garcia",
         "2019-08-01T00:00:00.000+0000",
         61190.81,
         0.01178
        ],
        [
         "Cristian Santos",
         "2019-06-15T00:00:00.000+0000",
         36286.26,
         0.90343
        ],
        [
         "Steve Sanchez",
         "2019-05-26T00:00:00.000+0000",
         80525.53,
         1.35376
        ],
        [
         "Jessica Smith",
         "2019-05-24T00:00:00.000+0000",
         55411.93,
         0.19955
        ],
        [
         "Michael Lewis",
         "2019-05-18T00:00:00.000+0000",
         85023.94,
         1.13314
        ],
        [
         "Christina Walters",
         "2019-04-17T00:00:00.000+0000",
         66880.82,
         0.47196
        ],
        [
         "Paul Jones",
         "2019-02-17T00:00:00.000+0000",
         40769.55,
         1.4531
        ],
        [
         "Lisa Archer",
         "2019-02-01T00:00:00.000+0000",
         24796.49,
         0.10287
        ],
        [
         "Anthony Humphrey",
         "2019-01-02T00:00:00.000+0000",
         55537.72,
         0.16051
        ],
        [
         "Lisa Barnes",
         "2018-11-06T00:00:00.000+0000",
         56591.69,
         1.47798
        ],
        [
         "John Pierce",
         "2018-10-24T00:00:00.000+0000",
         70386.6,
         1.16816
        ],
        [
         "Gabrielle Davis",
         "2018-10-16T00:00:00.000+0000",
         84039.99,
         0.51104
        ],
        [
         "Ryan Munoz",
         "2018-09-29T00:00:00.000+0000",
         42516.98,
         1.14548
        ],
        [
         "Debra Davidson",
         "2018-03-26T00:00:00.000+0000",
         37144.35,
         0.24081
        ],
        [
         "Whitney Peters",
         "2018-03-24T00:00:00.000+0000",
         45384.44,
         0.28612
        ],
        [
         "Monica Herrera",
         "2018-02-23T00:00:00.000+0000",
         31976.14,
         0.14598
        ],
        [
         "Sarah Moore",
         "2018-02-06T00:00:00.000+0000",
         28350.6,
         1.49892
        ],
        [
         "Carol Tucker",
         "2018-02-02T00:00:00.000+0000",
         80672.52,
         0.53209
        ],
        [
         "Derek Zuniga",
         "2017-11-23T00:00:00.000+0000",
         112059.4,
         1.29986
        ],
        [
         "Aaron Wise",
         "2017-10-25T00:00:00.000+0000",
         7155.12,
         0.93212
        ],
        [
         "John Daniel",
         "2017-09-20T00:00:00.000+0000",
         47922.61,
         0.88287
        ],
        [
         "Jordan Henderson",
         "2017-09-06T00:00:00.000+0000",
         55925.04,
         0.50961
        ],
        [
         "Christopher Bass",
         "2017-08-21T00:00:00.000+0000",
         125136.58,
         0.12109
        ],
        [
         "Judy Baker",
         "2017-08-18T00:00:00.000+0000",
         34401.96,
         0.04912
        ],
        [
         "Connor West",
         "2017-05-09T00:00:00.000+0000",
         112594.79,
         0.10722
        ],
        [
         "Angela Lopez",
         "2017-03-02T00:00:00.000+0000",
         126155.54,
         1.38962
        ],
        [
         "Elizabeth Fowler",
         "2017-02-17T00:00:00.000+0000",
         90355.14,
         0.17271
        ]
       ],
       "datasetInfos": [],
       "dbfsResultPath": null,
       "isJsonSchema": true,
       "metadata": {},
       "overflow": false,
       "plotOptions": {
        "customPlotOptions": {},
        "displayType": "table",
        "pivotAggregation": null,
        "pivotColumns": null,
        "xColumns": null,
        "yColumns": null
       },
       "removedWidgets": [],
       "schema": [
        {
         "metadata": "{}",
         "name": "cliente",
         "type": "\"string\""
        },
        {
         "metadata": "{}",
         "name": "data_compra",
         "type": "\"timestamp\""
        },
        {
         "metadata": "{}",
         "name": "preco_btc",
         "type": "\"double\""
        },
        {
         "metadata": "{}",
         "name": "quantidade_btc",
         "type": "\"double\""
        }
       ],
       "type": "table"
      }
     },
     "output_type": "display_data"
    }
   ],
   "source": [
    "import pandas as pd # Importando a bilioteca Pandas\n",
    "\n",
    "df_spark = spark.read.table('transacoes_cliente') # Lendo a tabela criada em Spark\n",
    "df = df_spark.toPandas() # Convertendo a tabela Spark em Pandas\n",
    "\n",
    "display(df)"
   ]
  },
  {
   "cell_type": "markdown",
   "metadata": {
    "application/vnd.databricks.v1+cell": {
     "cellMetadata": {},
     "inputWidgets": {},
     "nuid": "a16686fd-918a-4c5a-ab61-34e78f657043",
     "showTitle": false,
     "tableResultSettingsMap": {},
     "title": ""
    }
   },
   "source": [
    "# Criar uma nova coluna com o total de BTC comprados"
   ]
  },
  {
   "cell_type": "code",
   "execution_count": 0,
   "metadata": {
    "application/vnd.databricks.v1+cell": {
     "cellMetadata": {
      "byteLimit": 2048000,
      "rowLimit": 10000
     },
     "inputWidgets": {},
     "nuid": "504a57da-debd-47cd-a27e-09985466bb49",
     "showTitle": false,
     "tableResultSettingsMap": {},
     "title": ""
    }
   },
   "outputs": [
    {
     "output_type": "display_data",
     "data": {
      "text/html": [
       "<style scoped>\n",
       "  .table-result-container {\n",
       "    max-height: 300px;\n",
       "    overflow: auto;\n",
       "  }\n",
       "  table, th, td {\n",
       "    border: 1px solid black;\n",
       "    border-collapse: collapse;\n",
       "  }\n",
       "  th, td {\n",
       "    padding: 5px;\n",
       "  }\n",
       "  th {\n",
       "    text-align: left;\n",
       "  }\n",
       "</style><div class='table-result-container'><table class='table-result'><thead style='background-color: white'><tr><th>cliente</th><th>data_compra</th><th>preco_btc</th><th>quantidade_btc</th><th>total_de_compras</th></tr></thead><tbody><tr><td>Sherry Decker</td><td>2025-01-26T00:00:00.000+0000</td><td>526338.91</td><td>0.75138</td><td>395480.53019580006</td></tr><tr><td>Gerald Hensley</td><td>2024-12-09T00:00:00.000+0000</td><td>663110.3</td><td>0.34418</td><td>228229.30305400002</td></tr><tr><td>Timothy Duncan</td><td>2024-09-26T00:00:00.000+0000</td><td>620115.11</td><td>0.46826</td><td>290375.1014086</td></tr><tr><td>Matthew Foster</td><td>2024-09-19T00:00:00.000+0000</td><td>655694.97</td><td>1.02724</td><td>673556.1009827999</td></tr><tr><td>Jeffrey Chavez</td><td>2024-08-19T00:00:00.000+0000</td><td>642216.0</td><td>0.09623</td><td>61800.44568</td></tr><tr><td>Angie Henderson</td><td>2024-08-03T00:00:00.000+0000</td><td>674066.77</td><td>0.8185</td><td>551723.6512450001</td></tr><tr><td>William Baker</td><td>2024-07-21T00:00:00.000+0000</td><td>665345.55</td><td>0.96962</td><td>645132.352191</td></tr><tr><td>Richard Aguirre</td><td>2024-07-14T00:00:00.000+0000</td><td>664987.81</td><td>0.65771</td><td>437369.13251510006</td></tr><tr><td>Margaret Hawkins DDS</td><td>2024-07-08T00:00:00.000+0000</td><td>626697.78</td><td>1.40505</td><td>880541.715789</td></tr><tr><td>Holly Wood</td><td>2024-06-01T00:00:00.000+0000</td><td>622789.83</td><td>0.43479</td><td>270782.7901857</td></tr><tr><td>Zachary Hicks</td><td>2024-05-08T00:00:00.000+0000</td><td>649923.13</td><td>1.32714</td><td>862538.9827482</td></tr><tr><td>Patty Perez</td><td>2024-04-08T00:00:00.000+0000</td><td>607140.25</td><td>0.95283</td><td>578501.4444075</td></tr><tr><td>Anthony Rodriguez</td><td>2024-03-18T00:00:00.000+0000</td><td>645885.19</td><td>0.39806</td><td>257101.0587314</td></tr><tr><td>Allison Hill</td><td>2024-03-04T00:00:00.000+0000</td><td>611133.11</td><td>1.11258</td><td>679934.4755237999</td></tr><tr><td>Dylan Miller</td><td>2024-01-19T00:00:00.000+0000</td><td>661851.98</td><td>1.2927</td><td>855576.054546</td></tr><tr><td>Angelica Tucker</td><td>2024-01-06T00:00:00.000+0000</td><td>629844.48</td><td>0.95879</td><td>603888.5889792</td></tr><tr><td>Brian Rodriguez</td><td>2023-12-12T00:00:00.000+0000</td><td>206234.69</td><td>0.9864</td><td>203429.898216</td></tr><tr><td>Philip Cannon</td><td>2023-10-31T00:00:00.000+0000</td><td>243651.55</td><td>0.5615</td><td>136810.345325</td></tr><tr><td>Daniel Wagner</td><td>2023-08-16T00:00:00.000+0000</td><td>315014.98</td><td>0.04567</td><td>14386.7341366</td></tr><tr><td>James Ferrell</td><td>2023-07-23T00:00:00.000+0000</td><td>317098.82</td><td>0.87572</td><td>277689.7786504</td></tr><tr><td>Zachary Ferrell</td><td>2023-07-01T00:00:00.000+0000</td><td>415435.9</td><td>0.09238</td><td>38377.968442000005</td></tr><tr><td>Brian Ramirez</td><td>2023-06-23T00:00:00.000+0000</td><td>241532.35</td><td>0.10526</td><td>25423.695161000003</td></tr><tr><td>Amber Kidd</td><td>2023-05-28T00:00:00.000+0000</td><td>364387.73</td><td>0.36525</td><td>133092.6183825</td></tr><tr><td>Matthew Mcmillan</td><td>2023-05-23T00:00:00.000+0000</td><td>258788.91</td><td>0.89218</td><td>230886.2897238</td></tr><tr><td>Stephanie Ross</td><td>2023-05-13T00:00:00.000+0000</td><td>460437.64</td><td>0.4727</td><td>217648.872428</td></tr><tr><td>Jessica Holmes</td><td>2023-05-13T00:00:00.000+0000</td><td>483023.82</td><td>0.12939</td><td>62498.452069800005</td></tr><tr><td>Denise Jacobs</td><td>2023-05-05T00:00:00.000+0000</td><td>347290.47</td><td>1.40212</td><td>486942.91379639995</td></tr><tr><td>Deborah Figueroa</td><td>2023-04-26T00:00:00.000+0000</td><td>498750.86</td><td>0.11082</td><td>55271.5703052</td></tr><tr><td>Connie Lawrence</td><td>2023-04-18T00:00:00.000+0000</td><td>243628.05</td><td>0.97518</td><td>237581.201799</td></tr><tr><td>Michael Evans</td><td>2023-03-27T00:00:00.000+0000</td><td>391798.82</td><td>0.73052</td><td>286216.87398639997</td></tr><tr><td>Abigail Shaffer</td><td>2023-02-11T00:00:00.000+0000</td><td>314246.34</td><td>0.67436</td><td>211915.1618424</td></tr><tr><td>Jessica Callahan</td><td>2023-01-18T00:00:00.000+0000</td><td>222339.79</td><td>1.40334</td><td>312018.32089860004</td></tr><tr><td>Brittany Farmer</td><td>2023-01-09T00:00:00.000+0000</td><td>420280.9</td><td>1.15313</td><td>484638.51421700005</td></tr><tr><td>Ethan Adams</td><td>2022-12-28T00:00:00.000+0000</td><td>353320.58</td><td>0.24594</td><td>86895.6634452</td></tr><tr><td>Crystal Robinson</td><td>2022-12-22T00:00:00.000+0000</td><td>365067.02</td><td>0.19346</td><td>70625.8656892</td></tr><tr><td>Shane Henderson</td><td>2022-12-13T00:00:00.000+0000</td><td>413917.92</td><td>0.89882</td><td>372037.70485439996</td></tr><tr><td>Shannon Jones</td><td>2022-12-02T00:00:00.000+0000</td><td>399178.57</td><td>0.63528</td><td>253590.16194959998</td></tr><tr><td>Brent Jordan</td><td>2022-10-21T00:00:00.000+0000</td><td>264475.57</td><td>0.37261</td><td>98546.2421377</td></tr><tr><td>Nathan Maldonado</td><td>2022-09-19T00:00:00.000+0000</td><td>277925.07</td><td>1.13392</td><td>315144.79537440004</td></tr><tr><td>Shirley Suarez</td><td>2022-08-22T00:00:00.000+0000</td><td>414203.88</td><td>0.79716</td><td>330186.7649808</td></tr><tr><td>Joshua Blair</td><td>2022-06-25T00:00:00.000+0000</td><td>126232.56</td><td>1.39372</td><td>175932.84352320002</td></tr><tr><td>Danny Morgan</td><td>2022-06-14T00:00:00.000+0000</td><td>381127.44</td><td>1.467</td><td>559113.9544800001</td></tr><tr><td>Mark Perez</td><td>2022-05-01T00:00:00.000+0000</td><td>422991.58</td><td>0.24853</td><td>105126.0973774</td></tr><tr><td>Tracy House</td><td>2022-04-22T00:00:00.000+0000</td><td>378399.04</td><td>0.28642</td><td>108381.0530368</td></tr><tr><td>Lauren Daniels</td><td>2022-03-10T00:00:00.000+0000</td><td>199938.06</td><td>1.38498</td><td>276910.2143388</td></tr><tr><td>Lisa Hensley</td><td>2022-02-25T00:00:00.000+0000</td><td>291592.99</td><td>1.4597</td><td>425638.287503</td></tr><tr><td>Fred Smith</td><td>2022-02-02T00:00:00.000+0000</td><td>121038.5</td><td>1.08342</td><td>131135.53167</td></tr><tr><td>Brittney Phillips</td><td>2022-01-12T00:00:00.000+0000</td><td>164858.34</td><td>0.27605</td><td>45509.144757</td></tr><tr><td>Amy Silva</td><td>2021-12-21T00:00:00.000+0000</td><td>577134.24</td><td>1.28409</td><td>741092.3062416</td></tr><tr><td>James Brown</td><td>2021-08-11T00:00:00.000+0000</td><td>358895.79</td><td>1.09388</td><td>392588.9267652</td></tr><tr><td>Sherri Baker</td><td>2021-04-13T00:00:00.000+0000</td><td>441368.59</td><td>0.70261</td><td>310109.9850199</td></tr><tr><td>Lisa Jackson</td><td>2021-04-06T00:00:00.000+0000</td><td>237903.11</td><td>0.95389</td><td>226933.39759789998</td></tr><tr><td>Tommy Walter</td><td>2021-04-04T00:00:00.000+0000</td><td>232766.61</td><td>1.38816</td><td>323117.2973376</td></tr><tr><td>Michele Williams</td><td>2021-03-31T00:00:00.000+0000</td><td>110432.13</td><td>0.44047</td><td>48642.0403011</td></tr><tr><td>Carla Gray</td><td>2021-02-03T00:00:00.000+0000</td><td>164098.62</td><td>0.53355</td><td>87554.818701</td></tr><tr><td>Tricia Valencia</td><td>2021-01-22T00:00:00.000+0000</td><td>200365.29</td><td>1.49631</td><td>299808.5870799</td></tr><tr><td>Stephen Mckee</td><td>2020-11-30T00:00:00.000+0000</td><td>111660.49</td><td>1.31903</td><td>147283.5361247</td></tr><tr><td>Jamie Arnold</td><td>2020-11-09T00:00:00.000+0000</td><td>92260.82</td><td>1.21089</td><td>111717.7043298</td></tr><tr><td>Paula Moreno</td><td>2020-10-25T00:00:00.000+0000</td><td>57808.65</td><td>0.65271</td><td>37732.2839415</td></tr><tr><td>Justin Baker</td><td>2020-07-16T00:00:00.000+0000</td><td>78081.54</td><td>0.10022</td><td>7825.3319388</td></tr><tr><td>Daniel Baker</td><td>2020-07-08T00:00:00.000+0000</td><td>54001.57</td><td>0.87668</td><td>47342.0963876</td></tr><tr><td>Eric Carney</td><td>2020-06-13T00:00:00.000+0000</td><td>66761.66</td><td>0.36207</td><td>24172.3942362</td></tr><tr><td>Anna Henderson</td><td>2020-05-13T00:00:00.000+0000</td><td>82005.72</td><td>1.3936</td><td>114283.171392</td></tr><tr><td>Mike Allen</td><td>2020-03-14T00:00:00.000+0000</td><td>79610.52</td><td>1.43602</td><td>114322.29893040001</td></tr><tr><td>Gina Moore</td><td>2020-02-14T00:00:00.000+0000</td><td>106660.13</td><td>0.01074</td><td>1145.5297962</td></tr><tr><td>John Whitehead</td><td>2019-12-24T00:00:00.000+0000</td><td>47705.01</td><td>1.00786</td><td>48079.9713786</td></tr><tr><td>Kelly Donovan</td><td>2019-12-23T00:00:00.000+0000</td><td>84856.27</td><td>1.17791</td><td>99953.04899570001</td></tr><tr><td>Cassandra Gaines</td><td>2019-10-27T00:00:00.000+0000</td><td>87975.49</td><td>1.29131</td><td>113603.6299919</td></tr><tr><td>Rebecca Henderson</td><td>2019-10-08T00:00:00.000+0000</td><td>72149.23</td><td>0.80893</td><td>58363.6766239</td></tr><tr><td>Noah Rhodes</td><td>2019-10-01T00:00:00.000+0000</td><td>35624.75</td><td>1.10497</td><td>39364.2800075</td></tr><tr><td>Donald Wright</td><td>2019-09-02T00:00:00.000+0000</td><td>39493.41</td><td>0.72864</td><td>28776.4782624</td></tr><tr><td>Megan Young</td><td>2019-08-27T00:00:00.000+0000</td><td>31641.78</td><td>0.72898</td><td>23066.224784399998</td></tr><tr><td>Aimee Montoya</td><td>2019-08-22T00:00:00.000+0000</td><td>48264.29</td><td>1.41245</td><td>68170.8964105</td></tr><tr><td>Victoria Garcia</td><td>2019-08-01T00:00:00.000+0000</td><td>61190.81</td><td>0.01178</td><td>720.8277418</td></tr><tr><td>Cristian Santos</td><td>2019-06-15T00:00:00.000+0000</td><td>36286.26</td><td>0.90343</td><td>32782.095871800004</td></tr><tr><td>Steve Sanchez</td><td>2019-05-26T00:00:00.000+0000</td><td>80525.53</td><td>1.35376</td><td>109012.2414928</td></tr><tr><td>Jessica Smith</td><td>2019-05-24T00:00:00.000+0000</td><td>55411.93</td><td>0.19955</td><td>11057.4506315</td></tr><tr><td>Michael Lewis</td><td>2019-05-18T00:00:00.000+0000</td><td>85023.94</td><td>1.13314</td><td>96344.02737160001</td></tr><tr><td>Christina Walters</td><td>2019-04-17T00:00:00.000+0000</td><td>66880.82</td><td>0.47196</td><td>31565.0718072</td></tr><tr><td>Paul Jones</td><td>2019-02-17T00:00:00.000+0000</td><td>40769.55</td><td>1.4531</td><td>59242.23310500001</td></tr><tr><td>Lisa Archer</td><td>2019-02-01T00:00:00.000+0000</td><td>24796.49</td><td>0.10287</td><td>2550.8149263</td></tr><tr><td>Anthony Humphrey</td><td>2019-01-02T00:00:00.000+0000</td><td>55537.72</td><td>0.16051</td><td>8914.3594372</td></tr><tr><td>Lisa Barnes</td><td>2018-11-06T00:00:00.000+0000</td><td>56591.69</td><td>1.47798</td><td>83641.38598620001</td></tr><tr><td>John Pierce</td><td>2018-10-24T00:00:00.000+0000</td><td>70386.6</td><td>1.16816</td><td>82222.81065600002</td></tr><tr><td>Gabrielle Davis</td><td>2018-10-16T00:00:00.000+0000</td><td>84039.99</td><td>0.51104</td><td>42947.796489600005</td></tr><tr><td>Ryan Munoz</td><td>2018-09-29T00:00:00.000+0000</td><td>42516.98</td><td>1.14548</td><td>48702.350250400006</td></tr><tr><td>Debra Davidson</td><td>2018-03-26T00:00:00.000+0000</td><td>37144.35</td><td>0.24081</td><td>8944.7309235</td></tr><tr><td>Whitney Peters</td><td>2018-03-24T00:00:00.000+0000</td><td>45384.44</td><td>0.28612</td><td>12985.3959728</td></tr><tr><td>Monica Herrera</td><td>2018-02-23T00:00:00.000+0000</td><td>31976.14</td><td>0.14598</td><td>4667.8769172</td></tr><tr><td>Sarah Moore</td><td>2018-02-06T00:00:00.000+0000</td><td>28350.6</td><td>1.49892</td><td>42495.281352</td></tr><tr><td>Carol Tucker</td><td>2018-02-02T00:00:00.000+0000</td><td>80672.52</td><td>0.53209</td><td>42925.0411668</td></tr><tr><td>Derek Zuniga</td><td>2017-11-23T00:00:00.000+0000</td><td>112059.4</td><td>1.29986</td><td>145661.531684</td></tr><tr><td>Aaron Wise</td><td>2017-10-25T00:00:00.000+0000</td><td>7155.12</td><td>0.93212</td><td>6669.4304544</td></tr><tr><td>John Daniel</td><td>2017-09-20T00:00:00.000+0000</td><td>47922.61</td><td>0.88287</td><td>42309.4346907</td></tr><tr><td>Jordan Henderson</td><td>2017-09-06T00:00:00.000+0000</td><td>55925.04</td><td>0.50961</td><td>28499.959634400002</td></tr><tr><td>Christopher Bass</td><td>2017-08-21T00:00:00.000+0000</td><td>125136.58</td><td>0.12109</td><td>15152.7884722</td></tr><tr><td>Judy Baker</td><td>2017-08-18T00:00:00.000+0000</td><td>34401.96</td><td>0.04912</td><td>1689.8242751999999</td></tr><tr><td>Connor West</td><td>2017-05-09T00:00:00.000+0000</td><td>112594.79</td><td>0.10722</td><td>12072.413383799998</td></tr><tr><td>Angela Lopez</td><td>2017-03-02T00:00:00.000+0000</td><td>126155.54</td><td>1.38962</td><td>175308.2614948</td></tr><tr><td>Elizabeth Fowler</td><td>2017-02-17T00:00:00.000+0000</td><td>90355.14</td><td>0.17271</td><td>15605.2362294</td></tr></tbody></table></div>"
      ]
     },
     "metadata": {
      "application/vnd.databricks.v1+output": {
       "addedWidgets": {},
       "aggData": [],
       "aggError": "",
       "aggOverflow": false,
       "aggSchema": [],
       "aggSeriesLimitReached": false,
       "aggType": "",
       "arguments": {},
       "columnCustomDisplayInfos": {},
       "data": [
        [
         "Sherry Decker",
         "2025-01-26T00:00:00.000+0000",
         526338.91,
         0.75138,
         395480.53019580006
        ],
        [
         "Gerald Hensley",
         "2024-12-09T00:00:00.000+0000",
         663110.3,
         0.34418,
         228229.30305400002
        ],
        [
         "Timothy Duncan",
         "2024-09-26T00:00:00.000+0000",
         620115.11,
         0.46826,
         290375.1014086
        ],
        [
         "Matthew Foster",
         "2024-09-19T00:00:00.000+0000",
         655694.97,
         1.02724,
         673556.1009827999
        ],
        [
         "Jeffrey Chavez",
         "2024-08-19T00:00:00.000+0000",
         642216.0,
         0.09623,
         61800.44568
        ],
        [
         "Angie Henderson",
         "2024-08-03T00:00:00.000+0000",
         674066.77,
         0.8185,
         551723.6512450001
        ],
        [
         "William Baker",
         "2024-07-21T00:00:00.000+0000",
         665345.55,
         0.96962,
         645132.352191
        ],
        [
         "Richard Aguirre",
         "2024-07-14T00:00:00.000+0000",
         664987.81,
         0.65771,
         437369.13251510006
        ],
        [
         "Margaret Hawkins DDS",
         "2024-07-08T00:00:00.000+0000",
         626697.78,
         1.40505,
         880541.715789
        ],
        [
         "Holly Wood",
         "2024-06-01T00:00:00.000+0000",
         622789.83,
         0.43479,
         270782.7901857
        ],
        [
         "Zachary Hicks",
         "2024-05-08T00:00:00.000+0000",
         649923.13,
         1.32714,
         862538.9827482
        ],
        [
         "Patty Perez",
         "2024-04-08T00:00:00.000+0000",
         607140.25,
         0.95283,
         578501.4444075
        ],
        [
         "Anthony Rodriguez",
         "2024-03-18T00:00:00.000+0000",
         645885.19,
         0.39806,
         257101.0587314
        ],
        [
         "Allison Hill",
         "2024-03-04T00:00:00.000+0000",
         611133.11,
         1.11258,
         679934.4755237999
        ],
        [
         "Dylan Miller",
         "2024-01-19T00:00:00.000+0000",
         661851.98,
         1.2927,
         855576.054546
        ],
        [
         "Angelica Tucker",
         "2024-01-06T00:00:00.000+0000",
         629844.48,
         0.95879,
         603888.5889792
        ],
        [
         "Brian Rodriguez",
         "2023-12-12T00:00:00.000+0000",
         206234.69,
         0.9864,
         203429.898216
        ],
        [
         "Philip Cannon",
         "2023-10-31T00:00:00.000+0000",
         243651.55,
         0.5615,
         136810.345325
        ],
        [
         "Daniel Wagner",
         "2023-08-16T00:00:00.000+0000",
         315014.98,
         0.04567,
         14386.7341366
        ],
        [
         "James Ferrell",
         "2023-07-23T00:00:00.000+0000",
         317098.82,
         0.87572,
         277689.7786504
        ],
        [
         "Zachary Ferrell",
         "2023-07-01T00:00:00.000+0000",
         415435.9,
         0.09238,
         38377.968442000005
        ],
        [
         "Brian Ramirez",
         "2023-06-23T00:00:00.000+0000",
         241532.35,
         0.10526,
         25423.695161000003
        ],
        [
         "Amber Kidd",
         "2023-05-28T00:00:00.000+0000",
         364387.73,
         0.36525,
         133092.6183825
        ],
        [
         "Matthew Mcmillan",
         "2023-05-23T00:00:00.000+0000",
         258788.91,
         0.89218,
         230886.2897238
        ],
        [
         "Stephanie Ross",
         "2023-05-13T00:00:00.000+0000",
         460437.64,
         0.4727,
         217648.872428
        ],
        [
         "Jessica Holmes",
         "2023-05-13T00:00:00.000+0000",
         483023.82,
         0.12939,
         62498.452069800005
        ],
        [
         "Denise Jacobs",
         "2023-05-05T00:00:00.000+0000",
         347290.47,
         1.40212,
         486942.91379639995
        ],
        [
         "Deborah Figueroa",
         "2023-04-26T00:00:00.000+0000",
         498750.86,
         0.11082,
         55271.5703052
        ],
        [
         "Connie Lawrence",
         "2023-04-18T00:00:00.000+0000",
         243628.05,
         0.97518,
         237581.201799
        ],
        [
         "Michael Evans",
         "2023-03-27T00:00:00.000+0000",
         391798.82,
         0.73052,
         286216.87398639997
        ],
        [
         "Abigail Shaffer",
         "2023-02-11T00:00:00.000+0000",
         314246.34,
         0.67436,
         211915.1618424
        ],
        [
         "Jessica Callahan",
         "2023-01-18T00:00:00.000+0000",
         222339.79,
         1.40334,
         312018.32089860004
        ],
        [
         "Brittany Farmer",
         "2023-01-09T00:00:00.000+0000",
         420280.9,
         1.15313,
         484638.51421700005
        ],
        [
         "Ethan Adams",
         "2022-12-28T00:00:00.000+0000",
         353320.58,
         0.24594,
         86895.6634452
        ],
        [
         "Crystal Robinson",
         "2022-12-22T00:00:00.000+0000",
         365067.02,
         0.19346,
         70625.8656892
        ],
        [
         "Shane Henderson",
         "2022-12-13T00:00:00.000+0000",
         413917.92,
         0.89882,
         372037.70485439996
        ],
        [
         "Shannon Jones",
         "2022-12-02T00:00:00.000+0000",
         399178.57,
         0.63528,
         253590.16194959998
        ],
        [
         "Brent Jordan",
         "2022-10-21T00:00:00.000+0000",
         264475.57,
         0.37261,
         98546.2421377
        ],
        [
         "Nathan Maldonado",
         "2022-09-19T00:00:00.000+0000",
         277925.07,
         1.13392,
         315144.79537440004
        ],
        [
         "Shirley Suarez",
         "2022-08-22T00:00:00.000+0000",
         414203.88,
         0.79716,
         330186.7649808
        ],
        [
         "Joshua Blair",
         "2022-06-25T00:00:00.000+0000",
         126232.56,
         1.39372,
         175932.84352320002
        ],
        [
         "Danny Morgan",
         "2022-06-14T00:00:00.000+0000",
         381127.44,
         1.467,
         559113.9544800001
        ],
        [
         "Mark Perez",
         "2022-05-01T00:00:00.000+0000",
         422991.58,
         0.24853,
         105126.0973774
        ],
        [
         "Tracy House",
         "2022-04-22T00:00:00.000+0000",
         378399.04,
         0.28642,
         108381.0530368
        ],
        [
         "Lauren Daniels",
         "2022-03-10T00:00:00.000+0000",
         199938.06,
         1.38498,
         276910.2143388
        ],
        [
         "Lisa Hensley",
         "2022-02-25T00:00:00.000+0000",
         291592.99,
         1.4597,
         425638.287503
        ],
        [
         "Fred Smith",
         "2022-02-02T00:00:00.000+0000",
         121038.5,
         1.08342,
         131135.53167
        ],
        [
         "Brittney Phillips",
         "2022-01-12T00:00:00.000+0000",
         164858.34,
         0.27605,
         45509.144757
        ],
        [
         "Amy Silva",
         "2021-12-21T00:00:00.000+0000",
         577134.24,
         1.28409,
         741092.3062416
        ],
        [
         "James Brown",
         "2021-08-11T00:00:00.000+0000",
         358895.79,
         1.09388,
         392588.9267652
        ],
        [
         "Sherri Baker",
         "2021-04-13T00:00:00.000+0000",
         441368.59,
         0.70261,
         310109.9850199
        ],
        [
         "Lisa Jackson",
         "2021-04-06T00:00:00.000+0000",
         237903.11,
         0.95389,
         226933.39759789998
        ],
        [
         "Tommy Walter",
         "2021-04-04T00:00:00.000+0000",
         232766.61,
         1.38816,
         323117.2973376
        ],
        [
         "Michele Williams",
         "2021-03-31T00:00:00.000+0000",
         110432.13,
         0.44047,
         48642.0403011
        ],
        [
         "Carla Gray",
         "2021-02-03T00:00:00.000+0000",
         164098.62,
         0.53355,
         87554.818701
        ],
        [
         "Tricia Valencia",
         "2021-01-22T00:00:00.000+0000",
         200365.29,
         1.49631,
         299808.5870799
        ],
        [
         "Stephen Mckee",
         "2020-11-30T00:00:00.000+0000",
         111660.49,
         1.31903,
         147283.5361247
        ],
        [
         "Jamie Arnold",
         "2020-11-09T00:00:00.000+0000",
         92260.82,
         1.21089,
         111717.7043298
        ],
        [
         "Paula Moreno",
         "2020-10-25T00:00:00.000+0000",
         57808.65,
         0.65271,
         37732.2839415
        ],
        [
         "Justin Baker",
         "2020-07-16T00:00:00.000+0000",
         78081.54,
         0.10022,
         7825.3319388
        ],
        [
         "Daniel Baker",
         "2020-07-08T00:00:00.000+0000",
         54001.57,
         0.87668,
         47342.0963876
        ],
        [
         "Eric Carney",
         "2020-06-13T00:00:00.000+0000",
         66761.66,
         0.36207,
         24172.3942362
        ],
        [
         "Anna Henderson",
         "2020-05-13T00:00:00.000+0000",
         82005.72,
         1.3936,
         114283.171392
        ],
        [
         "Mike Allen",
         "2020-03-14T00:00:00.000+0000",
         79610.52,
         1.43602,
         114322.29893040001
        ],
        [
         "Gina Moore",
         "2020-02-14T00:00:00.000+0000",
         106660.13,
         0.01074,
         1145.5297962
        ],
        [
         "John Whitehead",
         "2019-12-24T00:00:00.000+0000",
         47705.01,
         1.00786,
         48079.9713786
        ],
        [
         "Kelly Donovan",
         "2019-12-23T00:00:00.000+0000",
         84856.27,
         1.17791,
         99953.04899570001
        ],
        [
         "Cassandra Gaines",
         "2019-10-27T00:00:00.000+0000",
         87975.49,
         1.29131,
         113603.6299919
        ],
        [
         "Rebecca Henderson",
         "2019-10-08T00:00:00.000+0000",
         72149.23,
         0.80893,
         58363.6766239
        ],
        [
         "Noah Rhodes",
         "2019-10-01T00:00:00.000+0000",
         35624.75,
         1.10497,
         39364.2800075
        ],
        [
         "Donald Wright",
         "2019-09-02T00:00:00.000+0000",
         39493.41,
         0.72864,
         28776.4782624
        ],
        [
         "Megan Young",
         "2019-08-27T00:00:00.000+0000",
         31641.78,
         0.72898,
         23066.224784399998
        ],
        [
         "Aimee Montoya",
         "2019-08-22T00:00:00.000+0000",
         48264.29,
         1.41245,
         68170.8964105
        ],
        [
         "Victoria Garcia",
         "2019-08-01T00:00:00.000+0000",
         61190.81,
         0.01178,
         720.8277418
        ],
        [
         "Cristian Santos",
         "2019-06-15T00:00:00.000+0000",
         36286.26,
         0.90343,
         32782.095871800004
        ],
        [
         "Steve Sanchez",
         "2019-05-26T00:00:00.000+0000",
         80525.53,
         1.35376,
         109012.2414928
        ],
        [
         "Jessica Smith",
         "2019-05-24T00:00:00.000+0000",
         55411.93,
         0.19955,
         11057.4506315
        ],
        [
         "Michael Lewis",
         "2019-05-18T00:00:00.000+0000",
         85023.94,
         1.13314,
         96344.02737160001
        ],
        [
         "Christina Walters",
         "2019-04-17T00:00:00.000+0000",
         66880.82,
         0.47196,
         31565.0718072
        ],
        [
         "Paul Jones",
         "2019-02-17T00:00:00.000+0000",
         40769.55,
         1.4531,
         59242.23310500001
        ],
        [
         "Lisa Archer",
         "2019-02-01T00:00:00.000+0000",
         24796.49,
         0.10287,
         2550.8149263
        ],
        [
         "Anthony Humphrey",
         "2019-01-02T00:00:00.000+0000",
         55537.72,
         0.16051,
         8914.3594372
        ],
        [
         "Lisa Barnes",
         "2018-11-06T00:00:00.000+0000",
         56591.69,
         1.47798,
         83641.38598620001
        ],
        [
         "John Pierce",
         "2018-10-24T00:00:00.000+0000",
         70386.6,
         1.16816,
         82222.81065600002
        ],
        [
         "Gabrielle Davis",
         "2018-10-16T00:00:00.000+0000",
         84039.99,
         0.51104,
         42947.796489600005
        ],
        [
         "Ryan Munoz",
         "2018-09-29T00:00:00.000+0000",
         42516.98,
         1.14548,
         48702.350250400006
        ],
        [
         "Debra Davidson",
         "2018-03-26T00:00:00.000+0000",
         37144.35,
         0.24081,
         8944.7309235
        ],
        [
         "Whitney Peters",
         "2018-03-24T00:00:00.000+0000",
         45384.44,
         0.28612,
         12985.3959728
        ],
        [
         "Monica Herrera",
         "2018-02-23T00:00:00.000+0000",
         31976.14,
         0.14598,
         4667.8769172
        ],
        [
         "Sarah Moore",
         "2018-02-06T00:00:00.000+0000",
         28350.6,
         1.49892,
         42495.281352
        ],
        [
         "Carol Tucker",
         "2018-02-02T00:00:00.000+0000",
         80672.52,
         0.53209,
         42925.0411668
        ],
        [
         "Derek Zuniga",
         "2017-11-23T00:00:00.000+0000",
         112059.4,
         1.29986,
         145661.531684
        ],
        [
         "Aaron Wise",
         "2017-10-25T00:00:00.000+0000",
         7155.12,
         0.93212,
         6669.4304544
        ],
        [
         "John Daniel",
         "2017-09-20T00:00:00.000+0000",
         47922.61,
         0.88287,
         42309.4346907
        ],
        [
         "Jordan Henderson",
         "2017-09-06T00:00:00.000+0000",
         55925.04,
         0.50961,
         28499.959634400002
        ],
        [
         "Christopher Bass",
         "2017-08-21T00:00:00.000+0000",
         125136.58,
         0.12109,
         15152.7884722
        ],
        [
         "Judy Baker",
         "2017-08-18T00:00:00.000+0000",
         34401.96,
         0.04912,
         1689.8242751999999
        ],
        [
         "Connor West",
         "2017-05-09T00:00:00.000+0000",
         112594.79,
         0.10722,
         12072.413383799998
        ],
        [
         "Angela Lopez",
         "2017-03-02T00:00:00.000+0000",
         126155.54,
         1.38962,
         175308.2614948
        ],
        [
         "Elizabeth Fowler",
         "2017-02-17T00:00:00.000+0000",
         90355.14,
         0.17271,
         15605.2362294
        ]
       ],
       "datasetInfos": [],
       "dbfsResultPath": null,
       "isJsonSchema": true,
       "metadata": {},
       "overflow": false,
       "plotOptions": {
        "customPlotOptions": {},
        "displayType": "table",
        "pivotAggregation": null,
        "pivotColumns": null,
        "xColumns": null,
        "yColumns": null
       },
       "removedWidgets": [],
       "schema": [
        {
         "metadata": "{}",
         "name": "cliente",
         "type": "\"string\""
        },
        {
         "metadata": "{}",
         "name": "data_compra",
         "type": "\"timestamp\""
        },
        {
         "metadata": "{}",
         "name": "preco_btc",
         "type": "\"double\""
        },
        {
         "metadata": "{}",
         "name": "quantidade_btc",
         "type": "\"double\""
        },
        {
         "metadata": "{}",
         "name": "total_de_compras",
         "type": "\"double\""
        }
       ],
       "type": "table"
      }
     },
     "output_type": "display_data"
    }
   ],
   "source": [
    "df['total_de_compras'] = df['preco_btc'] * df['quantidade_btc']\n",
    "display(df)"
   ]
  },
  {
   "cell_type": "markdown",
   "metadata": {
    "application/vnd.databricks.v1+cell": {
     "cellMetadata": {},
     "inputWidgets": {},
     "nuid": "b72d9c8d-e924-4a3e-8210-324a0d96501d",
     "showTitle": false,
     "tableResultSettingsMap": {},
     "title": ""
    }
   },
   "source": [
    "# Filtrando quem possui mais de 1 BTC"
   ]
  },
  {
   "cell_type": "code",
   "execution_count": 0,
   "metadata": {
    "application/vnd.databricks.v1+cell": {
     "cellMetadata": {
      "byteLimit": 2048000,
      "rowLimit": 10000
     },
     "inputWidgets": {},
     "nuid": "e9b8da04-92af-4306-afc1-f526cd936821",
     "showTitle": false,
     "tableResultSettingsMap": {},
     "title": ""
    }
   },
   "outputs": [
    {
     "output_type": "display_data",
     "data": {
      "text/html": [
       "<style scoped>\n",
       "  .table-result-container {\n",
       "    max-height: 300px;\n",
       "    overflow: auto;\n",
       "  }\n",
       "  table, th, td {\n",
       "    border: 1px solid black;\n",
       "    border-collapse: collapse;\n",
       "  }\n",
       "  th, td {\n",
       "    padding: 5px;\n",
       "  }\n",
       "  th {\n",
       "    text-align: left;\n",
       "  }\n",
       "</style><div class='table-result-container'><table class='table-result'><thead style='background-color: white'><tr><th>cliente</th><th>data_compra</th><th>preco_btc</th><th>quantidade_btc</th><th>total_de_compras</th></tr></thead><tbody><tr><td>Matthew Foster</td><td>2024-09-19T00:00:00.000+0000</td><td>655694.97</td><td>1.02724</td><td>673556.1009827999</td></tr><tr><td>Margaret Hawkins DDS</td><td>2024-07-08T00:00:00.000+0000</td><td>626697.78</td><td>1.40505</td><td>880541.715789</td></tr><tr><td>Zachary Hicks</td><td>2024-05-08T00:00:00.000+0000</td><td>649923.13</td><td>1.32714</td><td>862538.9827482</td></tr><tr><td>Allison Hill</td><td>2024-03-04T00:00:00.000+0000</td><td>611133.11</td><td>1.11258</td><td>679934.4755237999</td></tr><tr><td>Dylan Miller</td><td>2024-01-19T00:00:00.000+0000</td><td>661851.98</td><td>1.2927</td><td>855576.054546</td></tr><tr><td>Denise Jacobs</td><td>2023-05-05T00:00:00.000+0000</td><td>347290.47</td><td>1.40212</td><td>486942.91379639995</td></tr><tr><td>Jessica Callahan</td><td>2023-01-18T00:00:00.000+0000</td><td>222339.79</td><td>1.40334</td><td>312018.32089860004</td></tr><tr><td>Brittany Farmer</td><td>2023-01-09T00:00:00.000+0000</td><td>420280.9</td><td>1.15313</td><td>484638.51421700005</td></tr><tr><td>Nathan Maldonado</td><td>2022-09-19T00:00:00.000+0000</td><td>277925.07</td><td>1.13392</td><td>315144.79537440004</td></tr><tr><td>Joshua Blair</td><td>2022-06-25T00:00:00.000+0000</td><td>126232.56</td><td>1.39372</td><td>175932.84352320002</td></tr><tr><td>Danny Morgan</td><td>2022-06-14T00:00:00.000+0000</td><td>381127.44</td><td>1.467</td><td>559113.9544800001</td></tr><tr><td>Lauren Daniels</td><td>2022-03-10T00:00:00.000+0000</td><td>199938.06</td><td>1.38498</td><td>276910.2143388</td></tr><tr><td>Lisa Hensley</td><td>2022-02-25T00:00:00.000+0000</td><td>291592.99</td><td>1.4597</td><td>425638.287503</td></tr><tr><td>Fred Smith</td><td>2022-02-02T00:00:00.000+0000</td><td>121038.5</td><td>1.08342</td><td>131135.53167</td></tr><tr><td>Amy Silva</td><td>2021-12-21T00:00:00.000+0000</td><td>577134.24</td><td>1.28409</td><td>741092.3062416</td></tr><tr><td>James Brown</td><td>2021-08-11T00:00:00.000+0000</td><td>358895.79</td><td>1.09388</td><td>392588.9267652</td></tr><tr><td>Tommy Walter</td><td>2021-04-04T00:00:00.000+0000</td><td>232766.61</td><td>1.38816</td><td>323117.2973376</td></tr><tr><td>Tricia Valencia</td><td>2021-01-22T00:00:00.000+0000</td><td>200365.29</td><td>1.49631</td><td>299808.5870799</td></tr><tr><td>Stephen Mckee</td><td>2020-11-30T00:00:00.000+0000</td><td>111660.49</td><td>1.31903</td><td>147283.5361247</td></tr><tr><td>Jamie Arnold</td><td>2020-11-09T00:00:00.000+0000</td><td>92260.82</td><td>1.21089</td><td>111717.7043298</td></tr><tr><td>Anna Henderson</td><td>2020-05-13T00:00:00.000+0000</td><td>82005.72</td><td>1.3936</td><td>114283.171392</td></tr><tr><td>Mike Allen</td><td>2020-03-14T00:00:00.000+0000</td><td>79610.52</td><td>1.43602</td><td>114322.29893040001</td></tr><tr><td>John Whitehead</td><td>2019-12-24T00:00:00.000+0000</td><td>47705.01</td><td>1.00786</td><td>48079.9713786</td></tr><tr><td>Kelly Donovan</td><td>2019-12-23T00:00:00.000+0000</td><td>84856.27</td><td>1.17791</td><td>99953.04899570001</td></tr><tr><td>Cassandra Gaines</td><td>2019-10-27T00:00:00.000+0000</td><td>87975.49</td><td>1.29131</td><td>113603.6299919</td></tr><tr><td>Noah Rhodes</td><td>2019-10-01T00:00:00.000+0000</td><td>35624.75</td><td>1.10497</td><td>39364.2800075</td></tr><tr><td>Aimee Montoya</td><td>2019-08-22T00:00:00.000+0000</td><td>48264.29</td><td>1.41245</td><td>68170.8964105</td></tr><tr><td>Steve Sanchez</td><td>2019-05-26T00:00:00.000+0000</td><td>80525.53</td><td>1.35376</td><td>109012.2414928</td></tr><tr><td>Michael Lewis</td><td>2019-05-18T00:00:00.000+0000</td><td>85023.94</td><td>1.13314</td><td>96344.02737160001</td></tr><tr><td>Paul Jones</td><td>2019-02-17T00:00:00.000+0000</td><td>40769.55</td><td>1.4531</td><td>59242.23310500001</td></tr><tr><td>Lisa Barnes</td><td>2018-11-06T00:00:00.000+0000</td><td>56591.69</td><td>1.47798</td><td>83641.38598620001</td></tr><tr><td>John Pierce</td><td>2018-10-24T00:00:00.000+0000</td><td>70386.6</td><td>1.16816</td><td>82222.81065600002</td></tr><tr><td>Ryan Munoz</td><td>2018-09-29T00:00:00.000+0000</td><td>42516.98</td><td>1.14548</td><td>48702.350250400006</td></tr><tr><td>Sarah Moore</td><td>2018-02-06T00:00:00.000+0000</td><td>28350.6</td><td>1.49892</td><td>42495.281352</td></tr><tr><td>Derek Zuniga</td><td>2017-11-23T00:00:00.000+0000</td><td>112059.4</td><td>1.29986</td><td>145661.531684</td></tr><tr><td>Angela Lopez</td><td>2017-03-02T00:00:00.000+0000</td><td>126155.54</td><td>1.38962</td><td>175308.2614948</td></tr></tbody></table></div>"
      ]
     },
     "metadata": {
      "application/vnd.databricks.v1+output": {
       "addedWidgets": {},
       "aggData": [],
       "aggError": "",
       "aggOverflow": false,
       "aggSchema": [],
       "aggSeriesLimitReached": false,
       "aggType": "",
       "arguments": {},
       "columnCustomDisplayInfos": {},
       "data": [
        [
         "Matthew Foster",
         "2024-09-19T00:00:00.000+0000",
         655694.97,
         1.02724,
         673556.1009827999
        ],
        [
         "Margaret Hawkins DDS",
         "2024-07-08T00:00:00.000+0000",
         626697.78,
         1.40505,
         880541.715789
        ],
        [
         "Zachary Hicks",
         "2024-05-08T00:00:00.000+0000",
         649923.13,
         1.32714,
         862538.9827482
        ],
        [
         "Allison Hill",
         "2024-03-04T00:00:00.000+0000",
         611133.11,
         1.11258,
         679934.4755237999
        ],
        [
         "Dylan Miller",
         "2024-01-19T00:00:00.000+0000",
         661851.98,
         1.2927,
         855576.054546
        ],
        [
         "Denise Jacobs",
         "2023-05-05T00:00:00.000+0000",
         347290.47,
         1.40212,
         486942.91379639995
        ],
        [
         "Jessica Callahan",
         "2023-01-18T00:00:00.000+0000",
         222339.79,
         1.40334,
         312018.32089860004
        ],
        [
         "Brittany Farmer",
         "2023-01-09T00:00:00.000+0000",
         420280.9,
         1.15313,
         484638.51421700005
        ],
        [
         "Nathan Maldonado",
         "2022-09-19T00:00:00.000+0000",
         277925.07,
         1.13392,
         315144.79537440004
        ],
        [
         "Joshua Blair",
         "2022-06-25T00:00:00.000+0000",
         126232.56,
         1.39372,
         175932.84352320002
        ],
        [
         "Danny Morgan",
         "2022-06-14T00:00:00.000+0000",
         381127.44,
         1.467,
         559113.9544800001
        ],
        [
         "Lauren Daniels",
         "2022-03-10T00:00:00.000+0000",
         199938.06,
         1.38498,
         276910.2143388
        ],
        [
         "Lisa Hensley",
         "2022-02-25T00:00:00.000+0000",
         291592.99,
         1.4597,
         425638.287503
        ],
        [
         "Fred Smith",
         "2022-02-02T00:00:00.000+0000",
         121038.5,
         1.08342,
         131135.53167
        ],
        [
         "Amy Silva",
         "2021-12-21T00:00:00.000+0000",
         577134.24,
         1.28409,
         741092.3062416
        ],
        [
         "James Brown",
         "2021-08-11T00:00:00.000+0000",
         358895.79,
         1.09388,
         392588.9267652
        ],
        [
         "Tommy Walter",
         "2021-04-04T00:00:00.000+0000",
         232766.61,
         1.38816,
         323117.2973376
        ],
        [
         "Tricia Valencia",
         "2021-01-22T00:00:00.000+0000",
         200365.29,
         1.49631,
         299808.5870799
        ],
        [
         "Stephen Mckee",
         "2020-11-30T00:00:00.000+0000",
         111660.49,
         1.31903,
         147283.5361247
        ],
        [
         "Jamie Arnold",
         "2020-11-09T00:00:00.000+0000",
         92260.82,
         1.21089,
         111717.7043298
        ],
        [
         "Anna Henderson",
         "2020-05-13T00:00:00.000+0000",
         82005.72,
         1.3936,
         114283.171392
        ],
        [
         "Mike Allen",
         "2020-03-14T00:00:00.000+0000",
         79610.52,
         1.43602,
         114322.29893040001
        ],
        [
         "John Whitehead",
         "2019-12-24T00:00:00.000+0000",
         47705.01,
         1.00786,
         48079.9713786
        ],
        [
         "Kelly Donovan",
         "2019-12-23T00:00:00.000+0000",
         84856.27,
         1.17791,
         99953.04899570001
        ],
        [
         "Cassandra Gaines",
         "2019-10-27T00:00:00.000+0000",
         87975.49,
         1.29131,
         113603.6299919
        ],
        [
         "Noah Rhodes",
         "2019-10-01T00:00:00.000+0000",
         35624.75,
         1.10497,
         39364.2800075
        ],
        [
         "Aimee Montoya",
         "2019-08-22T00:00:00.000+0000",
         48264.29,
         1.41245,
         68170.8964105
        ],
        [
         "Steve Sanchez",
         "2019-05-26T00:00:00.000+0000",
         80525.53,
         1.35376,
         109012.2414928
        ],
        [
         "Michael Lewis",
         "2019-05-18T00:00:00.000+0000",
         85023.94,
         1.13314,
         96344.02737160001
        ],
        [
         "Paul Jones",
         "2019-02-17T00:00:00.000+0000",
         40769.55,
         1.4531,
         59242.23310500001
        ],
        [
         "Lisa Barnes",
         "2018-11-06T00:00:00.000+0000",
         56591.69,
         1.47798,
         83641.38598620001
        ],
        [
         "John Pierce",
         "2018-10-24T00:00:00.000+0000",
         70386.6,
         1.16816,
         82222.81065600002
        ],
        [
         "Ryan Munoz",
         "2018-09-29T00:00:00.000+0000",
         42516.98,
         1.14548,
         48702.350250400006
        ],
        [
         "Sarah Moore",
         "2018-02-06T00:00:00.000+0000",
         28350.6,
         1.49892,
         42495.281352
        ],
        [
         "Derek Zuniga",
         "2017-11-23T00:00:00.000+0000",
         112059.4,
         1.29986,
         145661.531684
        ],
        [
         "Angela Lopez",
         "2017-03-02T00:00:00.000+0000",
         126155.54,
         1.38962,
         175308.2614948
        ]
       ],
       "datasetInfos": [],
       "dbfsResultPath": null,
       "isJsonSchema": true,
       "metadata": {},
       "overflow": false,
       "plotOptions": {
        "customPlotOptions": {},
        "displayType": "table",
        "pivotAggregation": null,
        "pivotColumns": null,
        "xColumns": null,
        "yColumns": null
       },
       "removedWidgets": [],
       "schema": [
        {
         "metadata": "{}",
         "name": "cliente",
         "type": "\"string\""
        },
        {
         "metadata": "{}",
         "name": "data_compra",
         "type": "\"timestamp\""
        },
        {
         "metadata": "{}",
         "name": "preco_btc",
         "type": "\"double\""
        },
        {
         "metadata": "{}",
         "name": "quantidade_btc",
         "type": "\"double\""
        },
        {
         "metadata": "{}",
         "name": "total_de_compras",
         "type": "\"double\""
        }
       ],
       "type": "table"
      }
     },
     "output_type": "display_data"
    }
   ],
   "source": [
    "df_filtrado = df[df['quantidade_btc'] > 1] \n",
    "display(df_filtrado)"
   ]
  },
  {
   "cell_type": "code",
   "execution_count": 0,
   "metadata": {
    "application/vnd.databricks.v1+cell": {
     "cellMetadata": {
      "byteLimit": 2048000,
      "rowLimit": 10000
     },
     "inputWidgets": {},
     "nuid": "cc3a2c63-5dd8-49a4-b1e4-cdbbba575965",
     "showTitle": false,
     "tableResultSettingsMap": {},
     "title": ""
    }
   },
   "outputs": [
    {
     "output_type": "stream",
     "name": "stdout",
     "output_type": "stream",
     "text": [
      "Número de transações com mais de 1 BTC: 36\n"
     ]
    }
   ],
   "source": [
    "quantidade_transacoes = df[df[\"quantidade_btc\"] > 1].shape[0]\n",
    "print(f\"Número de transações com mais de 1 BTC: {quantidade_transacoes}\")"
   ]
  },
  {
   "cell_type": "code",
   "execution_count": 0,
   "metadata": {
    "application/vnd.databricks.v1+cell": {
     "cellMetadata": {
      "byteLimit": 2048000,
      "rowLimit": 10000
     },
     "inputWidgets": {},
     "nuid": "5ee7ff01-d119-4bd4-986d-d9413d3009e7",
     "showTitle": false,
     "tableResultSettingsMap": {},
     "title": ""
    }
   },
   "outputs": [
    {
     "output_type": "stream",
     "name": "stdout",
     "output_type": "stream",
     "text": [
      "<class 'pandas.core.frame.DataFrame'>\nInt64Index: 36 entries, 3 to 98\nData columns (total 5 columns):\n #   Column            Non-Null Count  Dtype         \n---  ------            --------------  -----         \n 0   cliente           36 non-null     object        \n 1   data_compra       36 non-null     datetime64[ns]\n 2   preco_btc         36 non-null     float64       \n 3   quantidade_btc    36 non-null     float64       \n 4   total_de_compras  36 non-null     float64       \ndtypes: datetime64[ns](1), float64(3), object(1)\nmemory usage: 1.7+ KB\n"
     ]
    }
   ],
   "source": [
    "# ver as infos das colunas\n",
    "display(df_filtrado.info())"
   ]
  },
  {
   "cell_type": "markdown",
   "metadata": {
    "application/vnd.databricks.v1+cell": {
     "cellMetadata": {},
     "inputWidgets": {},
     "nuid": "c0bb0192-b5f2-42a6-9a8c-f956584fb1fa",
     "showTitle": false,
     "tableResultSettingsMap": {},
     "title": ""
    }
   },
   "source": [
    "# Ordenacao da tabela"
   ]
  },
  {
   "cell_type": "markdown",
   "metadata": {
    "application/vnd.databricks.v1+cell": {
     "cellMetadata": {},
     "inputWidgets": {},
     "nuid": "07473198-1f36-47db-8782-0f5fa846cab8",
     "showTitle": false,
     "tableResultSettingsMap": {},
     "title": ""
    }
   },
   "source": [
    "##Ordenando transações pelo preco_btc do maior para o menor"
   ]
  },
  {
   "cell_type": "code",
   "execution_count": 0,
   "metadata": {
    "application/vnd.databricks.v1+cell": {
     "cellMetadata": {
      "byteLimit": 2048000,
      "rowLimit": 10000
     },
     "inputWidgets": {},
     "nuid": "2058199b-43e7-4b96-8d1e-c0ce2336d78c",
     "showTitle": false,
     "tableResultSettingsMap": {},
     "title": ""
    }
   },
   "outputs": [
    {
     "output_type": "display_data",
     "data": {
      "text/html": [
       "<style scoped>\n",
       "  .table-result-container {\n",
       "    max-height: 300px;\n",
       "    overflow: auto;\n",
       "  }\n",
       "  table, th, td {\n",
       "    border: 1px solid black;\n",
       "    border-collapse: collapse;\n",
       "  }\n",
       "  th, td {\n",
       "    padding: 5px;\n",
       "  }\n",
       "  th {\n",
       "    text-align: left;\n",
       "  }\n",
       "</style><div class='table-result-container'><table class='table-result'><thead style='background-color: white'><tr><th>cliente</th><th>data_compra</th><th>preco_btc</th><th>quantidade_btc</th><th>total_de_compras</th></tr></thead><tbody><tr><td>Margaret Hawkins DDS</td><td>2024-07-08T00:00:00.000+0000</td><td>626697.78</td><td>1.40505</td><td>880541.715789</td></tr><tr><td>Zachary Hicks</td><td>2024-05-08T00:00:00.000+0000</td><td>649923.13</td><td>1.32714</td><td>862538.9827482</td></tr><tr><td>Dylan Miller</td><td>2024-01-19T00:00:00.000+0000</td><td>661851.98</td><td>1.2927</td><td>855576.054546</td></tr><tr><td>Amy Silva</td><td>2021-12-21T00:00:00.000+0000</td><td>577134.24</td><td>1.28409</td><td>741092.3062416</td></tr><tr><td>Allison Hill</td><td>2024-03-04T00:00:00.000+0000</td><td>611133.11</td><td>1.11258</td><td>679934.4755237999</td></tr></tbody></table></div>"
      ]
     },
     "metadata": {
      "application/vnd.databricks.v1+output": {
       "addedWidgets": {},
       "aggData": [],
       "aggError": "",
       "aggOverflow": false,
       "aggSchema": [],
       "aggSeriesLimitReached": false,
       "aggType": "",
       "arguments": {},
       "columnCustomDisplayInfos": {},
       "data": [
        [
         "Margaret Hawkins DDS",
         "2024-07-08T00:00:00.000+0000",
         626697.78,
         1.40505,
         880541.715789
        ],
        [
         "Zachary Hicks",
         "2024-05-08T00:00:00.000+0000",
         649923.13,
         1.32714,
         862538.9827482
        ],
        [
         "Dylan Miller",
         "2024-01-19T00:00:00.000+0000",
         661851.98,
         1.2927,
         855576.054546
        ],
        [
         "Amy Silva",
         "2021-12-21T00:00:00.000+0000",
         577134.24,
         1.28409,
         741092.3062416
        ],
        [
         "Allison Hill",
         "2024-03-04T00:00:00.000+0000",
         611133.11,
         1.11258,
         679934.4755237999
        ]
       ],
       "datasetInfos": [],
       "dbfsResultPath": null,
       "isJsonSchema": true,
       "metadata": {},
       "overflow": false,
       "plotOptions": {
        "customPlotOptions": {},
        "displayType": "table",
        "pivotAggregation": null,
        "pivotColumns": null,
        "xColumns": null,
        "yColumns": null
       },
       "removedWidgets": [],
       "schema": [
        {
         "metadata": "{}",
         "name": "cliente",
         "type": "\"string\""
        },
        {
         "metadata": "{}",
         "name": "data_compra",
         "type": "\"timestamp\""
        },
        {
         "metadata": "{}",
         "name": "preco_btc",
         "type": "\"double\""
        },
        {
         "metadata": "{}",
         "name": "quantidade_btc",
         "type": "\"double\""
        },
        {
         "metadata": "{}",
         "name": "total_de_compras",
         "type": "\"double\""
        }
       ],
       "type": "table"
      }
     },
     "output_type": "display_data"
    }
   ],
   "source": [
    "df_ordenado = df.sort_values(by='total_de_compras', ascending=False)\n",
    "display(df_ordenado.head())"
   ]
  },
  {
   "cell_type": "markdown",
   "metadata": {
    "application/vnd.databricks.v1+cell": {
     "cellMetadata": {},
     "inputWidgets": {},
     "nuid": "94eab78c-3d16-4eec-8b1e-13190eb74104",
     "showTitle": false,
     "tableResultSettingsMap": {},
     "title": ""
    }
   },
   "source": [
    "# Agrupamento de dados"
   ]
  },
  {
   "cell_type": "markdown",
   "metadata": {
    "application/vnd.databricks.v1+cell": {
     "cellMetadata": {},
     "inputWidgets": {},
     "nuid": "805fedd6-3efc-4856-9626-cbfd90667ef2",
     "showTitle": false,
     "tableResultSettingsMap": {},
     "title": ""
    }
   },
   "source": [
    "## O código abaixo faz duas operações principais:\n",
    "\n",
    "- Criação de uma nova coluna mes_compra extraindo o mês e ano da coluna data_compra.\n",
    "- Agrupamento das transações por mês e soma dos valores da coluna total_de_compra."
   ]
  },
  {
   "cell_type": "code",
   "execution_count": 0,
   "metadata": {
    "application/vnd.databricks.v1+cell": {
     "cellMetadata": {
      "byteLimit": 2048000,
      "rowLimit": 10000
     },
     "inputWidgets": {},
     "nuid": "8e742f19-7d71-4cf7-8ff5-9f4d52f2655c",
     "showTitle": false,
     "tableResultSettingsMap": {},
     "title": ""
    }
   },
   "outputs": [
    {
     "output_type": "stream",
     "name": "stderr",
     "output_type": "stream",
     "text": [
      "/databricks/spark/python/pyspark/sql/pandas/conversion.py:467: UserWarning:\n\ncreateDataFrame attempted Arrow optimization because 'spark.sql.execution.arrow.pyspark.enabled' is set to true; however, failed by the reason below:\n  Unable to convert the field mes_compra. If this column is not necessary, you may consider dropping it or converting to primitive type before the conversion.\nDirect cause: Unsupported type in conversion from Arrow: extension<pandas.period<ArrowPeriodType>>\nAttempting non-optimization as 'spark.sql.execution.arrow.pyspark.fallback.enabled' is set to true.\n\n"
     ]
    },
    {
     "output_type": "display_data",
     "data": {
      "text/html": [
       "<style scoped>\n",
       "  .table-result-container {\n",
       "    max-height: 300px;\n",
       "    overflow: auto;\n",
       "  }\n",
       "  table, th, td {\n",
       "    border: 1px solid black;\n",
       "    border-collapse: collapse;\n",
       "  }\n",
       "  th, td {\n",
       "    padding: 5px;\n",
       "  }\n",
       "  th {\n",
       "    text-align: left;\n",
       "  }\n",
       "</style><div class='table-result-container'><table class='table-result'><thead style='background-color: white'><tr><th>mes_compra</th><th>total_de_compras</th></tr></thead><tbody><tr><td>List()</td><td>15605.2362294</td></tr><tr><td>List()</td><td>175308.2614948</td></tr><tr><td>List()</td><td>12072.413383799998</td></tr><tr><td>List()</td><td>16842.6127474</td></tr><tr><td>List()</td><td>70809.3943251</td></tr><tr><td>List()</td><td>6669.4304544</td></tr><tr><td>List()</td><td>145661.531684</td></tr><tr><td>List()</td><td>90088.199436</td></tr><tr><td>List()</td><td>21930.1268963</td></tr><tr><td>List()</td><td>48702.350250400006</td></tr><tr><td>List()</td><td>125170.60714560002</td></tr><tr><td>List()</td><td>83641.38598620001</td></tr><tr><td>List()</td><td>8914.3594372</td></tr><tr><td>List()</td><td>61793.04803130001</td></tr><tr><td>List()</td><td>31565.0718072</td></tr><tr><td>List()</td><td>216413.71949590003</td></tr><tr><td>List()</td><td>32782.095871800004</td></tr><tr><td>List()</td><td>91957.9489367</td></tr><tr><td>List()</td><td>28776.4782624</td></tr><tr><td>List()</td><td>211331.58662329998</td></tr><tr><td>List()</td><td>148033.02037430002</td></tr><tr><td>List()</td><td>1145.5297962</td></tr><tr><td>List()</td><td>114322.29893040001</td></tr><tr><td>List()</td><td>114283.171392</td></tr><tr><td>List()</td><td>24172.3942362</td></tr><tr><td>List()</td><td>55167.428326400004</td></tr><tr><td>List()</td><td>37732.2839415</td></tr><tr><td>List()</td><td>259001.24045450002</td></tr><tr><td>List()</td><td>299808.5870799</td></tr><tr><td>List()</td><td>87554.818701</td></tr><tr><td>List()</td><td>48642.0403011</td></tr><tr><td>List()</td><td>860160.6799554</td></tr><tr><td>List()</td><td>392588.9267652</td></tr><tr><td>List()</td><td>741092.3062416</td></tr><tr><td>List()</td><td>45509.144757</td></tr><tr><td>List()</td><td>556773.819173</td></tr><tr><td>List()</td><td>276910.2143388</td></tr><tr><td>List()</td><td>108381.0530368</td></tr><tr><td>List()</td><td>105126.0973774</td></tr><tr><td>List()</td><td>735046.7980032001</td></tr><tr><td>List()</td><td>330186.7649808</td></tr><tr><td>List()</td><td>315144.79537440004</td></tr><tr><td>List()</td><td>98546.2421377</td></tr><tr><td>List()</td><td>783149.3959384</td></tr><tr><td>List()</td><td>796656.8351156001</td></tr><tr><td>List()</td><td>211915.1618424</td></tr><tr><td>List()</td><td>286216.87398639997</td></tr><tr><td>List()</td><td>292852.7721042</td></tr><tr><td>List()</td><td>1131069.1464005</td></tr><tr><td>List()</td><td>25423.695161000003</td></tr><tr><td>List()</td><td>316067.7470924</td></tr><tr><td>List()</td><td>14386.7341366</td></tr><tr><td>List()</td><td>136810.345325</td></tr><tr><td>List()</td><td>203429.898216</td></tr><tr><td>List()</td><td>1459464.6435252</td></tr><tr><td>List()</td><td>937035.5342551998</td></tr><tr><td>List()</td><td>578501.4444075</td></tr><tr><td>List()</td><td>862538.9827482</td></tr><tr><td>List()</td><td>270782.7901857</td></tr><tr><td>List()</td><td>1963043.2004951</td></tr><tr><td>List()</td><td>613524.0969250001</td></tr><tr><td>List()</td><td>963931.2023913999</td></tr><tr><td>List()</td><td>228229.30305400002</td></tr><tr><td>List()</td><td>395480.53019580006</td></tr></tbody></table></div>"
      ]
     },
     "metadata": {
      "application/vnd.databricks.v1+output": {
       "addedWidgets": {},
       "aggData": [],
       "aggError": "",
       "aggOverflow": false,
       "aggSchema": [],
       "aggSeriesLimitReached": false,
       "aggType": "",
       "arguments": {},
       "columnCustomDisplayInfos": {},
       "data": [
        [
         [],
         15605.2362294
        ],
        [
         [],
         175308.2614948
        ],
        [
         [],
         12072.413383799998
        ],
        [
         [],
         16842.6127474
        ],
        [
         [],
         70809.3943251
        ],
        [
         [],
         6669.4304544
        ],
        [
         [],
         145661.531684
        ],
        [
         [],
         90088.199436
        ],
        [
         [],
         21930.1268963
        ],
        [
         [],
         48702.350250400006
        ],
        [
         [],
         125170.60714560002
        ],
        [
         [],
         83641.38598620001
        ],
        [
         [],
         8914.3594372
        ],
        [
         [],
         61793.04803130001
        ],
        [
         [],
         31565.0718072
        ],
        [
         [],
         216413.71949590003
        ],
        [
         [],
         32782.095871800004
        ],
        [
         [],
         91957.9489367
        ],
        [
         [],
         28776.4782624
        ],
        [
         [],
         211331.58662329998
        ],
        [
         [],
         148033.02037430002
        ],
        [
         [],
         1145.5297962
        ],
        [
         [],
         114322.29893040001
        ],
        [
         [],
         114283.171392
        ],
        [
         [],
         24172.3942362
        ],
        [
         [],
         55167.428326400004
        ],
        [
         [],
         37732.2839415
        ],
        [
         [],
         259001.24045450002
        ],
        [
         [],
         299808.5870799
        ],
        [
         [],
         87554.818701
        ],
        [
         [],
         48642.0403011
        ],
        [
         [],
         860160.6799554
        ],
        [
         [],
         392588.9267652
        ],
        [
         [],
         741092.3062416
        ],
        [
         [],
         45509.144757
        ],
        [
         [],
         556773.819173
        ],
        [
         [],
         276910.2143388
        ],
        [
         [],
         108381.0530368
        ],
        [
         [],
         105126.0973774
        ],
        [
         [],
         735046.7980032001
        ],
        [
         [],
         330186.7649808
        ],
        [
         [],
         315144.79537440004
        ],
        [
         [],
         98546.2421377
        ],
        [
         [],
         783149.3959384
        ],
        [
         [],
         796656.8351156001
        ],
        [
         [],
         211915.1618424
        ],
        [
         [],
         286216.87398639997
        ],
        [
         [],
         292852.7721042
        ],
        [
         [],
         1131069.1464005
        ],
        [
         [],
         25423.695161000003
        ],
        [
         [],
         316067.7470924
        ],
        [
         [],
         14386.7341366
        ],
        [
         [],
         136810.345325
        ],
        [
         [],
         203429.898216
        ],
        [
         [],
         1459464.6435252
        ],
        [
         [],
         937035.5342551998
        ],
        [
         [],
         578501.4444075
        ],
        [
         [],
         862538.9827482
        ],
        [
         [],
         270782.7901857
        ],
        [
         [],
         1963043.2004951
        ],
        [
         [],
         613524.0969250001
        ],
        [
         [],
         963931.2023913999
        ],
        [
         [],
         228229.30305400002
        ],
        [
         [],
         395480.53019580006
        ]
       ],
       "datasetInfos": [],
       "dbfsResultPath": null,
       "isJsonSchema": true,
       "metadata": {},
       "overflow": false,
       "plotOptions": {
        "customPlotOptions": {},
        "displayType": "table",
        "pivotAggregation": null,
        "pivotColumns": null,
        "xColumns": null,
        "yColumns": null
       },
       "removedWidgets": [],
       "schema": [
        {
         "metadata": "{}",
         "name": "mes_compra",
         "type": "{\"type\":\"struct\",\"fields\":[]}"
        },
        {
         "metadata": "{}",
         "name": "total_de_compras",
         "type": "\"double\""
        }
       ],
       "type": "table"
      }
     },
     "output_type": "display_data"
    }
   ],
   "source": [
    "df[\"mes_compra\"] = df[\"data_compra\"].dt.to_period(\"M\")\n",
    "\n",
    "df_agrupado = df.groupby(\"mes_compra\")[\"total_de_compras\"].sum().reset_index()\n",
    "display(df_agrupado)"
   ]
  },
  {
   "cell_type": "markdown",
   "metadata": {
    "application/vnd.databricks.v1+cell": {
     "cellMetadata": {},
     "inputWidgets": {},
     "nuid": "776b371f-1498-4115-806d-8e892bbe302e",
     "showTitle": false,
     "tableResultSettingsMap": {},
     "title": ""
    }
   },
   "source": [
    "# Aplicando Condições (If no Pandas)"
   ]
  },
  {
   "cell_type": "markdown",
   "metadata": {
    "application/vnd.databricks.v1+cell": {
     "cellMetadata": {},
     "inputWidgets": {},
     "nuid": "c3a477de-4dfe-4f40-93ac-5fdc16d12c12",
     "showTitle": false,
     "tableResultSettingsMap": {},
     "title": ""
    }
   },
   "source": [
    "## Criando uma coluna que indica se a compra foi acima de R$ 200.000:"
   ]
  },
  {
   "cell_type": "code",
   "execution_count": 0,
   "metadata": {
    "application/vnd.databricks.v1+cell": {
     "cellMetadata": {
      "byteLimit": 2048000,
      "rowLimit": 10000
     },
     "inputWidgets": {},
     "nuid": "d63d369e-3b48-48e7-b95b-b9e9b7121296",
     "showTitle": false,
     "tableResultSettingsMap": {},
     "title": ""
    }
   },
   "outputs": [
    {
     "output_type": "display_data",
     "data": {
      "text/html": [
       "<style scoped>\n",
       "  .table-result-container {\n",
       "    max-height: 300px;\n",
       "    overflow: auto;\n",
       "  }\n",
       "  table, th, td {\n",
       "    border: 1px solid black;\n",
       "    border-collapse: collapse;\n",
       "  }\n",
       "  th, td {\n",
       "    padding: 5px;\n",
       "  }\n",
       "  th {\n",
       "    text-align: left;\n",
       "  }\n",
       "</style><div class='table-result-container'><table class='table-result'><thead style='background-color: white'><tr><th>cliente</th><th>total_de_compras</th><th>alta_compra</th></tr></thead><tbody><tr><td>Sherry Decker</td><td>395480.53019580006</td><td>true</td></tr><tr><td>Gerald Hensley</td><td>228229.30305400002</td><td>true</td></tr><tr><td>Timothy Duncan</td><td>290375.1014086</td><td>true</td></tr><tr><td>Matthew Foster</td><td>673556.1009827999</td><td>true</td></tr><tr><td>Jeffrey Chavez</td><td>61800.44568</td><td>false</td></tr></tbody></table></div>"
      ]
     },
     "metadata": {
      "application/vnd.databricks.v1+output": {
       "addedWidgets": {},
       "aggData": [],
       "aggError": "",
       "aggOverflow": false,
       "aggSchema": [],
       "aggSeriesLimitReached": false,
       "aggType": "",
       "arguments": {},
       "columnCustomDisplayInfos": {},
       "data": [
        [
         "Sherry Decker",
         395480.53019580006,
         true
        ],
        [
         "Gerald Hensley",
         228229.30305400002,
         true
        ],
        [
         "Timothy Duncan",
         290375.1014086,
         true
        ],
        [
         "Matthew Foster",
         673556.1009827999,
         true
        ],
        [
         "Jeffrey Chavez",
         61800.44568,
         false
        ]
       ],
       "datasetInfos": [],
       "dbfsResultPath": null,
       "isJsonSchema": true,
       "metadata": {},
       "overflow": false,
       "plotOptions": {
        "customPlotOptions": {},
        "displayType": "table",
        "pivotAggregation": null,
        "pivotColumns": null,
        "xColumns": null,
        "yColumns": null
       },
       "removedWidgets": [],
       "schema": [
        {
         "metadata": "{}",
         "name": "cliente",
         "type": "\"string\""
        },
        {
         "metadata": "{}",
         "name": "total_de_compras",
         "type": "\"double\""
        },
        {
         "metadata": "{}",
         "name": "alta_compra",
         "type": "\"boolean\""
        }
       ],
       "type": "table"
      }
     },
     "output_type": "display_data"
    }
   ],
   "source": [
    "df[\"alta_compra\"] = df[\"total_de_compras\"] > 200000\n",
    "display(df[[\"cliente\", \"total_de_compras\", \"alta_compra\"]].head())"
   ]
  },
  {
   "cell_type": "markdown",
   "metadata": {
    "application/vnd.databricks.v1+cell": {
     "cellMetadata": {},
     "inputWidgets": {},
     "nuid": "39e9d8e0-791e-4dec-8aa3-7cfd69bbbdaa",
     "showTitle": false,
     "tableResultSettingsMap": {},
     "title": ""
    }
   },
   "source": [
    "# Estatistica Basica\n",
    "\n",
    "Podemos gerar estatísticas rápidas sobre os dados."
   ]
  },
  {
   "cell_type": "markdown",
   "metadata": {
    "application/vnd.databricks.v1+cell": {
     "cellMetadata": {},
     "inputWidgets": {},
     "nuid": "20688542-7bcc-4849-9dec-7af7615573e7",
     "showTitle": false,
     "tableResultSettingsMap": {},
     "title": ""
    }
   },
   "source": [
    "###Verificando estatísticas descritivas:"
   ]
  },
  {
   "cell_type": "code",
   "execution_count": 0,
   "metadata": {
    "application/vnd.databricks.v1+cell": {
     "cellMetadata": {
      "byteLimit": 2048000,
      "rowLimit": 10000
     },
     "inputWidgets": {},
     "nuid": "e19f2be8-756e-4b35-b0f9-2cab2ebacb67",
     "showTitle": false,
     "tableResultSettingsMap": {},
     "title": ""
    }
   },
   "outputs": [
    {
     "output_type": "display_data",
     "data": {
      "text/html": [
       "<style scoped>\n",
       "  .table-result-container {\n",
       "    max-height: 300px;\n",
       "    overflow: auto;\n",
       "  }\n",
       "  table, th, td {\n",
       "    border: 1px solid black;\n",
       "    border-collapse: collapse;\n",
       "  }\n",
       "  th, td {\n",
       "    padding: 5px;\n",
       "  }\n",
       "  th {\n",
       "    text-align: left;\n",
       "  }\n",
       "</style><div class='table-result-container'><table class='table-result'><thead style='background-color: white'><tr><th>preco_btc</th><th>quantidade_btc</th><th>total_de_compras</th></tr></thead><tbody><tr><td>100.0</td><td>100.0</td><td>100.0</td></tr><tr><td>256800.68159999995</td><td>0.7764485999999999</td><td>197218.75847675602</td></tr><tr><td>215494.84059827388</td><td>0.4724554333490626</td><td>217412.8566673595</td></tr><tr><td>7155.12</td><td>0.01074</td><td>720.8277418</td></tr><tr><td>69510.155</td><td>0.3575975</td><td>41573.1460199</td></tr><tr><td>200151.675</td><td>0.813715</td><td>108696.6472648</td></tr><tr><td>413989.41</td><td>1.1705975</td><td>287256.43084195</td></tr><tr><td>674066.77</td><td>1.49892</td><td>880541.715789</td></tr></tbody></table></div>"
      ]
     },
     "metadata": {
      "application/vnd.databricks.v1+output": {
       "addedWidgets": {},
       "aggData": [],
       "aggError": "",
       "aggOverflow": false,
       "aggSchema": [],
       "aggSeriesLimitReached": false,
       "aggType": "",
       "arguments": {},
       "columnCustomDisplayInfos": {},
       "data": [
        [
         100.0,
         100.0,
         100.0
        ],
        [
         256800.68159999995,
         0.7764485999999999,
         197218.75847675602
        ],
        [
         215494.84059827388,
         0.4724554333490626,
         217412.8566673595
        ],
        [
         7155.12,
         0.01074,
         720.8277418
        ],
        [
         69510.155,
         0.3575975,
         41573.1460199
        ],
        [
         200151.675,
         0.813715,
         108696.6472648
        ],
        [
         413989.41,
         1.1705975,
         287256.43084195
        ],
        [
         674066.77,
         1.49892,
         880541.715789
        ]
       ],
       "datasetInfos": [],
       "dbfsResultPath": null,
       "isJsonSchema": true,
       "metadata": {},
       "overflow": false,
       "plotOptions": {
        "customPlotOptions": {},
        "displayType": "table",
        "pivotAggregation": null,
        "pivotColumns": null,
        "xColumns": null,
        "yColumns": null
       },
       "removedWidgets": [],
       "schema": [
        {
         "metadata": "{}",
         "name": "preco_btc",
         "type": "\"double\""
        },
        {
         "metadata": "{}",
         "name": "quantidade_btc",
         "type": "\"double\""
        },
        {
         "metadata": "{}",
         "name": "total_de_compras",
         "type": "\"double\""
        }
       ],
       "type": "table"
      }
     },
     "output_type": "display_data"
    }
   ],
   "source": [
    "display(df.describe())  # Mostra média, mínimo, máximo e desvio padrão"
   ]
  },
  {
   "cell_type": "markdown",
   "metadata": {
    "application/vnd.databricks.v1+cell": {
     "cellMetadata": {},
     "inputWidgets": {},
     "nuid": "48265c53-91aa-4ff7-ba26-0c025c0c4860",
     "showTitle": false,
     "tableResultSettingsMap": {},
     "title": ""
    }
   },
   "source": [
    "### Verificando se há valores nulos:"
   ]
  },
  {
   "cell_type": "code",
   "execution_count": 0,
   "metadata": {
    "application/vnd.databricks.v1+cell": {
     "cellMetadata": {
      "byteLimit": 2048000,
      "rowLimit": 10000
     },
     "inputWidgets": {},
     "nuid": "a7bfd7cb-acc1-4c96-acd5-836b7933415b",
     "showTitle": false,
     "tableResultSettingsMap": {},
     "title": ""
    }
   },
   "outputs": [
    {
     "output_type": "stream",
     "name": "stdout",
     "output_type": "stream",
     "text": [
      "cliente               0\ndata_compra           0\npreco_btc             0\nquantidade_btc        0\ntotal_de_compras      0\nmes_compra            0\nresultado_operacao    0\nmes_compra_str        0\nalta_compra           0\ndtype: int64"
     ]
    }
   ],
   "source": [
    "display(df.isnull().sum())  # Conta quantos valores nulos existem por coluna"
   ]
  },
  {
   "cell_type": "code",
   "execution_count": 0,
   "metadata": {
    "application/vnd.databricks.v1+cell": {
     "cellMetadata": {
      "byteLimit": 2048000,
      "rowLimit": 10000
     },
     "inputWidgets": {},
     "nuid": "6a76eda6-9235-4cf7-8761-c92495d7e527",
     "showTitle": false,
     "tableResultSettingsMap": {},
     "title": ""
    }
   },
   "outputs": [
    {
     "output_type": "stream",
     "name": "stdout",
     "output_type": "stream",
     "text": [
      "Requirement already satisfied: requests in /databricks/python3/lib/python3.9/site-packages (2.27.1)\r\nRequirement already satisfied: urllib3<1.27,>=1.21.1 in /databricks/python3/lib/python3.9/site-packages (from requests) (1.26.9)\r\nRequirement already satisfied: certifi>=2017.4.17 in /databricks/python3/lib/python3.9/site-packages (from requests) (2021.10.8)\r\nRequirement already satisfied: charset-normalizer~=2.0.0 in /databricks/python3/lib/python3.9/site-packages (from requests) (2.0.4)\r\nRequirement already satisfied: idna<4,>=2.5 in /databricks/python3/lib/python3.9/site-packages (from requests) (3.3)\r\n"
     ]
    }
   ],
   "source": [
    "!pip install requests"
   ]
  },
  {
   "cell_type": "code",
   "execution_count": 0,
   "metadata": {
    "application/vnd.databricks.v1+cell": {
     "cellMetadata": {
      "byteLimit": 2048000,
      "rowLimit": 10000
     },
     "inputWidgets": {},
     "nuid": "67ab9a8a-7f44-4c98-a90f-9211679b4e3e",
     "showTitle": false,
     "tableResultSettingsMap": {},
     "title": ""
    }
   },
   "outputs": [],
   "source": [
    "import requests"
   ]
  },
  {
   "cell_type": "code",
   "execution_count": 0,
   "metadata": {
    "application/vnd.databricks.v1+cell": {
     "cellMetadata": {
      "byteLimit": 2048000,
      "rowLimit": 10000
     },
     "inputWidgets": {},
     "nuid": "cb687928-89ee-482e-99e1-a80140e0f010",
     "showTitle": false,
     "tableResultSettingsMap": {},
     "title": ""
    }
   },
   "outputs": [
    {
     "output_type": "stream",
     "name": "stdout",
     "output_type": "stream",
     "text": [
      "Preço atual do Bitcoin: $105586.58\n"
     ]
    }
   ],
   "source": [
    "# URL da API para obter o preço atual do Bitcoin em USD\n",
    "url = \"https://api.coinbase.com/v2/prices/spot\"\n",
    "\n",
    "# Fazendo a requisição para a API\n",
    "response = requests.get(url)\n",
    "\n",
    "# Convertendo o JSON para um dicionário Python\n",
    "dados = response.json()\n",
    "\n",
    "# Extraindo o preço do Bitcoin em dólares\n",
    "preco_atual_btc_dolar = round(float(dados['data']['amount']),2)\n",
    "\n",
    "print(f\"Preço atual do Bitcoin: ${preco_atual_btc:.2f}\")"
   ]
  },
  {
   "cell_type": "code",
   "execution_count": 0,
   "metadata": {
    "application/vnd.databricks.v1+cell": {
     "cellMetadata": {
      "byteLimit": 2048000,
      "rowLimit": 10000
     },
     "inputWidgets": {},
     "nuid": "cc524708-e95d-4f0f-83c5-2f5aeb2e4fdf",
     "showTitle": false,
     "tableResultSettingsMap": {},
     "title": ""
    }
   },
   "outputs": [
    {
     "output_type": "display_data",
     "data": {
      "text/html": [
       "<style scoped>\n",
       "  .table-result-container {\n",
       "    max-height: 300px;\n",
       "    overflow: auto;\n",
       "  }\n",
       "  table, th, td {\n",
       "    border: 1px solid black;\n",
       "    border-collapse: collapse;\n",
       "  }\n",
       "  th, td {\n",
       "    padding: 5px;\n",
       "  }\n",
       "  th {\n",
       "    text-align: left;\n",
       "  }\n",
       "</style><div class='table-result-container'><table class='table-result'><thead style='background-color: white'><tr><th>cliente</th><th>data_compra</th><th>preco_btc</th><th>quantidade_btc</th><th>total_de_compras</th><th>mes_compra</th><th>resultado_operacao</th><th>mes_compra_str</th><th>alta_compra</th></tr></thead><tbody><tr><td>Sherry Decker</td><td>2025-01-26T00:00:00.000+0000</td><td>526338.91</td><td>0.75138</td><td>395480.53019580006</td><td>List()</td><td>Prejuizo</td><td>2025-01</td><td>true</td></tr><tr><td>Gerald Hensley</td><td>2024-12-09T00:00:00.000+0000</td><td>663110.3</td><td>0.34418</td><td>228229.30305400002</td><td>List()</td><td>Prejuizo</td><td>2024-12</td><td>true</td></tr><tr><td>Timothy Duncan</td><td>2024-09-26T00:00:00.000+0000</td><td>620115.11</td><td>0.46826</td><td>290375.1014086</td><td>List()</td><td>Prejuizo</td><td>2024-09</td><td>true</td></tr><tr><td>Matthew Foster</td><td>2024-09-19T00:00:00.000+0000</td><td>655694.97</td><td>1.02724</td><td>673556.1009827999</td><td>List()</td><td>Prejuizo</td><td>2024-09</td><td>true</td></tr><tr><td>Jeffrey Chavez</td><td>2024-08-19T00:00:00.000+0000</td><td>642216.0</td><td>0.09623</td><td>61800.44568</td><td>List()</td><td>Prejuizo</td><td>2024-08</td><td>false</td></tr></tbody></table></div>"
      ]
     },
     "metadata": {
      "application/vnd.databricks.v1+output": {
       "addedWidgets": {},
       "aggData": [],
       "aggError": "",
       "aggOverflow": false,
       "aggSchema": [],
       "aggSeriesLimitReached": false,
       "aggType": "",
       "arguments": {},
       "columnCustomDisplayInfos": {},
       "data": [
        [
         "Sherry Decker",
         "2025-01-26T00:00:00.000+0000",
         526338.91,
         0.75138,
         395480.53019580006,
         [],
         "Prejuizo",
         "2025-01",
         true
        ],
        [
         "Gerald Hensley",
         "2024-12-09T00:00:00.000+0000",
         663110.3,
         0.34418,
         228229.30305400002,
         [],
         "Prejuizo",
         "2024-12",
         true
        ],
        [
         "Timothy Duncan",
         "2024-09-26T00:00:00.000+0000",
         620115.11,
         0.46826,
         290375.1014086,
         [],
         "Prejuizo",
         "2024-09",
         true
        ],
        [
         "Matthew Foster",
         "2024-09-19T00:00:00.000+0000",
         655694.97,
         1.02724,
         673556.1009827999,
         [],
         "Prejuizo",
         "2024-09",
         true
        ],
        [
         "Jeffrey Chavez",
         "2024-08-19T00:00:00.000+0000",
         642216.0,
         0.09623,
         61800.44568,
         [],
         "Prejuizo",
         "2024-08",
         false
        ]
       ],
       "datasetInfos": [],
       "dbfsResultPath": null,
       "isJsonSchema": true,
       "metadata": {},
       "overflow": false,
       "plotOptions": {
        "customPlotOptions": {},
        "displayType": "table",
        "pivotAggregation": null,
        "pivotColumns": null,
        "xColumns": null,
        "yColumns": null
       },
       "removedWidgets": [],
       "schema": [
        {
         "metadata": "{}",
         "name": "cliente",
         "type": "\"string\""
        },
        {
         "metadata": "{}",
         "name": "data_compra",
         "type": "\"timestamp\""
        },
        {
         "metadata": "{}",
         "name": "preco_btc",
         "type": "\"double\""
        },
        {
         "metadata": "{}",
         "name": "quantidade_btc",
         "type": "\"double\""
        },
        {
         "metadata": "{}",
         "name": "total_de_compras",
         "type": "\"double\""
        },
        {
         "metadata": "{}",
         "name": "mes_compra",
         "type": "{\"type\":\"struct\",\"fields\":[]}"
        },
        {
         "metadata": "{}",
         "name": "resultado_operacao",
         "type": "\"string\""
        },
        {
         "metadata": "{}",
         "name": "mes_compra_str",
         "type": "\"string\""
        },
        {
         "metadata": "{}",
         "name": "alta_compra",
         "type": "\"boolean\""
        }
       ],
       "type": "table"
      }
     },
     "output_type": "display_data"
    }
   ],
   "source": [
    "# Obtendo a cotacao do dolar em relacao ao real da AwesomeAPI\n",
    "url_dolar = \"https://economia.awesomeapi.com.br/last/USD-BRL\"\n",
    "response_dolar = requests.get(url_dolar)\n",
    "dados_dolar = response_dolar.json()\n",
    "\n",
    "# Extraindo a cotacao do dolar\n",
    "cotacao_dolar_real = float(dados_dolar[\"USDBRL\"][\"bid\"])\n",
    "\n",
    "# Convertendo o preco do BTC para R$\n",
    "preco_atual_btc_real = preco_atual_btc_dolar * cotacao_dolar_real\n",
    "\n",
    "# verificar se obteve lucro ou prejuizo com a compra do bitcoin\n",
    "def verificar_lucro(preco_btc):\n",
    "    if  preco_btc < preco_atual_btc:\n",
    "        return 'Lucro'\n",
    "    else:\n",
    "        return 'Prejuizo'\n",
    "    \n",
    "# Aplicando a funcao para categorizar cada transacao\n",
    "df['resultado_operacao'] = df['preco_btc'].apply(verificar_lucro)\n",
    "display(df.head())"
   ]
  },
  {
   "cell_type": "code",
   "execution_count": 0,
   "metadata": {
    "application/vnd.databricks.v1+cell": {
     "cellMetadata": {
      "byteLimit": 2048000,
      "rowLimit": 10000
     },
     "inputWidgets": {},
     "nuid": "3f4c4287-48fa-4f25-add5-7e8e2f5f71d3",
     "showTitle": false,
     "tableResultSettingsMap": {},
     "title": ""
    }
   },
   "outputs": [
    {
     "output_type": "stream",
     "name": "stdout",
     "output_type": "stream",
     "text": [
      "Requirement already satisfied: plotly in /databricks/python3/lib/python3.9/site-packages (5.6.0)\r\nRequirement already satisfied: tenacity>=6.2.0 in /databricks/python3/lib/python3.9/site-packages (from plotly) (8.0.1)\r\nRequirement already satisfied: six in /databricks/python3/lib/python3.9/site-packages (from plotly) (1.16.0)\r\n"
     ]
    }
   ],
   "source": [
    "!pip install plotly"
   ]
  },
  {
   "cell_type": "code",
   "execution_count": 0,
   "metadata": {
    "application/vnd.databricks.v1+cell": {
     "cellMetadata": {
      "byteLimit": 2048000,
      "rowLimit": 10000
     },
     "inputWidgets": {},
     "nuid": "ab4757f4-9267-4696-b490-ef8f63615e2e",
     "showTitle": false,
     "tableResultSettingsMap": {},
     "title": ""
    }
   },
   "outputs": [
    {
     "output_type": "display_data",
     "data": {
      "text/html": [
       "<html>\n",
       "<head><meta charset=\"utf-8\" /></head>\n",
       "<body>\n",
       "    <div>            <script src=\"https://cdnjs.cloudflare.com/ajax/libs/mathjax/2.7.5/MathJax.js?config=TeX-AMS-MML_SVG\"></script><script type=\"text/javascript\">if (window.MathJax) {MathJax.Hub.Config({SVG: {font: \"STIX-Web\"}});}</script>                <script type=\"text/javascript\">window.PlotlyConfig = {MathJaxConfig: 'local'};</script>\n",
       "        <script src=\"https://cdn.plot.ly/plotly-2.9.0.min.js\"></script>                <div id=\"3cdeae74-f183-4853-a900-05f8b672fe91\" class=\"plotly-graph-div\" style=\"height:100%; width:100%;\"></div>            <script type=\"text/javascript\">                                    window.PLOTLYENV=window.PLOTLYENV || {};                                    if (document.getElementById(\"3cdeae74-f183-4853-a900-05f8b672fe91\")) {                    Plotly.newPlot(                        \"3cdeae74-f183-4853-a900-05f8b672fe91\",                        [{\"alignmentgroup\":\"True\",\"hovertemplate\":\"M\\u00eas=%{x}<br>Total de Compra (USD)=%{y}<extra></extra>\",\"legendgroup\":\"\",\"marker\":{\"color\":\"#636efa\",\"pattern\":{\"shape\":\"\"}},\"name\":\"\",\"offsetgroup\":\"\",\"orientation\":\"v\",\"showlegend\":false,\"textposition\":\"auto\",\"texttemplate\":\"%{y}\",\"x\":[\"2017-02\",\"2017-03\",\"2017-05\",\"2017-08\",\"2017-09\",\"2017-10\",\"2017-11\",\"2018-02\",\"2018-03\",\"2018-09\",\"2018-10\",\"2018-11\",\"2019-01\",\"2019-02\",\"2019-04\",\"2019-05\",\"2019-06\",\"2019-08\",\"2019-09\",\"2019-10\",\"2019-12\",\"2020-02\",\"2020-03\",\"2020-05\",\"2020-06\",\"2020-07\",\"2020-10\",\"2020-11\",\"2021-01\",\"2021-02\",\"2021-03\",\"2021-04\",\"2021-08\",\"2021-12\",\"2022-01\",\"2022-02\",\"2022-03\",\"2022-04\",\"2022-05\",\"2022-06\",\"2022-08\",\"2022-09\",\"2022-10\",\"2022-12\",\"2023-01\",\"2023-02\",\"2023-03\",\"2023-04\",\"2023-05\",\"2023-06\",\"2023-07\",\"2023-08\",\"2023-10\",\"2023-12\",\"2024-01\",\"2024-03\",\"2024-04\",\"2024-05\",\"2024-06\",\"2024-07\",\"2024-08\",\"2024-09\",\"2024-12\",\"2025-01\"],\"xaxis\":\"x\",\"y\":[15605.2362294,175308.2614948,12072.413383799998,16842.6127474,70809.3943251,6669.4304544,145661.531684,90088.199436,21930.1268963,48702.350250400006,125170.60714560002,83641.38598620001,8914.3594372,61793.04803130001,31565.0718072,216413.71949590003,32782.095871800004,91957.9489367,28776.4782624,211331.58662329998,148033.02037430002,1145.5297962,114322.29893040001,114283.171392,24172.3942362,55167.428326400004,37732.2839415,259001.24045450002,299808.5870799,87554.818701,48642.0403011,860160.6799554,392588.9267652,741092.3062416,45509.144757,556773.819173,276910.2143388,108381.0530368,105126.0973774,735046.7980032001,330186.7649808,315144.79537440004,98546.2421377,783149.3959384,796656.8351156001,211915.1618424,286216.87398639997,292852.7721042,1131069.1464005,25423.695161000003,316067.7470924,14386.7341366,136810.345325,203429.898216,1459464.6435252,937035.5342551998,578501.4444075,862538.9827482,270782.7901857,1963043.2004951,613524.0969250001,963931.2023913999,228229.30305400002,395480.53019580006],\"yaxis\":\"y\",\"type\":\"bar\"}],                        {\"template\":{\"data\":{\"bar\":[{\"error_x\":{\"color\":\"#2a3f5f\"},\"error_y\":{\"color\":\"#2a3f5f\"},\"marker\":{\"line\":{\"color\":\"#E5ECF6\",\"width\":0.5},\"pattern\":{\"fillmode\":\"overlay\",\"size\":10,\"solidity\":0.2}},\"type\":\"bar\"}],\"barpolar\":[{\"marker\":{\"line\":{\"color\":\"#E5ECF6\",\"width\":0.5},\"pattern\":{\"fillmode\":\"overlay\",\"size\":10,\"solidity\":0.2}},\"type\":\"barpolar\"}],\"carpet\":[{\"aaxis\":{\"endlinecolor\":\"#2a3f5f\",\"gridcolor\":\"white\",\"linecolor\":\"white\",\"minorgridcolor\":\"white\",\"startlinecolor\":\"#2a3f5f\"},\"baxis\":{\"endlinecolor\":\"#2a3f5f\",\"gridcolor\":\"white\",\"linecolor\":\"white\",\"minorgridcolor\":\"white\",\"startlinecolor\":\"#2a3f5f\"},\"type\":\"carpet\"}],\"choropleth\":[{\"colorbar\":{\"outlinewidth\":0,\"ticks\":\"\"},\"type\":\"choropleth\"}],\"contour\":[{\"colorbar\":{\"outlinewidth\":0,\"ticks\":\"\"},\"colorscale\":[[0.0,\"#0d0887\"],[0.1111111111111111,\"#46039f\"],[0.2222222222222222,\"#7201a8\"],[0.3333333333333333,\"#9c179e\"],[0.4444444444444444,\"#bd3786\"],[0.5555555555555556,\"#d8576b\"],[0.6666666666666666,\"#ed7953\"],[0.7777777777777778,\"#fb9f3a\"],[0.8888888888888888,\"#fdca26\"],[1.0,\"#f0f921\"]],\"type\":\"contour\"}],\"contourcarpet\":[{\"colorbar\":{\"outlinewidth\":0,\"ticks\":\"\"},\"type\":\"contourcarpet\"}],\"heatmap\":[{\"colorbar\":{\"outlinewidth\":0,\"ticks\":\"\"},\"colorscale\":[[0.0,\"#0d0887\"],[0.1111111111111111,\"#46039f\"],[0.2222222222222222,\"#7201a8\"],[0.3333333333333333,\"#9c179e\"],[0.4444444444444444,\"#bd3786\"],[0.5555555555555556,\"#d8576b\"],[0.6666666666666666,\"#ed7953\"],[0.7777777777777778,\"#fb9f3a\"],[0.8888888888888888,\"#fdca26\"],[1.0,\"#f0f921\"]],\"type\":\"heatmap\"}],\"heatmapgl\":[{\"colorbar\":{\"outlinewidth\":0,\"ticks\":\"\"},\"colorscale\":[[0.0,\"#0d0887\"],[0.1111111111111111,\"#46039f\"],[0.2222222222222222,\"#7201a8\"],[0.3333333333333333,\"#9c179e\"],[0.4444444444444444,\"#bd3786\"],[0.5555555555555556,\"#d8576b\"],[0.6666666666666666,\"#ed7953\"],[0.7777777777777778,\"#fb9f3a\"],[0.8888888888888888,\"#fdca26\"],[1.0,\"#f0f921\"]],\"type\":\"heatmapgl\"}],\"histogram\":[{\"marker\":{\"pattern\":{\"fillmode\":\"overlay\",\"size\":10,\"solidity\":0.2}},\"type\":\"histogram\"}],\"histogram2d\":[{\"colorbar\":{\"outlinewidth\":0,\"ticks\":\"\"},\"colorscale\":[[0.0,\"#0d0887\"],[0.1111111111111111,\"#46039f\"],[0.2222222222222222,\"#7201a8\"],[0.3333333333333333,\"#9c179e\"],[0.4444444444444444,\"#bd3786\"],[0.5555555555555556,\"#d8576b\"],[0.6666666666666666,\"#ed7953\"],[0.7777777777777778,\"#fb9f3a\"],[0.8888888888888888,\"#fdca26\"],[1.0,\"#f0f921\"]],\"type\":\"histogram2d\"}],\"histogram2dcontour\":[{\"colorbar\":{\"outlinewidth\":0,\"ticks\":\"\"},\"colorscale\":[[0.0,\"#0d0887\"],[0.1111111111111111,\"#46039f\"],[0.2222222222222222,\"#7201a8\"],[0.3333333333333333,\"#9c179e\"],[0.4444444444444444,\"#bd3786\"],[0.5555555555555556,\"#d8576b\"],[0.6666666666666666,\"#ed7953\"],[0.7777777777777778,\"#fb9f3a\"],[0.8888888888888888,\"#fdca26\"],[1.0,\"#f0f921\"]],\"type\":\"histogram2dcontour\"}],\"mesh3d\":[{\"colorbar\":{\"outlinewidth\":0,\"ticks\":\"\"},\"type\":\"mesh3d\"}],\"parcoords\":[{\"line\":{\"colorbar\":{\"outlinewidth\":0,\"ticks\":\"\"}},\"type\":\"parcoords\"}],\"pie\":[{\"automargin\":true,\"type\":\"pie\"}],\"scatter\":[{\"marker\":{\"colorbar\":{\"outlinewidth\":0,\"ticks\":\"\"}},\"type\":\"scatter\"}],\"scatter3d\":[{\"line\":{\"colorbar\":{\"outlinewidth\":0,\"ticks\":\"\"}},\"marker\":{\"colorbar\":{\"outlinewidth\":0,\"ticks\":\"\"}},\"type\":\"scatter3d\"}],\"scattercarpet\":[{\"marker\":{\"colorbar\":{\"outlinewidth\":0,\"ticks\":\"\"}},\"type\":\"scattercarpet\"}],\"scattergeo\":[{\"marker\":{\"colorbar\":{\"outlinewidth\":0,\"ticks\":\"\"}},\"type\":\"scattergeo\"}],\"scattergl\":[{\"marker\":{\"colorbar\":{\"outlinewidth\":0,\"ticks\":\"\"}},\"type\":\"scattergl\"}],\"scattermapbox\":[{\"marker\":{\"colorbar\":{\"outlinewidth\":0,\"ticks\":\"\"}},\"type\":\"scattermapbox\"}],\"scatterpolar\":[{\"marker\":{\"colorbar\":{\"outlinewidth\":0,\"ticks\":\"\"}},\"type\":\"scatterpolar\"}],\"scatterpolargl\":[{\"marker\":{\"colorbar\":{\"outlinewidth\":0,\"ticks\":\"\"}},\"type\":\"scatterpolargl\"}],\"scatterternary\":[{\"marker\":{\"colorbar\":{\"outlinewidth\":0,\"ticks\":\"\"}},\"type\":\"scatterternary\"}],\"surface\":[{\"colorbar\":{\"outlinewidth\":0,\"ticks\":\"\"},\"colorscale\":[[0.0,\"#0d0887\"],[0.1111111111111111,\"#46039f\"],[0.2222222222222222,\"#7201a8\"],[0.3333333333333333,\"#9c179e\"],[0.4444444444444444,\"#bd3786\"],[0.5555555555555556,\"#d8576b\"],[0.6666666666666666,\"#ed7953\"],[0.7777777777777778,\"#fb9f3a\"],[0.8888888888888888,\"#fdca26\"],[1.0,\"#f0f921\"]],\"type\":\"surface\"}],\"table\":[{\"cells\":{\"fill\":{\"color\":\"#EBF0F8\"},\"line\":{\"color\":\"white\"}},\"header\":{\"fill\":{\"color\":\"#C8D4E3\"},\"line\":{\"color\":\"white\"}},\"type\":\"table\"}]},\"layout\":{\"annotationdefaults\":{\"arrowcolor\":\"#2a3f5f\",\"arrowhead\":0,\"arrowwidth\":1},\"autotypenumbers\":\"strict\",\"coloraxis\":{\"colorbar\":{\"outlinewidth\":0,\"ticks\":\"\"}},\"colorscale\":{\"diverging\":[[0,\"#8e0152\"],[0.1,\"#c51b7d\"],[0.2,\"#de77ae\"],[0.3,\"#f1b6da\"],[0.4,\"#fde0ef\"],[0.5,\"#f7f7f7\"],[0.6,\"#e6f5d0\"],[0.7,\"#b8e186\"],[0.8,\"#7fbc41\"],[0.9,\"#4d9221\"],[1,\"#276419\"]],\"sequential\":[[0.0,\"#0d0887\"],[0.1111111111111111,\"#46039f\"],[0.2222222222222222,\"#7201a8\"],[0.3333333333333333,\"#9c179e\"],[0.4444444444444444,\"#bd3786\"],[0.5555555555555556,\"#d8576b\"],[0.6666666666666666,\"#ed7953\"],[0.7777777777777778,\"#fb9f3a\"],[0.8888888888888888,\"#fdca26\"],[1.0,\"#f0f921\"]],\"sequentialminus\":[[0.0,\"#0d0887\"],[0.1111111111111111,\"#46039f\"],[0.2222222222222222,\"#7201a8\"],[0.3333333333333333,\"#9c179e\"],[0.4444444444444444,\"#bd3786\"],[0.5555555555555556,\"#d8576b\"],[0.6666666666666666,\"#ed7953\"],[0.7777777777777778,\"#fb9f3a\"],[0.8888888888888888,\"#fdca26\"],[1.0,\"#f0f921\"]]},\"colorway\":[\"#636efa\",\"#EF553B\",\"#00cc96\",\"#ab63fa\",\"#FFA15A\",\"#19d3f3\",\"#FF6692\",\"#B6E880\",\"#FF97FF\",\"#FECB52\"],\"font\":{\"color\":\"#2a3f5f\"},\"geo\":{\"bgcolor\":\"white\",\"lakecolor\":\"white\",\"landcolor\":\"#E5ECF6\",\"showlakes\":true,\"showland\":true,\"subunitcolor\":\"white\"},\"hoverlabel\":{\"align\":\"left\"},\"hovermode\":\"closest\",\"mapbox\":{\"style\":\"light\"},\"paper_bgcolor\":\"white\",\"plot_bgcolor\":\"#E5ECF6\",\"polar\":{\"angularaxis\":{\"gridcolor\":\"white\",\"linecolor\":\"white\",\"ticks\":\"\"},\"bgcolor\":\"#E5ECF6\",\"radialaxis\":{\"gridcolor\":\"white\",\"linecolor\":\"white\",\"ticks\":\"\"}},\"scene\":{\"xaxis\":{\"backgroundcolor\":\"#E5ECF6\",\"gridcolor\":\"white\",\"gridwidth\":2,\"linecolor\":\"white\",\"showbackground\":true,\"ticks\":\"\",\"zerolinecolor\":\"white\"},\"yaxis\":{\"backgroundcolor\":\"#E5ECF6\",\"gridcolor\":\"white\",\"gridwidth\":2,\"linecolor\":\"white\",\"showbackground\":true,\"ticks\":\"\",\"zerolinecolor\":\"white\"},\"zaxis\":{\"backgroundcolor\":\"#E5ECF6\",\"gridcolor\":\"white\",\"gridwidth\":2,\"linecolor\":\"white\",\"showbackground\":true,\"ticks\":\"\",\"zerolinecolor\":\"white\"}},\"shapedefaults\":{\"line\":{\"color\":\"#2a3f5f\"}},\"ternary\":{\"aaxis\":{\"gridcolor\":\"white\",\"linecolor\":\"white\",\"ticks\":\"\"},\"baxis\":{\"gridcolor\":\"white\",\"linecolor\":\"white\",\"ticks\":\"\"},\"bgcolor\":\"#E5ECF6\",\"caxis\":{\"gridcolor\":\"white\",\"linecolor\":\"white\",\"ticks\":\"\"}},\"title\":{\"x\":0.05},\"xaxis\":{\"automargin\":true,\"gridcolor\":\"white\",\"linecolor\":\"white\",\"ticks\":\"\",\"title\":{\"standoff\":15},\"zerolinecolor\":\"white\",\"zerolinewidth\":2},\"yaxis\":{\"automargin\":true,\"gridcolor\":\"white\",\"linecolor\":\"white\",\"ticks\":\"\",\"title\":{\"standoff\":15},\"zerolinecolor\":\"white\",\"zerolinewidth\":2}}},\"xaxis\":{\"anchor\":\"y\",\"domain\":[0.0,1.0],\"title\":{\"text\":\"M\\u00eas\"}},\"yaxis\":{\"anchor\":\"x\",\"domain\":[0.0,1.0],\"title\":{\"text\":\"Total de Compra (USD)\"}},\"legend\":{\"tracegroupgap\":0},\"title\":{\"text\":\"Total de Compra por M\\u00eas\"},\"barmode\":\"relative\"},                        {\"responsive\": true}                    )                };                            </script>        </div>\n",
       "</body>\n",
       "</html>"
      ]
     },
     "metadata": {
      "application/vnd.databricks.v1+output": {
       "addedWidgets": {},
       "arguments": {},
       "data": "<html>\n<head><meta charset=\"utf-8\" /></head>\n<body>\n    <div>            <script src=\"https://cdnjs.cloudflare.com/ajax/libs/mathjax/2.7.5/MathJax.js?config=TeX-AMS-MML_SVG\"></script><script type=\"text/javascript\">if (window.MathJax) {MathJax.Hub.Config({SVG: {font: \"STIX-Web\"}});}</script>                <script type=\"text/javascript\">window.PlotlyConfig = {MathJaxConfig: 'local'};</script>\n        <script src=\"https://cdn.plot.ly/plotly-2.9.0.min.js\"></script>                <div id=\"3cdeae74-f183-4853-a900-05f8b672fe91\" class=\"plotly-graph-div\" style=\"height:100%; width:100%;\"></div>            <script type=\"text/javascript\">                                    window.PLOTLYENV=window.PLOTLYENV || {};                                    if (document.getElementById(\"3cdeae74-f183-4853-a900-05f8b672fe91\")) {                    Plotly.newPlot(                        \"3cdeae74-f183-4853-a900-05f8b672fe91\",                        [{\"alignmentgroup\":\"True\",\"hovertemplate\":\"M\\u00eas=%{x}<br>Total de Compra (USD)=%{y}<extra></extra>\",\"legendgroup\":\"\",\"marker\":{\"color\":\"#636efa\",\"pattern\":{\"shape\":\"\"}},\"name\":\"\",\"offsetgroup\":\"\",\"orientation\":\"v\",\"showlegend\":false,\"textposition\":\"auto\",\"texttemplate\":\"%{y}\",\"x\":[\"2017-02\",\"2017-03\",\"2017-05\",\"2017-08\",\"2017-09\",\"2017-10\",\"2017-11\",\"2018-02\",\"2018-03\",\"2018-09\",\"2018-10\",\"2018-11\",\"2019-01\",\"2019-02\",\"2019-04\",\"2019-05\",\"2019-06\",\"2019-08\",\"2019-09\",\"2019-10\",\"2019-12\",\"2020-02\",\"2020-03\",\"2020-05\",\"2020-06\",\"2020-07\",\"2020-10\",\"2020-11\",\"2021-01\",\"2021-02\",\"2021-03\",\"2021-04\",\"2021-08\",\"2021-12\",\"2022-01\",\"2022-02\",\"2022-03\",\"2022-04\",\"2022-05\",\"2022-06\",\"2022-08\",\"2022-09\",\"2022-10\",\"2022-12\",\"2023-01\",\"2023-02\",\"2023-03\",\"2023-04\",\"2023-05\",\"2023-06\",\"2023-07\",\"2023-08\",\"2023-10\",\"2023-12\",\"2024-01\",\"2024-03\",\"2024-04\",\"2024-05\",\"2024-06\",\"2024-07\",\"2024-08\",\"2024-09\",\"2024-12\",\"2025-01\"],\"xaxis\":\"x\",\"y\":[15605.2362294,175308.2614948,12072.413383799998,16842.6127474,70809.3943251,6669.4304544,145661.531684,90088.199436,21930.1268963,48702.350250400006,125170.60714560002,83641.38598620001,8914.3594372,61793.04803130001,31565.0718072,216413.71949590003,32782.095871800004,91957.9489367,28776.4782624,211331.58662329998,148033.02037430002,1145.5297962,114322.29893040001,114283.171392,24172.3942362,55167.428326400004,37732.2839415,259001.24045450002,299808.5870799,87554.818701,48642.0403011,860160.6799554,392588.9267652,741092.3062416,45509.144757,556773.819173,276910.2143388,108381.0530368,105126.0973774,735046.7980032001,330186.7649808,315144.79537440004,98546.2421377,783149.3959384,796656.8351156001,211915.1618424,286216.87398639997,292852.7721042,1131069.1464005,25423.695161000003,316067.7470924,14386.7341366,136810.345325,203429.898216,1459464.6435252,937035.5342551998,578501.4444075,862538.9827482,270782.7901857,1963043.2004951,613524.0969250001,963931.2023913999,228229.30305400002,395480.53019580006],\"yaxis\":\"y\",\"type\":\"bar\"}],                        {\"template\":{\"data\":{\"bar\":[{\"error_x\":{\"color\":\"#2a3f5f\"},\"error_y\":{\"color\":\"#2a3f5f\"},\"marker\":{\"line\":{\"color\":\"#E5ECF6\",\"width\":0.5},\"pattern\":{\"fillmode\":\"overlay\",\"size\":10,\"solidity\":0.2}},\"type\":\"bar\"}],\"barpolar\":[{\"marker\":{\"line\":{\"color\":\"#E5ECF6\",\"width\":0.5},\"pattern\":{\"fillmode\":\"overlay\",\"size\":10,\"solidity\":0.2}},\"type\":\"barpolar\"}],\"carpet\":[{\"aaxis\":{\"endlinecolor\":\"#2a3f5f\",\"gridcolor\":\"white\",\"linecolor\":\"white\",\"minorgridcolor\":\"white\",\"startlinecolor\":\"#2a3f5f\"},\"baxis\":{\"endlinecolor\":\"#2a3f5f\",\"gridcolor\":\"white\",\"linecolor\":\"white\",\"minorgridcolor\":\"white\",\"startlinecolor\":\"#2a3f5f\"},\"type\":\"carpet\"}],\"choropleth\":[{\"colorbar\":{\"outlinewidth\":0,\"ticks\":\"\"},\"type\":\"choropleth\"}],\"contour\":[{\"colorbar\":{\"outlinewidth\":0,\"ticks\":\"\"},\"colorscale\":[[0.0,\"#0d0887\"],[0.1111111111111111,\"#46039f\"],[0.2222222222222222,\"#7201a8\"],[0.3333333333333333,\"#9c179e\"],[0.4444444444444444,\"#bd3786\"],[0.5555555555555556,\"#d8576b\"],[0.6666666666666666,\"#ed7953\"],[0.7777777777777778,\"#fb9f3a\"],[0.8888888888888888,\"#fdca26\"],[1.0,\"#f0f921\"]],\"type\":\"contour\"}],\"contourcarpet\":[{\"colorbar\":{\"outlinewidth\":0,\"ticks\":\"\"},\"type\":\"contourcarpet\"}],\"heatmap\":[{\"colorbar\":{\"outlinewidth\":0,\"ticks\":\"\"},\"colorscale\":[[0.0,\"#0d0887\"],[0.1111111111111111,\"#46039f\"],[0.2222222222222222,\"#7201a8\"],[0.3333333333333333,\"#9c179e\"],[0.4444444444444444,\"#bd3786\"],[0.5555555555555556,\"#d8576b\"],[0.6666666666666666,\"#ed7953\"],[0.7777777777777778,\"#fb9f3a\"],[0.8888888888888888,\"#fdca26\"],[1.0,\"#f0f921\"]],\"type\":\"heatmap\"}],\"heatmapgl\":[{\"colorbar\":{\"outlinewidth\":0,\"ticks\":\"\"},\"colorscale\":[[0.0,\"#0d0887\"],[0.1111111111111111,\"#46039f\"],[0.2222222222222222,\"#7201a8\"],[0.3333333333333333,\"#9c179e\"],[0.4444444444444444,\"#bd3786\"],[0.5555555555555556,\"#d8576b\"],[0.6666666666666666,\"#ed7953\"],[0.7777777777777778,\"#fb9f3a\"],[0.8888888888888888,\"#fdca26\"],[1.0,\"#f0f921\"]],\"type\":\"heatmapgl\"}],\"histogram\":[{\"marker\":{\"pattern\":{\"fillmode\":\"overlay\",\"size\":10,\"solidity\":0.2}},\"type\":\"histogram\"}],\"histogram2d\":[{\"colorbar\":{\"outlinewidth\":0,\"ticks\":\"\"},\"colorscale\":[[0.0,\"#0d0887\"],[0.1111111111111111,\"#46039f\"],[0.2222222222222222,\"#7201a8\"],[0.3333333333333333,\"#9c179e\"],[0.4444444444444444,\"#bd3786\"],[0.5555555555555556,\"#d8576b\"],[0.6666666666666666,\"#ed7953\"],[0.7777777777777778,\"#fb9f3a\"],[0.8888888888888888,\"#fdca26\"],[1.0,\"#f0f921\"]],\"type\":\"histogram2d\"}],\"histogram2dcontour\":[{\"colorbar\":{\"outlinewidth\":0,\"ticks\":\"\"},\"colorscale\":[[0.0,\"#0d0887\"],[0.1111111111111111,\"#46039f\"],[0.2222222222222222,\"#7201a8\"],[0.3333333333333333,\"#9c179e\"],[0.4444444444444444,\"#bd3786\"],[0.5555555555555556,\"#d8576b\"],[0.6666666666666666,\"#ed7953\"],[0.7777777777777778,\"#fb9f3a\"],[0.8888888888888888,\"#fdca26\"],[1.0,\"#f0f921\"]],\"type\":\"histogram2dcontour\"}],\"mesh3d\":[{\"colorbar\":{\"outlinewidth\":0,\"ticks\":\"\"},\"type\":\"mesh3d\"}],\"parcoords\":[{\"line\":{\"colorbar\":{\"outlinewidth\":0,\"ticks\":\"\"}},\"type\":\"parcoords\"}],\"pie\":[{\"automargin\":true,\"type\":\"pie\"}],\"scatter\":[{\"marker\":{\"colorbar\":{\"outlinewidth\":0,\"ticks\":\"\"}},\"type\":\"scatter\"}],\"scatter3d\":[{\"line\":{\"colorbar\":{\"outlinewidth\":0,\"ticks\":\"\"}},\"marker\":{\"colorbar\":{\"outlinewidth\":0,\"ticks\":\"\"}},\"type\":\"scatter3d\"}],\"scattercarpet\":[{\"marker\":{\"colorbar\":{\"outlinewidth\":0,\"ticks\":\"\"}},\"type\":\"scattercarpet\"}],\"scattergeo\":[{\"marker\":{\"colorbar\":{\"outlinewidth\":0,\"ticks\":\"\"}},\"type\":\"scattergeo\"}],\"scattergl\":[{\"marker\":{\"colorbar\":{\"outlinewidth\":0,\"ticks\":\"\"}},\"type\":\"scattergl\"}],\"scattermapbox\":[{\"marker\":{\"colorbar\":{\"outlinewidth\":0,\"ticks\":\"\"}},\"type\":\"scattermapbox\"}],\"scatterpolar\":[{\"marker\":{\"colorbar\":{\"outlinewidth\":0,\"ticks\":\"\"}},\"type\":\"scatterpolar\"}],\"scatterpolargl\":[{\"marker\":{\"colorbar\":{\"outlinewidth\":0,\"ticks\":\"\"}},\"type\":\"scatterpolargl\"}],\"scatterternary\":[{\"marker\":{\"colorbar\":{\"outlinewidth\":0,\"ticks\":\"\"}},\"type\":\"scatterternary\"}],\"surface\":[{\"colorbar\":{\"outlinewidth\":0,\"ticks\":\"\"},\"colorscale\":[[0.0,\"#0d0887\"],[0.1111111111111111,\"#46039f\"],[0.2222222222222222,\"#7201a8\"],[0.3333333333333333,\"#9c179e\"],[0.4444444444444444,\"#bd3786\"],[0.5555555555555556,\"#d8576b\"],[0.6666666666666666,\"#ed7953\"],[0.7777777777777778,\"#fb9f3a\"],[0.8888888888888888,\"#fdca26\"],[1.0,\"#f0f921\"]],\"type\":\"surface\"}],\"table\":[{\"cells\":{\"fill\":{\"color\":\"#EBF0F8\"},\"line\":{\"color\":\"white\"}},\"header\":{\"fill\":{\"color\":\"#C8D4E3\"},\"line\":{\"color\":\"white\"}},\"type\":\"table\"}]},\"layout\":{\"annotationdefaults\":{\"arrowcolor\":\"#2a3f5f\",\"arrowhead\":0,\"arrowwidth\":1},\"autotypenumbers\":\"strict\",\"coloraxis\":{\"colorbar\":{\"outlinewidth\":0,\"ticks\":\"\"}},\"colorscale\":{\"diverging\":[[0,\"#8e0152\"],[0.1,\"#c51b7d\"],[0.2,\"#de77ae\"],[0.3,\"#f1b6da\"],[0.4,\"#fde0ef\"],[0.5,\"#f7f7f7\"],[0.6,\"#e6f5d0\"],[0.7,\"#b8e186\"],[0.8,\"#7fbc41\"],[0.9,\"#4d9221\"],[1,\"#276419\"]],\"sequential\":[[0.0,\"#0d0887\"],[0.1111111111111111,\"#46039f\"],[0.2222222222222222,\"#7201a8\"],[0.3333333333333333,\"#9c179e\"],[0.4444444444444444,\"#bd3786\"],[0.5555555555555556,\"#d8576b\"],[0.6666666666666666,\"#ed7953\"],[0.7777777777777778,\"#fb9f3a\"],[0.8888888888888888,\"#fdca26\"],[1.0,\"#f0f921\"]],\"sequentialminus\":[[0.0,\"#0d0887\"],[0.1111111111111111,\"#46039f\"],[0.2222222222222222,\"#7201a8\"],[0.3333333333333333,\"#9c179e\"],[0.4444444444444444,\"#bd3786\"],[0.5555555555555556,\"#d8576b\"],[0.6666666666666666,\"#ed7953\"],[0.7777777777777778,\"#fb9f3a\"],[0.8888888888888888,\"#fdca26\"],[1.0,\"#f0f921\"]]},\"colorway\":[\"#636efa\",\"#EF553B\",\"#00cc96\",\"#ab63fa\",\"#FFA15A\",\"#19d3f3\",\"#FF6692\",\"#B6E880\",\"#FF97FF\",\"#FECB52\"],\"font\":{\"color\":\"#2a3f5f\"},\"geo\":{\"bgcolor\":\"white\",\"lakecolor\":\"white\",\"landcolor\":\"#E5ECF6\",\"showlakes\":true,\"showland\":true,\"subunitcolor\":\"white\"},\"hoverlabel\":{\"align\":\"left\"},\"hovermode\":\"closest\",\"mapbox\":{\"style\":\"light\"},\"paper_bgcolor\":\"white\",\"plot_bgcolor\":\"#E5ECF6\",\"polar\":{\"angularaxis\":{\"gridcolor\":\"white\",\"linecolor\":\"white\",\"ticks\":\"\"},\"bgcolor\":\"#E5ECF6\",\"radialaxis\":{\"gridcolor\":\"white\",\"linecolor\":\"white\",\"ticks\":\"\"}},\"scene\":{\"xaxis\":{\"backgroundcolor\":\"#E5ECF6\",\"gridcolor\":\"white\",\"gridwidth\":2,\"linecolor\":\"white\",\"showbackground\":true,\"ticks\":\"\",\"zerolinecolor\":\"white\"},\"yaxis\":{\"backgroundcolor\":\"#E5ECF6\",\"gridcolor\":\"white\",\"gridwidth\":2,\"linecolor\":\"white\",\"showbackground\":true,\"ticks\":\"\",\"zerolinecolor\":\"white\"},\"zaxis\":{\"backgroundcolor\":\"#E5ECF6\",\"gridcolor\":\"white\",\"gridwidth\":2,\"linecolor\":\"white\",\"showbackground\":true,\"ticks\":\"\",\"zerolinecolor\":\"white\"}},\"shapedefaults\":{\"line\":{\"color\":\"#2a3f5f\"}},\"ternary\":{\"aaxis\":{\"gridcolor\":\"white\",\"linecolor\":\"white\",\"ticks\":\"\"},\"baxis\":{\"gridcolor\":\"white\",\"linecolor\":\"white\",\"ticks\":\"\"},\"bgcolor\":\"#E5ECF6\",\"caxis\":{\"gridcolor\":\"white\",\"linecolor\":\"white\",\"ticks\":\"\"}},\"title\":{\"x\":0.05},\"xaxis\":{\"automargin\":true,\"gridcolor\":\"white\",\"linecolor\":\"white\",\"ticks\":\"\",\"title\":{\"standoff\":15},\"zerolinecolor\":\"white\",\"zerolinewidth\":2},\"yaxis\":{\"automargin\":true,\"gridcolor\":\"white\",\"linecolor\":\"white\",\"ticks\":\"\",\"title\":{\"standoff\":15},\"zerolinecolor\":\"white\",\"zerolinewidth\":2}}},\"xaxis\":{\"anchor\":\"y\",\"domain\":[0.0,1.0],\"title\":{\"text\":\"M\\u00eas\"}},\"yaxis\":{\"anchor\":\"x\",\"domain\":[0.0,1.0],\"title\":{\"text\":\"Total de Compra (USD)\"}},\"legend\":{\"tracegroupgap\":0},\"title\":{\"text\":\"Total de Compra por M\\u00eas\"},\"barmode\":\"relative\"},                        {\"responsive\": true}                    )                };                            </script>        </div>\n</body>\n</html>",
       "datasetInfos": [],
       "metadata": {},
       "removedWidgets": [],
       "textData": null,
       "type": "htmlSandbox"
      }
     },
     "output_type": "display_data"
    },
    {
     "output_type": "display_data",
     "data": {
      "text/html": [
       "<html>\n",
       "<head><meta charset=\"utf-8\" /></head>\n",
       "<body>\n",
       "    <div>            <script src=\"https://cdnjs.cloudflare.com/ajax/libs/mathjax/2.7.5/MathJax.js?config=TeX-AMS-MML_SVG\"></script><script type=\"text/javascript\">if (window.MathJax) {MathJax.Hub.Config({SVG: {font: \"STIX-Web\"}});}</script>                <script type=\"text/javascript\">window.PlotlyConfig = {MathJaxConfig: 'local'};</script>\n",
       "        <script src=\"https://cdn.plot.ly/plotly-2.9.0.min.js\"></script>                <div id=\"3bb9d70d-533c-4f2e-b6b4-c5c0127bdecc\" class=\"plotly-graph-div\" style=\"height:100%; width:100%;\"></div>            <script type=\"text/javascript\">                                    window.PLOTLYENV=window.PLOTLYENV || {};                                    if (document.getElementById(\"3bb9d70d-533c-4f2e-b6b4-c5c0127bdecc\")) {                    Plotly.newPlot(                        \"3bb9d70d-533c-4f2e-b6b4-c5c0127bdecc\",                        [{\"domain\":{\"x\":[0.0,1.0],\"y\":[0.0,1.0]},\"hole\":0.3,\"hovertemplate\":\"resultado_operacao=%{label}<extra></extra>\",\"labels\":[\"Prejuizo\",\"Prejuizo\",\"Prejuizo\",\"Prejuizo\",\"Prejuizo\",\"Prejuizo\",\"Prejuizo\",\"Prejuizo\",\"Prejuizo\",\"Prejuizo\",\"Prejuizo\",\"Prejuizo\",\"Prejuizo\",\"Prejuizo\",\"Prejuizo\",\"Prejuizo\",\"Prejuizo\",\"Prejuizo\",\"Prejuizo\",\"Prejuizo\",\"Prejuizo\",\"Prejuizo\",\"Prejuizo\",\"Prejuizo\",\"Prejuizo\",\"Prejuizo\",\"Prejuizo\",\"Prejuizo\",\"Prejuizo\",\"Prejuizo\",\"Prejuizo\",\"Prejuizo\",\"Prejuizo\",\"Prejuizo\",\"Prejuizo\",\"Prejuizo\",\"Prejuizo\",\"Prejuizo\",\"Prejuizo\",\"Prejuizo\",\"Prejuizo\",\"Prejuizo\",\"Prejuizo\",\"Prejuizo\",\"Prejuizo\",\"Prejuizo\",\"Prejuizo\",\"Prejuizo\",\"Prejuizo\",\"Prejuizo\",\"Prejuizo\",\"Prejuizo\",\"Prejuizo\",\"Prejuizo\",\"Prejuizo\",\"Prejuizo\",\"Prejuizo\",\"Lucro\",\"Lucro\",\"Lucro\",\"Lucro\",\"Lucro\",\"Lucro\",\"Lucro\",\"Prejuizo\",\"Lucro\",\"Lucro\",\"Lucro\",\"Lucro\",\"Lucro\",\"Lucro\",\"Lucro\",\"Lucro\",\"Lucro\",\"Lucro\",\"Lucro\",\"Lucro\",\"Lucro\",\"Lucro\",\"Lucro\",\"Lucro\",\"Lucro\",\"Lucro\",\"Lucro\",\"Lucro\",\"Lucro\",\"Lucro\",\"Lucro\",\"Lucro\",\"Lucro\",\"Lucro\",\"Prejuizo\",\"Lucro\",\"Lucro\",\"Lucro\",\"Prejuizo\",\"Lucro\",\"Prejuizo\",\"Prejuizo\",\"Lucro\"],\"legendgroup\":\"\",\"name\":\"\",\"showlegend\":true,\"type\":\"pie\"}],                        {\"template\":{\"data\":{\"bar\":[{\"error_x\":{\"color\":\"#2a3f5f\"},\"error_y\":{\"color\":\"#2a3f5f\"},\"marker\":{\"line\":{\"color\":\"#E5ECF6\",\"width\":0.5},\"pattern\":{\"fillmode\":\"overlay\",\"size\":10,\"solidity\":0.2}},\"type\":\"bar\"}],\"barpolar\":[{\"marker\":{\"line\":{\"color\":\"#E5ECF6\",\"width\":0.5},\"pattern\":{\"fillmode\":\"overlay\",\"size\":10,\"solidity\":0.2}},\"type\":\"barpolar\"}],\"carpet\":[{\"aaxis\":{\"endlinecolor\":\"#2a3f5f\",\"gridcolor\":\"white\",\"linecolor\":\"white\",\"minorgridcolor\":\"white\",\"startlinecolor\":\"#2a3f5f\"},\"baxis\":{\"endlinecolor\":\"#2a3f5f\",\"gridcolor\":\"white\",\"linecolor\":\"white\",\"minorgridcolor\":\"white\",\"startlinecolor\":\"#2a3f5f\"},\"type\":\"carpet\"}],\"choropleth\":[{\"colorbar\":{\"outlinewidth\":0,\"ticks\":\"\"},\"type\":\"choropleth\"}],\"contour\":[{\"colorbar\":{\"outlinewidth\":0,\"ticks\":\"\"},\"colorscale\":[[0.0,\"#0d0887\"],[0.1111111111111111,\"#46039f\"],[0.2222222222222222,\"#7201a8\"],[0.3333333333333333,\"#9c179e\"],[0.4444444444444444,\"#bd3786\"],[0.5555555555555556,\"#d8576b\"],[0.6666666666666666,\"#ed7953\"],[0.7777777777777778,\"#fb9f3a\"],[0.8888888888888888,\"#fdca26\"],[1.0,\"#f0f921\"]],\"type\":\"contour\"}],\"contourcarpet\":[{\"colorbar\":{\"outlinewidth\":0,\"ticks\":\"\"},\"type\":\"contourcarpet\"}],\"heatmap\":[{\"colorbar\":{\"outlinewidth\":0,\"ticks\":\"\"},\"colorscale\":[[0.0,\"#0d0887\"],[0.1111111111111111,\"#46039f\"],[0.2222222222222222,\"#7201a8\"],[0.3333333333333333,\"#9c179e\"],[0.4444444444444444,\"#bd3786\"],[0.5555555555555556,\"#d8576b\"],[0.6666666666666666,\"#ed7953\"],[0.7777777777777778,\"#fb9f3a\"],[0.8888888888888888,\"#fdca26\"],[1.0,\"#f0f921\"]],\"type\":\"heatmap\"}],\"heatmapgl\":[{\"colorbar\":{\"outlinewidth\":0,\"ticks\":\"\"},\"colorscale\":[[0.0,\"#0d0887\"],[0.1111111111111111,\"#46039f\"],[0.2222222222222222,\"#7201a8\"],[0.3333333333333333,\"#9c179e\"],[0.4444444444444444,\"#bd3786\"],[0.5555555555555556,\"#d8576b\"],[0.6666666666666666,\"#ed7953\"],[0.7777777777777778,\"#fb9f3a\"],[0.8888888888888888,\"#fdca26\"],[1.0,\"#f0f921\"]],\"type\":\"heatmapgl\"}],\"histogram\":[{\"marker\":{\"pattern\":{\"fillmode\":\"overlay\",\"size\":10,\"solidity\":0.2}},\"type\":\"histogram\"}],\"histogram2d\":[{\"colorbar\":{\"outlinewidth\":0,\"ticks\":\"\"},\"colorscale\":[[0.0,\"#0d0887\"],[0.1111111111111111,\"#46039f\"],[0.2222222222222222,\"#7201a8\"],[0.3333333333333333,\"#9c179e\"],[0.4444444444444444,\"#bd3786\"],[0.5555555555555556,\"#d8576b\"],[0.6666666666666666,\"#ed7953\"],[0.7777777777777778,\"#fb9f3a\"],[0.8888888888888888,\"#fdca26\"],[1.0,\"#f0f921\"]],\"type\":\"histogram2d\"}],\"histogram2dcontour\":[{\"colorbar\":{\"outlinewidth\":0,\"ticks\":\"\"},\"colorscale\":[[0.0,\"#0d0887\"],[0.1111111111111111,\"#46039f\"],[0.2222222222222222,\"#7201a8\"],[0.3333333333333333,\"#9c179e\"],[0.4444444444444444,\"#bd3786\"],[0.5555555555555556,\"#d8576b\"],[0.6666666666666666,\"#ed7953\"],[0.7777777777777778,\"#fb9f3a\"],[0.8888888888888888,\"#fdca26\"],[1.0,\"#f0f921\"]],\"type\":\"histogram2dcontour\"}],\"mesh3d\":[{\"colorbar\":{\"outlinewidth\":0,\"ticks\":\"\"},\"type\":\"mesh3d\"}],\"parcoords\":[{\"line\":{\"colorbar\":{\"outlinewidth\":0,\"ticks\":\"\"}},\"type\":\"parcoords\"}],\"pie\":[{\"automargin\":true,\"type\":\"pie\"}],\"scatter\":[{\"marker\":{\"colorbar\":{\"outlinewidth\":0,\"ticks\":\"\"}},\"type\":\"scatter\"}],\"scatter3d\":[{\"line\":{\"colorbar\":{\"outlinewidth\":0,\"ticks\":\"\"}},\"marker\":{\"colorbar\":{\"outlinewidth\":0,\"ticks\":\"\"}},\"type\":\"scatter3d\"}],\"scattercarpet\":[{\"marker\":{\"colorbar\":{\"outlinewidth\":0,\"ticks\":\"\"}},\"type\":\"scattercarpet\"}],\"scattergeo\":[{\"marker\":{\"colorbar\":{\"outlinewidth\":0,\"ticks\":\"\"}},\"type\":\"scattergeo\"}],\"scattergl\":[{\"marker\":{\"colorbar\":{\"outlinewidth\":0,\"ticks\":\"\"}},\"type\":\"scattergl\"}],\"scattermapbox\":[{\"marker\":{\"colorbar\":{\"outlinewidth\":0,\"ticks\":\"\"}},\"type\":\"scattermapbox\"}],\"scatterpolar\":[{\"marker\":{\"colorbar\":{\"outlinewidth\":0,\"ticks\":\"\"}},\"type\":\"scatterpolar\"}],\"scatterpolargl\":[{\"marker\":{\"colorbar\":{\"outlinewidth\":0,\"ticks\":\"\"}},\"type\":\"scatterpolargl\"}],\"scatterternary\":[{\"marker\":{\"colorbar\":{\"outlinewidth\":0,\"ticks\":\"\"}},\"type\":\"scatterternary\"}],\"surface\":[{\"colorbar\":{\"outlinewidth\":0,\"ticks\":\"\"},\"colorscale\":[[0.0,\"#0d0887\"],[0.1111111111111111,\"#46039f\"],[0.2222222222222222,\"#7201a8\"],[0.3333333333333333,\"#9c179e\"],[0.4444444444444444,\"#bd3786\"],[0.5555555555555556,\"#d8576b\"],[0.6666666666666666,\"#ed7953\"],[0.7777777777777778,\"#fb9f3a\"],[0.8888888888888888,\"#fdca26\"],[1.0,\"#f0f921\"]],\"type\":\"surface\"}],\"table\":[{\"cells\":{\"fill\":{\"color\":\"#EBF0F8\"},\"line\":{\"color\":\"white\"}},\"header\":{\"fill\":{\"color\":\"#C8D4E3\"},\"line\":{\"color\":\"white\"}},\"type\":\"table\"}]},\"layout\":{\"annotationdefaults\":{\"arrowcolor\":\"#2a3f5f\",\"arrowhead\":0,\"arrowwidth\":1},\"autotypenumbers\":\"strict\",\"coloraxis\":{\"colorbar\":{\"outlinewidth\":0,\"ticks\":\"\"}},\"colorscale\":{\"diverging\":[[0,\"#8e0152\"],[0.1,\"#c51b7d\"],[0.2,\"#de77ae\"],[0.3,\"#f1b6da\"],[0.4,\"#fde0ef\"],[0.5,\"#f7f7f7\"],[0.6,\"#e6f5d0\"],[0.7,\"#b8e186\"],[0.8,\"#7fbc41\"],[0.9,\"#4d9221\"],[1,\"#276419\"]],\"sequential\":[[0.0,\"#0d0887\"],[0.1111111111111111,\"#46039f\"],[0.2222222222222222,\"#7201a8\"],[0.3333333333333333,\"#9c179e\"],[0.4444444444444444,\"#bd3786\"],[0.5555555555555556,\"#d8576b\"],[0.6666666666666666,\"#ed7953\"],[0.7777777777777778,\"#fb9f3a\"],[0.8888888888888888,\"#fdca26\"],[1.0,\"#f0f921\"]],\"sequentialminus\":[[0.0,\"#0d0887\"],[0.1111111111111111,\"#46039f\"],[0.2222222222222222,\"#7201a8\"],[0.3333333333333333,\"#9c179e\"],[0.4444444444444444,\"#bd3786\"],[0.5555555555555556,\"#d8576b\"],[0.6666666666666666,\"#ed7953\"],[0.7777777777777778,\"#fb9f3a\"],[0.8888888888888888,\"#fdca26\"],[1.0,\"#f0f921\"]]},\"colorway\":[\"#636efa\",\"#EF553B\",\"#00cc96\",\"#ab63fa\",\"#FFA15A\",\"#19d3f3\",\"#FF6692\",\"#B6E880\",\"#FF97FF\",\"#FECB52\"],\"font\":{\"color\":\"#2a3f5f\"},\"geo\":{\"bgcolor\":\"white\",\"lakecolor\":\"white\",\"landcolor\":\"#E5ECF6\",\"showlakes\":true,\"showland\":true,\"subunitcolor\":\"white\"},\"hoverlabel\":{\"align\":\"left\"},\"hovermode\":\"closest\",\"mapbox\":{\"style\":\"light\"},\"paper_bgcolor\":\"white\",\"plot_bgcolor\":\"#E5ECF6\",\"polar\":{\"angularaxis\":{\"gridcolor\":\"white\",\"linecolor\":\"white\",\"ticks\":\"\"},\"bgcolor\":\"#E5ECF6\",\"radialaxis\":{\"gridcolor\":\"white\",\"linecolor\":\"white\",\"ticks\":\"\"}},\"scene\":{\"xaxis\":{\"backgroundcolor\":\"#E5ECF6\",\"gridcolor\":\"white\",\"gridwidth\":2,\"linecolor\":\"white\",\"showbackground\":true,\"ticks\":\"\",\"zerolinecolor\":\"white\"},\"yaxis\":{\"backgroundcolor\":\"#E5ECF6\",\"gridcolor\":\"white\",\"gridwidth\":2,\"linecolor\":\"white\",\"showbackground\":true,\"ticks\":\"\",\"zerolinecolor\":\"white\"},\"zaxis\":{\"backgroundcolor\":\"#E5ECF6\",\"gridcolor\":\"white\",\"gridwidth\":2,\"linecolor\":\"white\",\"showbackground\":true,\"ticks\":\"\",\"zerolinecolor\":\"white\"}},\"shapedefaults\":{\"line\":{\"color\":\"#2a3f5f\"}},\"ternary\":{\"aaxis\":{\"gridcolor\":\"white\",\"linecolor\":\"white\",\"ticks\":\"\"},\"baxis\":{\"gridcolor\":\"white\",\"linecolor\":\"white\",\"ticks\":\"\"},\"bgcolor\":\"#E5ECF6\",\"caxis\":{\"gridcolor\":\"white\",\"linecolor\":\"white\",\"ticks\":\"\"}},\"title\":{\"x\":0.05},\"xaxis\":{\"automargin\":true,\"gridcolor\":\"white\",\"linecolor\":\"white\",\"ticks\":\"\",\"title\":{\"standoff\":15},\"zerolinecolor\":\"white\",\"zerolinewidth\":2},\"yaxis\":{\"automargin\":true,\"gridcolor\":\"white\",\"linecolor\":\"white\",\"ticks\":\"\",\"title\":{\"standoff\":15},\"zerolinecolor\":\"white\",\"zerolinewidth\":2}}},\"legend\":{\"tracegroupgap\":0},\"title\":{\"text\":\"Distribui\\u00e7\\u00e3o de Lucro vs Preju\\u00edzo\"}},                        {\"responsive\": true}                    )                };                            </script>        </div>\n",
       "</body>\n",
       "</html>"
      ]
     },
     "metadata": {
      "application/vnd.databricks.v1+output": {
       "addedWidgets": {},
       "arguments": {},
       "data": "<html>\n<head><meta charset=\"utf-8\" /></head>\n<body>\n    <div>            <script src=\"https://cdnjs.cloudflare.com/ajax/libs/mathjax/2.7.5/MathJax.js?config=TeX-AMS-MML_SVG\"></script><script type=\"text/javascript\">if (window.MathJax) {MathJax.Hub.Config({SVG: {font: \"STIX-Web\"}});}</script>                <script type=\"text/javascript\">window.PlotlyConfig = {MathJaxConfig: 'local'};</script>\n        <script src=\"https://cdn.plot.ly/plotly-2.9.0.min.js\"></script>                <div id=\"3bb9d70d-533c-4f2e-b6b4-c5c0127bdecc\" class=\"plotly-graph-div\" style=\"height:100%; width:100%;\"></div>            <script type=\"text/javascript\">                                    window.PLOTLYENV=window.PLOTLYENV || {};                                    if (document.getElementById(\"3bb9d70d-533c-4f2e-b6b4-c5c0127bdecc\")) {                    Plotly.newPlot(                        \"3bb9d70d-533c-4f2e-b6b4-c5c0127bdecc\",                        [{\"domain\":{\"x\":[0.0,1.0],\"y\":[0.0,1.0]},\"hole\":0.3,\"hovertemplate\":\"resultado_operacao=%{label}<extra></extra>\",\"labels\":[\"Prejuizo\",\"Prejuizo\",\"Prejuizo\",\"Prejuizo\",\"Prejuizo\",\"Prejuizo\",\"Prejuizo\",\"Prejuizo\",\"Prejuizo\",\"Prejuizo\",\"Prejuizo\",\"Prejuizo\",\"Prejuizo\",\"Prejuizo\",\"Prejuizo\",\"Prejuizo\",\"Prejuizo\",\"Prejuizo\",\"Prejuizo\",\"Prejuizo\",\"Prejuizo\",\"Prejuizo\",\"Prejuizo\",\"Prejuizo\",\"Prejuizo\",\"Prejuizo\",\"Prejuizo\",\"Prejuizo\",\"Prejuizo\",\"Prejuizo\",\"Prejuizo\",\"Prejuizo\",\"Prejuizo\",\"Prejuizo\",\"Prejuizo\",\"Prejuizo\",\"Prejuizo\",\"Prejuizo\",\"Prejuizo\",\"Prejuizo\",\"Prejuizo\",\"Prejuizo\",\"Prejuizo\",\"Prejuizo\",\"Prejuizo\",\"Prejuizo\",\"Prejuizo\",\"Prejuizo\",\"Prejuizo\",\"Prejuizo\",\"Prejuizo\",\"Prejuizo\",\"Prejuizo\",\"Prejuizo\",\"Prejuizo\",\"Prejuizo\",\"Prejuizo\",\"Lucro\",\"Lucro\",\"Lucro\",\"Lucro\",\"Lucro\",\"Lucro\",\"Lucro\",\"Prejuizo\",\"Lucro\",\"Lucro\",\"Lucro\",\"Lucro\",\"Lucro\",\"Lucro\",\"Lucro\",\"Lucro\",\"Lucro\",\"Lucro\",\"Lucro\",\"Lucro\",\"Lucro\",\"Lucro\",\"Lucro\",\"Lucro\",\"Lucro\",\"Lucro\",\"Lucro\",\"Lucro\",\"Lucro\",\"Lucro\",\"Lucro\",\"Lucro\",\"Lucro\",\"Lucro\",\"Prejuizo\",\"Lucro\",\"Lucro\",\"Lucro\",\"Prejuizo\",\"Lucro\",\"Prejuizo\",\"Prejuizo\",\"Lucro\"],\"legendgroup\":\"\",\"name\":\"\",\"showlegend\":true,\"type\":\"pie\"}],                        {\"template\":{\"data\":{\"bar\":[{\"error_x\":{\"color\":\"#2a3f5f\"},\"error_y\":{\"color\":\"#2a3f5f\"},\"marker\":{\"line\":{\"color\":\"#E5ECF6\",\"width\":0.5},\"pattern\":{\"fillmode\":\"overlay\",\"size\":10,\"solidity\":0.2}},\"type\":\"bar\"}],\"barpolar\":[{\"marker\":{\"line\":{\"color\":\"#E5ECF6\",\"width\":0.5},\"pattern\":{\"fillmode\":\"overlay\",\"size\":10,\"solidity\":0.2}},\"type\":\"barpolar\"}],\"carpet\":[{\"aaxis\":{\"endlinecolor\":\"#2a3f5f\",\"gridcolor\":\"white\",\"linecolor\":\"white\",\"minorgridcolor\":\"white\",\"startlinecolor\":\"#2a3f5f\"},\"baxis\":{\"endlinecolor\":\"#2a3f5f\",\"gridcolor\":\"white\",\"linecolor\":\"white\",\"minorgridcolor\":\"white\",\"startlinecolor\":\"#2a3f5f\"},\"type\":\"carpet\"}],\"choropleth\":[{\"colorbar\":{\"outlinewidth\":0,\"ticks\":\"\"},\"type\":\"choropleth\"}],\"contour\":[{\"colorbar\":{\"outlinewidth\":0,\"ticks\":\"\"},\"colorscale\":[[0.0,\"#0d0887\"],[0.1111111111111111,\"#46039f\"],[0.2222222222222222,\"#7201a8\"],[0.3333333333333333,\"#9c179e\"],[0.4444444444444444,\"#bd3786\"],[0.5555555555555556,\"#d8576b\"],[0.6666666666666666,\"#ed7953\"],[0.7777777777777778,\"#fb9f3a\"],[0.8888888888888888,\"#fdca26\"],[1.0,\"#f0f921\"]],\"type\":\"contour\"}],\"contourcarpet\":[{\"colorbar\":{\"outlinewidth\":0,\"ticks\":\"\"},\"type\":\"contourcarpet\"}],\"heatmap\":[{\"colorbar\":{\"outlinewidth\":0,\"ticks\":\"\"},\"colorscale\":[[0.0,\"#0d0887\"],[0.1111111111111111,\"#46039f\"],[0.2222222222222222,\"#7201a8\"],[0.3333333333333333,\"#9c179e\"],[0.4444444444444444,\"#bd3786\"],[0.5555555555555556,\"#d8576b\"],[0.6666666666666666,\"#ed7953\"],[0.7777777777777778,\"#fb9f3a\"],[0.8888888888888888,\"#fdca26\"],[1.0,\"#f0f921\"]],\"type\":\"heatmap\"}],\"heatmapgl\":[{\"colorbar\":{\"outlinewidth\":0,\"ticks\":\"\"},\"colorscale\":[[0.0,\"#0d0887\"],[0.1111111111111111,\"#46039f\"],[0.2222222222222222,\"#7201a8\"],[0.3333333333333333,\"#9c179e\"],[0.4444444444444444,\"#bd3786\"],[0.5555555555555556,\"#d8576b\"],[0.6666666666666666,\"#ed7953\"],[0.7777777777777778,\"#fb9f3a\"],[0.8888888888888888,\"#fdca26\"],[1.0,\"#f0f921\"]],\"type\":\"heatmapgl\"}],\"histogram\":[{\"marker\":{\"pattern\":{\"fillmode\":\"overlay\",\"size\":10,\"solidity\":0.2}},\"type\":\"histogram\"}],\"histogram2d\":[{\"colorbar\":{\"outlinewidth\":0,\"ticks\":\"\"},\"colorscale\":[[0.0,\"#0d0887\"],[0.1111111111111111,\"#46039f\"],[0.2222222222222222,\"#7201a8\"],[0.3333333333333333,\"#9c179e\"],[0.4444444444444444,\"#bd3786\"],[0.5555555555555556,\"#d8576b\"],[0.6666666666666666,\"#ed7953\"],[0.7777777777777778,\"#fb9f3a\"],[0.8888888888888888,\"#fdca26\"],[1.0,\"#f0f921\"]],\"type\":\"histogram2d\"}],\"histogram2dcontour\":[{\"colorbar\":{\"outlinewidth\":0,\"ticks\":\"\"},\"colorscale\":[[0.0,\"#0d0887\"],[0.1111111111111111,\"#46039f\"],[0.2222222222222222,\"#7201a8\"],[0.3333333333333333,\"#9c179e\"],[0.4444444444444444,\"#bd3786\"],[0.5555555555555556,\"#d8576b\"],[0.6666666666666666,\"#ed7953\"],[0.7777777777777778,\"#fb9f3a\"],[0.8888888888888888,\"#fdca26\"],[1.0,\"#f0f921\"]],\"type\":\"histogram2dcontour\"}],\"mesh3d\":[{\"colorbar\":{\"outlinewidth\":0,\"ticks\":\"\"},\"type\":\"mesh3d\"}],\"parcoords\":[{\"line\":{\"colorbar\":{\"outlinewidth\":0,\"ticks\":\"\"}},\"type\":\"parcoords\"}],\"pie\":[{\"automargin\":true,\"type\":\"pie\"}],\"scatter\":[{\"marker\":{\"colorbar\":{\"outlinewidth\":0,\"ticks\":\"\"}},\"type\":\"scatter\"}],\"scatter3d\":[{\"line\":{\"colorbar\":{\"outlinewidth\":0,\"ticks\":\"\"}},\"marker\":{\"colorbar\":{\"outlinewidth\":0,\"ticks\":\"\"}},\"type\":\"scatter3d\"}],\"scattercarpet\":[{\"marker\":{\"colorbar\":{\"outlinewidth\":0,\"ticks\":\"\"}},\"type\":\"scattercarpet\"}],\"scattergeo\":[{\"marker\":{\"colorbar\":{\"outlinewidth\":0,\"ticks\":\"\"}},\"type\":\"scattergeo\"}],\"scattergl\":[{\"marker\":{\"colorbar\":{\"outlinewidth\":0,\"ticks\":\"\"}},\"type\":\"scattergl\"}],\"scattermapbox\":[{\"marker\":{\"colorbar\":{\"outlinewidth\":0,\"ticks\":\"\"}},\"type\":\"scattermapbox\"}],\"scatterpolar\":[{\"marker\":{\"colorbar\":{\"outlinewidth\":0,\"ticks\":\"\"}},\"type\":\"scatterpolar\"}],\"scatterpolargl\":[{\"marker\":{\"colorbar\":{\"outlinewidth\":0,\"ticks\":\"\"}},\"type\":\"scatterpolargl\"}],\"scatterternary\":[{\"marker\":{\"colorbar\":{\"outlinewidth\":0,\"ticks\":\"\"}},\"type\":\"scatterternary\"}],\"surface\":[{\"colorbar\":{\"outlinewidth\":0,\"ticks\":\"\"},\"colorscale\":[[0.0,\"#0d0887\"],[0.1111111111111111,\"#46039f\"],[0.2222222222222222,\"#7201a8\"],[0.3333333333333333,\"#9c179e\"],[0.4444444444444444,\"#bd3786\"],[0.5555555555555556,\"#d8576b\"],[0.6666666666666666,\"#ed7953\"],[0.7777777777777778,\"#fb9f3a\"],[0.8888888888888888,\"#fdca26\"],[1.0,\"#f0f921\"]],\"type\":\"surface\"}],\"table\":[{\"cells\":{\"fill\":{\"color\":\"#EBF0F8\"},\"line\":{\"color\":\"white\"}},\"header\":{\"fill\":{\"color\":\"#C8D4E3\"},\"line\":{\"color\":\"white\"}},\"type\":\"table\"}]},\"layout\":{\"annotationdefaults\":{\"arrowcolor\":\"#2a3f5f\",\"arrowhead\":0,\"arrowwidth\":1},\"autotypenumbers\":\"strict\",\"coloraxis\":{\"colorbar\":{\"outlinewidth\":0,\"ticks\":\"\"}},\"colorscale\":{\"diverging\":[[0,\"#8e0152\"],[0.1,\"#c51b7d\"],[0.2,\"#de77ae\"],[0.3,\"#f1b6da\"],[0.4,\"#fde0ef\"],[0.5,\"#f7f7f7\"],[0.6,\"#e6f5d0\"],[0.7,\"#b8e186\"],[0.8,\"#7fbc41\"],[0.9,\"#4d9221\"],[1,\"#276419\"]],\"sequential\":[[0.0,\"#0d0887\"],[0.1111111111111111,\"#46039f\"],[0.2222222222222222,\"#7201a8\"],[0.3333333333333333,\"#9c179e\"],[0.4444444444444444,\"#bd3786\"],[0.5555555555555556,\"#d8576b\"],[0.6666666666666666,\"#ed7953\"],[0.7777777777777778,\"#fb9f3a\"],[0.8888888888888888,\"#fdca26\"],[1.0,\"#f0f921\"]],\"sequentialminus\":[[0.0,\"#0d0887\"],[0.1111111111111111,\"#46039f\"],[0.2222222222222222,\"#7201a8\"],[0.3333333333333333,\"#9c179e\"],[0.4444444444444444,\"#bd3786\"],[0.5555555555555556,\"#d8576b\"],[0.6666666666666666,\"#ed7953\"],[0.7777777777777778,\"#fb9f3a\"],[0.8888888888888888,\"#fdca26\"],[1.0,\"#f0f921\"]]},\"colorway\":[\"#636efa\",\"#EF553B\",\"#00cc96\",\"#ab63fa\",\"#FFA15A\",\"#19d3f3\",\"#FF6692\",\"#B6E880\",\"#FF97FF\",\"#FECB52\"],\"font\":{\"color\":\"#2a3f5f\"},\"geo\":{\"bgcolor\":\"white\",\"lakecolor\":\"white\",\"landcolor\":\"#E5ECF6\",\"showlakes\":true,\"showland\":true,\"subunitcolor\":\"white\"},\"hoverlabel\":{\"align\":\"left\"},\"hovermode\":\"closest\",\"mapbox\":{\"style\":\"light\"},\"paper_bgcolor\":\"white\",\"plot_bgcolor\":\"#E5ECF6\",\"polar\":{\"angularaxis\":{\"gridcolor\":\"white\",\"linecolor\":\"white\",\"ticks\":\"\"},\"bgcolor\":\"#E5ECF6\",\"radialaxis\":{\"gridcolor\":\"white\",\"linecolor\":\"white\",\"ticks\":\"\"}},\"scene\":{\"xaxis\":{\"backgroundcolor\":\"#E5ECF6\",\"gridcolor\":\"white\",\"gridwidth\":2,\"linecolor\":\"white\",\"showbackground\":true,\"ticks\":\"\",\"zerolinecolor\":\"white\"},\"yaxis\":{\"backgroundcolor\":\"#E5ECF6\",\"gridcolor\":\"white\",\"gridwidth\":2,\"linecolor\":\"white\",\"showbackground\":true,\"ticks\":\"\",\"zerolinecolor\":\"white\"},\"zaxis\":{\"backgroundcolor\":\"#E5ECF6\",\"gridcolor\":\"white\",\"gridwidth\":2,\"linecolor\":\"white\",\"showbackground\":true,\"ticks\":\"\",\"zerolinecolor\":\"white\"}},\"shapedefaults\":{\"line\":{\"color\":\"#2a3f5f\"}},\"ternary\":{\"aaxis\":{\"gridcolor\":\"white\",\"linecolor\":\"white\",\"ticks\":\"\"},\"baxis\":{\"gridcolor\":\"white\",\"linecolor\":\"white\",\"ticks\":\"\"},\"bgcolor\":\"#E5ECF6\",\"caxis\":{\"gridcolor\":\"white\",\"linecolor\":\"white\",\"ticks\":\"\"}},\"title\":{\"x\":0.05},\"xaxis\":{\"automargin\":true,\"gridcolor\":\"white\",\"linecolor\":\"white\",\"ticks\":\"\",\"title\":{\"standoff\":15},\"zerolinecolor\":\"white\",\"zerolinewidth\":2},\"yaxis\":{\"automargin\":true,\"gridcolor\":\"white\",\"linecolor\":\"white\",\"ticks\":\"\",\"title\":{\"standoff\":15},\"zerolinecolor\":\"white\",\"zerolinewidth\":2}}},\"legend\":{\"tracegroupgap\":0},\"title\":{\"text\":\"Distribui\\u00e7\\u00e3o de Lucro vs Preju\\u00edzo\"}},                        {\"responsive\": true}                    )                };                            </script>        </div>\n</body>\n</html>",
       "datasetInfos": [],
       "metadata": {},
       "removedWidgets": [],
       "textData": null,
       "type": "htmlSandbox"
      }
     },
     "output_type": "display_data"
    },
    {
     "output_type": "display_data",
     "data": {
      "text/html": [
       "<html>\n",
       "<head><meta charset=\"utf-8\" /></head>\n",
       "<body>\n",
       "    <div>            <script src=\"https://cdnjs.cloudflare.com/ajax/libs/mathjax/2.7.5/MathJax.js?config=TeX-AMS-MML_SVG\"></script><script type=\"text/javascript\">if (window.MathJax) {MathJax.Hub.Config({SVG: {font: \"STIX-Web\"}});}</script>                <script type=\"text/javascript\">window.PlotlyConfig = {MathJaxConfig: 'local'};</script>\n",
       "        <script src=\"https://cdn.plot.ly/plotly-2.9.0.min.js\"></script>                <div id=\"ea593548-c170-4ae5-b9a2-1d90cf1e6acf\" class=\"plotly-graph-div\" style=\"height:100%; width:100%;\"></div>            <script type=\"text/javascript\">                                    window.PLOTLYENV=window.PLOTLYENV || {};                                    if (document.getElementById(\"ea593548-c170-4ae5-b9a2-1d90cf1e6acf\")) {                    Plotly.newPlot(                        \"ea593548-c170-4ae5-b9a2-1d90cf1e6acf\",                        [{\"hovertemplate\":\"Data da Compra=%{x}<br>Pre\\u00e7o do BTC (USD)=%{y}<extra></extra>\",\"legendgroup\":\"\",\"line\":{\"color\":\"#636efa\",\"dash\":\"solid\"},\"marker\":{\"symbol\":\"circle\"},\"mode\":\"lines+markers\",\"name\":\"\",\"orientation\":\"v\",\"showlegend\":false,\"x\":[\"2025-01-26T00:00:00\",\"2024-12-09T00:00:00\",\"2024-09-26T00:00:00\",\"2024-09-19T00:00:00\",\"2024-08-19T00:00:00\",\"2024-08-03T00:00:00\",\"2024-07-21T00:00:00\",\"2024-07-14T00:00:00\",\"2024-07-08T00:00:00\",\"2024-06-01T00:00:00\",\"2024-05-08T00:00:00\",\"2024-04-08T00:00:00\",\"2024-03-18T00:00:00\",\"2024-03-04T00:00:00\",\"2024-01-19T00:00:00\",\"2024-01-06T00:00:00\",\"2023-12-12T00:00:00\",\"2023-10-31T00:00:00\",\"2023-08-16T00:00:00\",\"2023-07-23T00:00:00\",\"2023-07-01T00:00:00\",\"2023-06-23T00:00:00\",\"2023-05-28T00:00:00\",\"2023-05-23T00:00:00\",\"2023-05-13T00:00:00\",\"2023-05-13T00:00:00\",\"2023-05-05T00:00:00\",\"2023-04-26T00:00:00\",\"2023-04-18T00:00:00\",\"2023-03-27T00:00:00\",\"2023-02-11T00:00:00\",\"2023-01-18T00:00:00\",\"2023-01-09T00:00:00\",\"2022-12-28T00:00:00\",\"2022-12-22T00:00:00\",\"2022-12-13T00:00:00\",\"2022-12-02T00:00:00\",\"2022-10-21T00:00:00\",\"2022-09-19T00:00:00\",\"2022-08-22T00:00:00\",\"2022-06-25T00:00:00\",\"2022-06-14T00:00:00\",\"2022-05-01T00:00:00\",\"2022-04-22T00:00:00\",\"2022-03-10T00:00:00\",\"2022-02-25T00:00:00\",\"2022-02-02T00:00:00\",\"2022-01-12T00:00:00\",\"2021-12-21T00:00:00\",\"2021-08-11T00:00:00\",\"2021-04-13T00:00:00\",\"2021-04-06T00:00:00\",\"2021-04-04T00:00:00\",\"2021-03-31T00:00:00\",\"2021-02-03T00:00:00\",\"2021-01-22T00:00:00\",\"2020-11-30T00:00:00\",\"2020-11-09T00:00:00\",\"2020-10-25T00:00:00\",\"2020-07-16T00:00:00\",\"2020-07-08T00:00:00\",\"2020-06-13T00:00:00\",\"2020-05-13T00:00:00\",\"2020-03-14T00:00:00\",\"2020-02-14T00:00:00\",\"2019-12-24T00:00:00\",\"2019-12-23T00:00:00\",\"2019-10-27T00:00:00\",\"2019-10-08T00:00:00\",\"2019-10-01T00:00:00\",\"2019-09-02T00:00:00\",\"2019-08-27T00:00:00\",\"2019-08-22T00:00:00\",\"2019-08-01T00:00:00\",\"2019-06-15T00:00:00\",\"2019-05-26T00:00:00\",\"2019-05-24T00:00:00\",\"2019-05-18T00:00:00\",\"2019-04-17T00:00:00\",\"2019-02-17T00:00:00\",\"2019-02-01T00:00:00\",\"2019-01-02T00:00:00\",\"2018-11-06T00:00:00\",\"2018-10-24T00:00:00\",\"2018-10-16T00:00:00\",\"2018-09-29T00:00:00\",\"2018-03-26T00:00:00\",\"2018-03-24T00:00:00\",\"2018-02-23T00:00:00\",\"2018-02-06T00:00:00\",\"2018-02-02T00:00:00\",\"2017-11-23T00:00:00\",\"2017-10-25T00:00:00\",\"2017-09-20T00:00:00\",\"2017-09-06T00:00:00\",\"2017-08-21T00:00:00\",\"2017-08-18T00:00:00\",\"2017-05-09T00:00:00\",\"2017-03-02T00:00:00\",\"2017-02-17T00:00:00\"],\"xaxis\":\"x\",\"y\":[526338.91,663110.3,620115.11,655694.97,642216.0,674066.77,665345.55,664987.81,626697.78,622789.83,649923.13,607140.25,645885.19,611133.11,661851.98,629844.48,206234.69,243651.55,315014.98,317098.82,415435.9,241532.35,364387.73,258788.91,460437.64,483023.82,347290.47,498750.86,243628.05,391798.82,314246.34,222339.79,420280.9,353320.58,365067.02,413917.92,399178.57,264475.57,277925.07,414203.88,126232.56,381127.44,422991.58,378399.04,199938.06,291592.99,121038.5,164858.34,577134.24,358895.79,441368.59,237903.11,232766.61,110432.13,164098.62,200365.29,111660.49,92260.82,57808.65,78081.54,54001.57,66761.66,82005.72,79610.52,106660.13,47705.01,84856.27,87975.49,72149.23,35624.75,39493.41,31641.78,48264.29,61190.81,36286.26,80525.53,55411.93,85023.94,66880.82,40769.55,24796.49,55537.72,56591.69,70386.6,84039.99,42516.98,37144.35,45384.44,31976.14,28350.6,80672.52,112059.4,7155.12,47922.61,55925.04,125136.58,34401.96,112594.79,126155.54,90355.14],\"yaxis\":\"y\",\"type\":\"scatter\"}],                        {\"template\":{\"data\":{\"bar\":[{\"error_x\":{\"color\":\"#2a3f5f\"},\"error_y\":{\"color\":\"#2a3f5f\"},\"marker\":{\"line\":{\"color\":\"#E5ECF6\",\"width\":0.5},\"pattern\":{\"fillmode\":\"overlay\",\"size\":10,\"solidity\":0.2}},\"type\":\"bar\"}],\"barpolar\":[{\"marker\":{\"line\":{\"color\":\"#E5ECF6\",\"width\":0.5},\"pattern\":{\"fillmode\":\"overlay\",\"size\":10,\"solidity\":0.2}},\"type\":\"barpolar\"}],\"carpet\":[{\"aaxis\":{\"endlinecolor\":\"#2a3f5f\",\"gridcolor\":\"white\",\"linecolor\":\"white\",\"minorgridcolor\":\"white\",\"startlinecolor\":\"#2a3f5f\"},\"baxis\":{\"endlinecolor\":\"#2a3f5f\",\"gridcolor\":\"white\",\"linecolor\":\"white\",\"minorgridcolor\":\"white\",\"startlinecolor\":\"#2a3f5f\"},\"type\":\"carpet\"}],\"choropleth\":[{\"colorbar\":{\"outlinewidth\":0,\"ticks\":\"\"},\"type\":\"choropleth\"}],\"contour\":[{\"colorbar\":{\"outlinewidth\":0,\"ticks\":\"\"},\"colorscale\":[[0.0,\"#0d0887\"],[0.1111111111111111,\"#46039f\"],[0.2222222222222222,\"#7201a8\"],[0.3333333333333333,\"#9c179e\"],[0.4444444444444444,\"#bd3786\"],[0.5555555555555556,\"#d8576b\"],[0.6666666666666666,\"#ed7953\"],[0.7777777777777778,\"#fb9f3a\"],[0.8888888888888888,\"#fdca26\"],[1.0,\"#f0f921\"]],\"type\":\"contour\"}],\"contourcarpet\":[{\"colorbar\":{\"outlinewidth\":0,\"ticks\":\"\"},\"type\":\"contourcarpet\"}],\"heatmap\":[{\"colorbar\":{\"outlinewidth\":0,\"ticks\":\"\"},\"colorscale\":[[0.0,\"#0d0887\"],[0.1111111111111111,\"#46039f\"],[0.2222222222222222,\"#7201a8\"],[0.3333333333333333,\"#9c179e\"],[0.4444444444444444,\"#bd3786\"],[0.5555555555555556,\"#d8576b\"],[0.6666666666666666,\"#ed7953\"],[0.7777777777777778,\"#fb9f3a\"],[0.8888888888888888,\"#fdca26\"],[1.0,\"#f0f921\"]],\"type\":\"heatmap\"}],\"heatmapgl\":[{\"colorbar\":{\"outlinewidth\":0,\"ticks\":\"\"},\"colorscale\":[[0.0,\"#0d0887\"],[0.1111111111111111,\"#46039f\"],[0.2222222222222222,\"#7201a8\"],[0.3333333333333333,\"#9c179e\"],[0.4444444444444444,\"#bd3786\"],[0.5555555555555556,\"#d8576b\"],[0.6666666666666666,\"#ed7953\"],[0.7777777777777778,\"#fb9f3a\"],[0.8888888888888888,\"#fdca26\"],[1.0,\"#f0f921\"]],\"type\":\"heatmapgl\"}],\"histogram\":[{\"marker\":{\"pattern\":{\"fillmode\":\"overlay\",\"size\":10,\"solidity\":0.2}},\"type\":\"histogram\"}],\"histogram2d\":[{\"colorbar\":{\"outlinewidth\":0,\"ticks\":\"\"},\"colorscale\":[[0.0,\"#0d0887\"],[0.1111111111111111,\"#46039f\"],[0.2222222222222222,\"#7201a8\"],[0.3333333333333333,\"#9c179e\"],[0.4444444444444444,\"#bd3786\"],[0.5555555555555556,\"#d8576b\"],[0.6666666666666666,\"#ed7953\"],[0.7777777777777778,\"#fb9f3a\"],[0.8888888888888888,\"#fdca26\"],[1.0,\"#f0f921\"]],\"type\":\"histogram2d\"}],\"histogram2dcontour\":[{\"colorbar\":{\"outlinewidth\":0,\"ticks\":\"\"},\"colorscale\":[[0.0,\"#0d0887\"],[0.1111111111111111,\"#46039f\"],[0.2222222222222222,\"#7201a8\"],[0.3333333333333333,\"#9c179e\"],[0.4444444444444444,\"#bd3786\"],[0.5555555555555556,\"#d8576b\"],[0.6666666666666666,\"#ed7953\"],[0.7777777777777778,\"#fb9f3a\"],[0.8888888888888888,\"#fdca26\"],[1.0,\"#f0f921\"]],\"type\":\"histogram2dcontour\"}],\"mesh3d\":[{\"colorbar\":{\"outlinewidth\":0,\"ticks\":\"\"},\"type\":\"mesh3d\"}],\"parcoords\":[{\"line\":{\"colorbar\":{\"outlinewidth\":0,\"ticks\":\"\"}},\"type\":\"parcoords\"}],\"pie\":[{\"automargin\":true,\"type\":\"pie\"}],\"scatter\":[{\"marker\":{\"colorbar\":{\"outlinewidth\":0,\"ticks\":\"\"}},\"type\":\"scatter\"}],\"scatter3d\":[{\"line\":{\"colorbar\":{\"outlinewidth\":0,\"ticks\":\"\"}},\"marker\":{\"colorbar\":{\"outlinewidth\":0,\"ticks\":\"\"}},\"type\":\"scatter3d\"}],\"scattercarpet\":[{\"marker\":{\"colorbar\":{\"outlinewidth\":0,\"ticks\":\"\"}},\"type\":\"scattercarpet\"}],\"scattergeo\":[{\"marker\":{\"colorbar\":{\"outlinewidth\":0,\"ticks\":\"\"}},\"type\":\"scattergeo\"}],\"scattergl\":[{\"marker\":{\"colorbar\":{\"outlinewidth\":0,\"ticks\":\"\"}},\"type\":\"scattergl\"}],\"scattermapbox\":[{\"marker\":{\"colorbar\":{\"outlinewidth\":0,\"ticks\":\"\"}},\"type\":\"scattermapbox\"}],\"scatterpolar\":[{\"marker\":{\"colorbar\":{\"outlinewidth\":0,\"ticks\":\"\"}},\"type\":\"scatterpolar\"}],\"scatterpolargl\":[{\"marker\":{\"colorbar\":{\"outlinewidth\":0,\"ticks\":\"\"}},\"type\":\"scatterpolargl\"}],\"scatterternary\":[{\"marker\":{\"colorbar\":{\"outlinewidth\":0,\"ticks\":\"\"}},\"type\":\"scatterternary\"}],\"surface\":[{\"colorbar\":{\"outlinewidth\":0,\"ticks\":\"\"},\"colorscale\":[[0.0,\"#0d0887\"],[0.1111111111111111,\"#46039f\"],[0.2222222222222222,\"#7201a8\"],[0.3333333333333333,\"#9c179e\"],[0.4444444444444444,\"#bd3786\"],[0.5555555555555556,\"#d8576b\"],[0.6666666666666666,\"#ed7953\"],[0.7777777777777778,\"#fb9f3a\"],[0.8888888888888888,\"#fdca26\"],[1.0,\"#f0f921\"]],\"type\":\"surface\"}],\"table\":[{\"cells\":{\"fill\":{\"color\":\"#EBF0F8\"},\"line\":{\"color\":\"white\"}},\"header\":{\"fill\":{\"color\":\"#C8D4E3\"},\"line\":{\"color\":\"white\"}},\"type\":\"table\"}]},\"layout\":{\"annotationdefaults\":{\"arrowcolor\":\"#2a3f5f\",\"arrowhead\":0,\"arrowwidth\":1},\"autotypenumbers\":\"strict\",\"coloraxis\":{\"colorbar\":{\"outlinewidth\":0,\"ticks\":\"\"}},\"colorscale\":{\"diverging\":[[0,\"#8e0152\"],[0.1,\"#c51b7d\"],[0.2,\"#de77ae\"],[0.3,\"#f1b6da\"],[0.4,\"#fde0ef\"],[0.5,\"#f7f7f7\"],[0.6,\"#e6f5d0\"],[0.7,\"#b8e186\"],[0.8,\"#7fbc41\"],[0.9,\"#4d9221\"],[1,\"#276419\"]],\"sequential\":[[0.0,\"#0d0887\"],[0.1111111111111111,\"#46039f\"],[0.2222222222222222,\"#7201a8\"],[0.3333333333333333,\"#9c179e\"],[0.4444444444444444,\"#bd3786\"],[0.5555555555555556,\"#d8576b\"],[0.6666666666666666,\"#ed7953\"],[0.7777777777777778,\"#fb9f3a\"],[0.8888888888888888,\"#fdca26\"],[1.0,\"#f0f921\"]],\"sequentialminus\":[[0.0,\"#0d0887\"],[0.1111111111111111,\"#46039f\"],[0.2222222222222222,\"#7201a8\"],[0.3333333333333333,\"#9c179e\"],[0.4444444444444444,\"#bd3786\"],[0.5555555555555556,\"#d8576b\"],[0.6666666666666666,\"#ed7953\"],[0.7777777777777778,\"#fb9f3a\"],[0.8888888888888888,\"#fdca26\"],[1.0,\"#f0f921\"]]},\"colorway\":[\"#636efa\",\"#EF553B\",\"#00cc96\",\"#ab63fa\",\"#FFA15A\",\"#19d3f3\",\"#FF6692\",\"#B6E880\",\"#FF97FF\",\"#FECB52\"],\"font\":{\"color\":\"#2a3f5f\"},\"geo\":{\"bgcolor\":\"white\",\"lakecolor\":\"white\",\"landcolor\":\"#E5ECF6\",\"showlakes\":true,\"showland\":true,\"subunitcolor\":\"white\"},\"hoverlabel\":{\"align\":\"left\"},\"hovermode\":\"closest\",\"mapbox\":{\"style\":\"light\"},\"paper_bgcolor\":\"white\",\"plot_bgcolor\":\"#E5ECF6\",\"polar\":{\"angularaxis\":{\"gridcolor\":\"white\",\"linecolor\":\"white\",\"ticks\":\"\"},\"bgcolor\":\"#E5ECF6\",\"radialaxis\":{\"gridcolor\":\"white\",\"linecolor\":\"white\",\"ticks\":\"\"}},\"scene\":{\"xaxis\":{\"backgroundcolor\":\"#E5ECF6\",\"gridcolor\":\"white\",\"gridwidth\":2,\"linecolor\":\"white\",\"showbackground\":true,\"ticks\":\"\",\"zerolinecolor\":\"white\"},\"yaxis\":{\"backgroundcolor\":\"#E5ECF6\",\"gridcolor\":\"white\",\"gridwidth\":2,\"linecolor\":\"white\",\"showbackground\":true,\"ticks\":\"\",\"zerolinecolor\":\"white\"},\"zaxis\":{\"backgroundcolor\":\"#E5ECF6\",\"gridcolor\":\"white\",\"gridwidth\":2,\"linecolor\":\"white\",\"showbackground\":true,\"ticks\":\"\",\"zerolinecolor\":\"white\"}},\"shapedefaults\":{\"line\":{\"color\":\"#2a3f5f\"}},\"ternary\":{\"aaxis\":{\"gridcolor\":\"white\",\"linecolor\":\"white\",\"ticks\":\"\"},\"baxis\":{\"gridcolor\":\"white\",\"linecolor\":\"white\",\"ticks\":\"\"},\"bgcolor\":\"#E5ECF6\",\"caxis\":{\"gridcolor\":\"white\",\"linecolor\":\"white\",\"ticks\":\"\"}},\"title\":{\"x\":0.05},\"xaxis\":{\"automargin\":true,\"gridcolor\":\"white\",\"linecolor\":\"white\",\"ticks\":\"\",\"title\":{\"standoff\":15},\"zerolinecolor\":\"white\",\"zerolinewidth\":2},\"yaxis\":{\"automargin\":true,\"gridcolor\":\"white\",\"linecolor\":\"white\",\"ticks\":\"\",\"title\":{\"standoff\":15},\"zerolinecolor\":\"white\",\"zerolinewidth\":2}}},\"xaxis\":{\"anchor\":\"y\",\"domain\":[0.0,1.0],\"title\":{\"text\":\"Data da Compra\"}},\"yaxis\":{\"anchor\":\"x\",\"domain\":[0.0,1.0],\"title\":{\"text\":\"Pre\\u00e7o do BTC (USD)\"}},\"legend\":{\"tracegroupgap\":0},\"title\":{\"text\":\"Evolu\\u00e7\\u00e3o do Pre\\u00e7o do Bitcoin ao longo do Tempo\"}},                        {\"responsive\": true}                    )                };                            </script>        </div>\n",
       "</body>\n",
       "</html>"
      ]
     },
     "metadata": {
      "application/vnd.databricks.v1+output": {
       "addedWidgets": {},
       "arguments": {},
       "data": "<html>\n<head><meta charset=\"utf-8\" /></head>\n<body>\n    <div>            <script src=\"https://cdnjs.cloudflare.com/ajax/libs/mathjax/2.7.5/MathJax.js?config=TeX-AMS-MML_SVG\"></script><script type=\"text/javascript\">if (window.MathJax) {MathJax.Hub.Config({SVG: {font: \"STIX-Web\"}});}</script>                <script type=\"text/javascript\">window.PlotlyConfig = {MathJaxConfig: 'local'};</script>\n        <script src=\"https://cdn.plot.ly/plotly-2.9.0.min.js\"></script>                <div id=\"ea593548-c170-4ae5-b9a2-1d90cf1e6acf\" class=\"plotly-graph-div\" style=\"height:100%; width:100%;\"></div>            <script type=\"text/javascript\">                                    window.PLOTLYENV=window.PLOTLYENV || {};                                    if (document.getElementById(\"ea593548-c170-4ae5-b9a2-1d90cf1e6acf\")) {                    Plotly.newPlot(                        \"ea593548-c170-4ae5-b9a2-1d90cf1e6acf\",                        [{\"hovertemplate\":\"Data da Compra=%{x}<br>Pre\\u00e7o do BTC (USD)=%{y}<extra></extra>\",\"legendgroup\":\"\",\"line\":{\"color\":\"#636efa\",\"dash\":\"solid\"},\"marker\":{\"symbol\":\"circle\"},\"mode\":\"lines+markers\",\"name\":\"\",\"orientation\":\"v\",\"showlegend\":false,\"x\":[\"2025-01-26T00:00:00\",\"2024-12-09T00:00:00\",\"2024-09-26T00:00:00\",\"2024-09-19T00:00:00\",\"2024-08-19T00:00:00\",\"2024-08-03T00:00:00\",\"2024-07-21T00:00:00\",\"2024-07-14T00:00:00\",\"2024-07-08T00:00:00\",\"2024-06-01T00:00:00\",\"2024-05-08T00:00:00\",\"2024-04-08T00:00:00\",\"2024-03-18T00:00:00\",\"2024-03-04T00:00:00\",\"2024-01-19T00:00:00\",\"2024-01-06T00:00:00\",\"2023-12-12T00:00:00\",\"2023-10-31T00:00:00\",\"2023-08-16T00:00:00\",\"2023-07-23T00:00:00\",\"2023-07-01T00:00:00\",\"2023-06-23T00:00:00\",\"2023-05-28T00:00:00\",\"2023-05-23T00:00:00\",\"2023-05-13T00:00:00\",\"2023-05-13T00:00:00\",\"2023-05-05T00:00:00\",\"2023-04-26T00:00:00\",\"2023-04-18T00:00:00\",\"2023-03-27T00:00:00\",\"2023-02-11T00:00:00\",\"2023-01-18T00:00:00\",\"2023-01-09T00:00:00\",\"2022-12-28T00:00:00\",\"2022-12-22T00:00:00\",\"2022-12-13T00:00:00\",\"2022-12-02T00:00:00\",\"2022-10-21T00:00:00\",\"2022-09-19T00:00:00\",\"2022-08-22T00:00:00\",\"2022-06-25T00:00:00\",\"2022-06-14T00:00:00\",\"2022-05-01T00:00:00\",\"2022-04-22T00:00:00\",\"2022-03-10T00:00:00\",\"2022-02-25T00:00:00\",\"2022-02-02T00:00:00\",\"2022-01-12T00:00:00\",\"2021-12-21T00:00:00\",\"2021-08-11T00:00:00\",\"2021-04-13T00:00:00\",\"2021-04-06T00:00:00\",\"2021-04-04T00:00:00\",\"2021-03-31T00:00:00\",\"2021-02-03T00:00:00\",\"2021-01-22T00:00:00\",\"2020-11-30T00:00:00\",\"2020-11-09T00:00:00\",\"2020-10-25T00:00:00\",\"2020-07-16T00:00:00\",\"2020-07-08T00:00:00\",\"2020-06-13T00:00:00\",\"2020-05-13T00:00:00\",\"2020-03-14T00:00:00\",\"2020-02-14T00:00:00\",\"2019-12-24T00:00:00\",\"2019-12-23T00:00:00\",\"2019-10-27T00:00:00\",\"2019-10-08T00:00:00\",\"2019-10-01T00:00:00\",\"2019-09-02T00:00:00\",\"2019-08-27T00:00:00\",\"2019-08-22T00:00:00\",\"2019-08-01T00:00:00\",\"2019-06-15T00:00:00\",\"2019-05-26T00:00:00\",\"2019-05-24T00:00:00\",\"2019-05-18T00:00:00\",\"2019-04-17T00:00:00\",\"2019-02-17T00:00:00\",\"2019-02-01T00:00:00\",\"2019-01-02T00:00:00\",\"2018-11-06T00:00:00\",\"2018-10-24T00:00:00\",\"2018-10-16T00:00:00\",\"2018-09-29T00:00:00\",\"2018-03-26T00:00:00\",\"2018-03-24T00:00:00\",\"2018-02-23T00:00:00\",\"2018-02-06T00:00:00\",\"2018-02-02T00:00:00\",\"2017-11-23T00:00:00\",\"2017-10-25T00:00:00\",\"2017-09-20T00:00:00\",\"2017-09-06T00:00:00\",\"2017-08-21T00:00:00\",\"2017-08-18T00:00:00\",\"2017-05-09T00:00:00\",\"2017-03-02T00:00:00\",\"2017-02-17T00:00:00\"],\"xaxis\":\"x\",\"y\":[526338.91,663110.3,620115.11,655694.97,642216.0,674066.77,665345.55,664987.81,626697.78,622789.83,649923.13,607140.25,645885.19,611133.11,661851.98,629844.48,206234.69,243651.55,315014.98,317098.82,415435.9,241532.35,364387.73,258788.91,460437.64,483023.82,347290.47,498750.86,243628.05,391798.82,314246.34,222339.79,420280.9,353320.58,365067.02,413917.92,399178.57,264475.57,277925.07,414203.88,126232.56,381127.44,422991.58,378399.04,199938.06,291592.99,121038.5,164858.34,577134.24,358895.79,441368.59,237903.11,232766.61,110432.13,164098.62,200365.29,111660.49,92260.82,57808.65,78081.54,54001.57,66761.66,82005.72,79610.52,106660.13,47705.01,84856.27,87975.49,72149.23,35624.75,39493.41,31641.78,48264.29,61190.81,36286.26,80525.53,55411.93,85023.94,66880.82,40769.55,24796.49,55537.72,56591.69,70386.6,84039.99,42516.98,37144.35,45384.44,31976.14,28350.6,80672.52,112059.4,7155.12,47922.61,55925.04,125136.58,34401.96,112594.79,126155.54,90355.14],\"yaxis\":\"y\",\"type\":\"scatter\"}],                        {\"template\":{\"data\":{\"bar\":[{\"error_x\":{\"color\":\"#2a3f5f\"},\"error_y\":{\"color\":\"#2a3f5f\"},\"marker\":{\"line\":{\"color\":\"#E5ECF6\",\"width\":0.5},\"pattern\":{\"fillmode\":\"overlay\",\"size\":10,\"solidity\":0.2}},\"type\":\"bar\"}],\"barpolar\":[{\"marker\":{\"line\":{\"color\":\"#E5ECF6\",\"width\":0.5},\"pattern\":{\"fillmode\":\"overlay\",\"size\":10,\"solidity\":0.2}},\"type\":\"barpolar\"}],\"carpet\":[{\"aaxis\":{\"endlinecolor\":\"#2a3f5f\",\"gridcolor\":\"white\",\"linecolor\":\"white\",\"minorgridcolor\":\"white\",\"startlinecolor\":\"#2a3f5f\"},\"baxis\":{\"endlinecolor\":\"#2a3f5f\",\"gridcolor\":\"white\",\"linecolor\":\"white\",\"minorgridcolor\":\"white\",\"startlinecolor\":\"#2a3f5f\"},\"type\":\"carpet\"}],\"choropleth\":[{\"colorbar\":{\"outlinewidth\":0,\"ticks\":\"\"},\"type\":\"choropleth\"}],\"contour\":[{\"colorbar\":{\"outlinewidth\":0,\"ticks\":\"\"},\"colorscale\":[[0.0,\"#0d0887\"],[0.1111111111111111,\"#46039f\"],[0.2222222222222222,\"#7201a8\"],[0.3333333333333333,\"#9c179e\"],[0.4444444444444444,\"#bd3786\"],[0.5555555555555556,\"#d8576b\"],[0.6666666666666666,\"#ed7953\"],[0.7777777777777778,\"#fb9f3a\"],[0.8888888888888888,\"#fdca26\"],[1.0,\"#f0f921\"]],\"type\":\"contour\"}],\"contourcarpet\":[{\"colorbar\":{\"outlinewidth\":0,\"ticks\":\"\"},\"type\":\"contourcarpet\"}],\"heatmap\":[{\"colorbar\":{\"outlinewidth\":0,\"ticks\":\"\"},\"colorscale\":[[0.0,\"#0d0887\"],[0.1111111111111111,\"#46039f\"],[0.2222222222222222,\"#7201a8\"],[0.3333333333333333,\"#9c179e\"],[0.4444444444444444,\"#bd3786\"],[0.5555555555555556,\"#d8576b\"],[0.6666666666666666,\"#ed7953\"],[0.7777777777777778,\"#fb9f3a\"],[0.8888888888888888,\"#fdca26\"],[1.0,\"#f0f921\"]],\"type\":\"heatmap\"}],\"heatmapgl\":[{\"colorbar\":{\"outlinewidth\":0,\"ticks\":\"\"},\"colorscale\":[[0.0,\"#0d0887\"],[0.1111111111111111,\"#46039f\"],[0.2222222222222222,\"#7201a8\"],[0.3333333333333333,\"#9c179e\"],[0.4444444444444444,\"#bd3786\"],[0.5555555555555556,\"#d8576b\"],[0.6666666666666666,\"#ed7953\"],[0.7777777777777778,\"#fb9f3a\"],[0.8888888888888888,\"#fdca26\"],[1.0,\"#f0f921\"]],\"type\":\"heatmapgl\"}],\"histogram\":[{\"marker\":{\"pattern\":{\"fillmode\":\"overlay\",\"size\":10,\"solidity\":0.2}},\"type\":\"histogram\"}],\"histogram2d\":[{\"colorbar\":{\"outlinewidth\":0,\"ticks\":\"\"},\"colorscale\":[[0.0,\"#0d0887\"],[0.1111111111111111,\"#46039f\"],[0.2222222222222222,\"#7201a8\"],[0.3333333333333333,\"#9c179e\"],[0.4444444444444444,\"#bd3786\"],[0.5555555555555556,\"#d8576b\"],[0.6666666666666666,\"#ed7953\"],[0.7777777777777778,\"#fb9f3a\"],[0.8888888888888888,\"#fdca26\"],[1.0,\"#f0f921\"]],\"type\":\"histogram2d\"}],\"histogram2dcontour\":[{\"colorbar\":{\"outlinewidth\":0,\"ticks\":\"\"},\"colorscale\":[[0.0,\"#0d0887\"],[0.1111111111111111,\"#46039f\"],[0.2222222222222222,\"#7201a8\"],[0.3333333333333333,\"#9c179e\"],[0.4444444444444444,\"#bd3786\"],[0.5555555555555556,\"#d8576b\"],[0.6666666666666666,\"#ed7953\"],[0.7777777777777778,\"#fb9f3a\"],[0.8888888888888888,\"#fdca26\"],[1.0,\"#f0f921\"]],\"type\":\"histogram2dcontour\"}],\"mesh3d\":[{\"colorbar\":{\"outlinewidth\":0,\"ticks\":\"\"},\"type\":\"mesh3d\"}],\"parcoords\":[{\"line\":{\"colorbar\":{\"outlinewidth\":0,\"ticks\":\"\"}},\"type\":\"parcoords\"}],\"pie\":[{\"automargin\":true,\"type\":\"pie\"}],\"scatter\":[{\"marker\":{\"colorbar\":{\"outlinewidth\":0,\"ticks\":\"\"}},\"type\":\"scatter\"}],\"scatter3d\":[{\"line\":{\"colorbar\":{\"outlinewidth\":0,\"ticks\":\"\"}},\"marker\":{\"colorbar\":{\"outlinewidth\":0,\"ticks\":\"\"}},\"type\":\"scatter3d\"}],\"scattercarpet\":[{\"marker\":{\"colorbar\":{\"outlinewidth\":0,\"ticks\":\"\"}},\"type\":\"scattercarpet\"}],\"scattergeo\":[{\"marker\":{\"colorbar\":{\"outlinewidth\":0,\"ticks\":\"\"}},\"type\":\"scattergeo\"}],\"scattergl\":[{\"marker\":{\"colorbar\":{\"outlinewidth\":0,\"ticks\":\"\"}},\"type\":\"scattergl\"}],\"scattermapbox\":[{\"marker\":{\"colorbar\":{\"outlinewidth\":0,\"ticks\":\"\"}},\"type\":\"scattermapbox\"}],\"scatterpolar\":[{\"marker\":{\"colorbar\":{\"outlinewidth\":0,\"ticks\":\"\"}},\"type\":\"scatterpolar\"}],\"scatterpolargl\":[{\"marker\":{\"colorbar\":{\"outlinewidth\":0,\"ticks\":\"\"}},\"type\":\"scatterpolargl\"}],\"scatterternary\":[{\"marker\":{\"colorbar\":{\"outlinewidth\":0,\"ticks\":\"\"}},\"type\":\"scatterternary\"}],\"surface\":[{\"colorbar\":{\"outlinewidth\":0,\"ticks\":\"\"},\"colorscale\":[[0.0,\"#0d0887\"],[0.1111111111111111,\"#46039f\"],[0.2222222222222222,\"#7201a8\"],[0.3333333333333333,\"#9c179e\"],[0.4444444444444444,\"#bd3786\"],[0.5555555555555556,\"#d8576b\"],[0.6666666666666666,\"#ed7953\"],[0.7777777777777778,\"#fb9f3a\"],[0.8888888888888888,\"#fdca26\"],[1.0,\"#f0f921\"]],\"type\":\"surface\"}],\"table\":[{\"cells\":{\"fill\":{\"color\":\"#EBF0F8\"},\"line\":{\"color\":\"white\"}},\"header\":{\"fill\":{\"color\":\"#C8D4E3\"},\"line\":{\"color\":\"white\"}},\"type\":\"table\"}]},\"layout\":{\"annotationdefaults\":{\"arrowcolor\":\"#2a3f5f\",\"arrowhead\":0,\"arrowwidth\":1},\"autotypenumbers\":\"strict\",\"coloraxis\":{\"colorbar\":{\"outlinewidth\":0,\"ticks\":\"\"}},\"colorscale\":{\"diverging\":[[0,\"#8e0152\"],[0.1,\"#c51b7d\"],[0.2,\"#de77ae\"],[0.3,\"#f1b6da\"],[0.4,\"#fde0ef\"],[0.5,\"#f7f7f7\"],[0.6,\"#e6f5d0\"],[0.7,\"#b8e186\"],[0.8,\"#7fbc41\"],[0.9,\"#4d9221\"],[1,\"#276419\"]],\"sequential\":[[0.0,\"#0d0887\"],[0.1111111111111111,\"#46039f\"],[0.2222222222222222,\"#7201a8\"],[0.3333333333333333,\"#9c179e\"],[0.4444444444444444,\"#bd3786\"],[0.5555555555555556,\"#d8576b\"],[0.6666666666666666,\"#ed7953\"],[0.7777777777777778,\"#fb9f3a\"],[0.8888888888888888,\"#fdca26\"],[1.0,\"#f0f921\"]],\"sequentialminus\":[[0.0,\"#0d0887\"],[0.1111111111111111,\"#46039f\"],[0.2222222222222222,\"#7201a8\"],[0.3333333333333333,\"#9c179e\"],[0.4444444444444444,\"#bd3786\"],[0.5555555555555556,\"#d8576b\"],[0.6666666666666666,\"#ed7953\"],[0.7777777777777778,\"#fb9f3a\"],[0.8888888888888888,\"#fdca26\"],[1.0,\"#f0f921\"]]},\"colorway\":[\"#636efa\",\"#EF553B\",\"#00cc96\",\"#ab63fa\",\"#FFA15A\",\"#19d3f3\",\"#FF6692\",\"#B6E880\",\"#FF97FF\",\"#FECB52\"],\"font\":{\"color\":\"#2a3f5f\"},\"geo\":{\"bgcolor\":\"white\",\"lakecolor\":\"white\",\"landcolor\":\"#E5ECF6\",\"showlakes\":true,\"showland\":true,\"subunitcolor\":\"white\"},\"hoverlabel\":{\"align\":\"left\"},\"hovermode\":\"closest\",\"mapbox\":{\"style\":\"light\"},\"paper_bgcolor\":\"white\",\"plot_bgcolor\":\"#E5ECF6\",\"polar\":{\"angularaxis\":{\"gridcolor\":\"white\",\"linecolor\":\"white\",\"ticks\":\"\"},\"bgcolor\":\"#E5ECF6\",\"radialaxis\":{\"gridcolor\":\"white\",\"linecolor\":\"white\",\"ticks\":\"\"}},\"scene\":{\"xaxis\":{\"backgroundcolor\":\"#E5ECF6\",\"gridcolor\":\"white\",\"gridwidth\":2,\"linecolor\":\"white\",\"showbackground\":true,\"ticks\":\"\",\"zerolinecolor\":\"white\"},\"yaxis\":{\"backgroundcolor\":\"#E5ECF6\",\"gridcolor\":\"white\",\"gridwidth\":2,\"linecolor\":\"white\",\"showbackground\":true,\"ticks\":\"\",\"zerolinecolor\":\"white\"},\"zaxis\":{\"backgroundcolor\":\"#E5ECF6\",\"gridcolor\":\"white\",\"gridwidth\":2,\"linecolor\":\"white\",\"showbackground\":true,\"ticks\":\"\",\"zerolinecolor\":\"white\"}},\"shapedefaults\":{\"line\":{\"color\":\"#2a3f5f\"}},\"ternary\":{\"aaxis\":{\"gridcolor\":\"white\",\"linecolor\":\"white\",\"ticks\":\"\"},\"baxis\":{\"gridcolor\":\"white\",\"linecolor\":\"white\",\"ticks\":\"\"},\"bgcolor\":\"#E5ECF6\",\"caxis\":{\"gridcolor\":\"white\",\"linecolor\":\"white\",\"ticks\":\"\"}},\"title\":{\"x\":0.05},\"xaxis\":{\"automargin\":true,\"gridcolor\":\"white\",\"linecolor\":\"white\",\"ticks\":\"\",\"title\":{\"standoff\":15},\"zerolinecolor\":\"white\",\"zerolinewidth\":2},\"yaxis\":{\"automargin\":true,\"gridcolor\":\"white\",\"linecolor\":\"white\",\"ticks\":\"\",\"title\":{\"standoff\":15},\"zerolinecolor\":\"white\",\"zerolinewidth\":2}}},\"xaxis\":{\"anchor\":\"y\",\"domain\":[0.0,1.0],\"title\":{\"text\":\"Data da Compra\"}},\"yaxis\":{\"anchor\":\"x\",\"domain\":[0.0,1.0],\"title\":{\"text\":\"Pre\\u00e7o do BTC (USD)\"}},\"legend\":{\"tracegroupgap\":0},\"title\":{\"text\":\"Evolu\\u00e7\\u00e3o do Pre\\u00e7o do Bitcoin ao longo do Tempo\"}},                        {\"responsive\": true}                    )                };                            </script>        </div>\n</body>\n</html>",
       "datasetInfos": [],
       "metadata": {},
       "removedWidgets": [],
       "textData": null,
       "type": "htmlSandbox"
      }
     },
     "output_type": "display_data"
    }
   ],
   "source": [
    "import plotly.express as px\n",
    "import pandas as pd\n",
    "\n",
    "# Convertendo a coluna \"mes_compra\" para string\n",
    "df[\"mes_compra_str\"] = df[\"mes_compra\"].astype(str)\n",
    "\n",
    "# Gráfico 1: Total de Compra por Mês\n",
    "fig1 = px.bar(df.groupby(\"mes_compra_str\")[\"total_de_compras\"].sum().reset_index(),\n",
    "              x=\"mes_compra_str\",\n",
    "              y=\"total_de_compras\",\n",
    "              title=\"Total de Compra por Mês\",\n",
    "              labels={\"mes_compra_str\": \"Mês\", \"total_de_compras\": \"Total de Compra (USD)\"},\n",
    "              text_auto=True)\n",
    "fig1.show()\n",
    "\n",
    "# Gráfico 2: Distribuição de Lucro vs Prejuízo\n",
    "fig2 = px.pie(df, names=\"resultado_operacao\",\n",
    "              title=\"Distribuição de Lucro vs Prejuízo\",\n",
    "              hole=0.3)\n",
    "fig2.show()\n",
    "\n",
    "# Gráfico 3: Evolução do Preço do Bitcoin ao longo do Tempo\n",
    "fig3 = px.line(df, x=\"data_compra\", y=\"preco_btc\",\n",
    "               title=\"Evolução do Preço do Bitcoin ao longo do Tempo\",\n",
    "               labels={\"data_compra\": \"Data da Compra\", \"preco_btc\": \"Preço do BTC (USD)\"},\n",
    "               markers=True)\n",
    "fig3.show()"
   ]
  }
 ],
 "metadata": {
  "application/vnd.databricks.v1+notebook": {
   "computePreferences": null,
   "dashboards": [],
   "environmentMetadata": {
    "base_environment": "",
    "environment_version": "1"
   },
   "inputWidgetPreferences": null,
   "language": "python",
   "notebookMetadata": {
    "mostRecentlyExecutedCommandWithImplicitDF": {
     "commandId": 946484660070200,
     "dataframes": [
      "_sqldf"
     ]
    },
    "pythonIndentUnit": 4
   },
   "notebookName": "analise_btc",
   "widgets": {}
  }
 },
 "nbformat": 4,
 "nbformat_minor": 0
}